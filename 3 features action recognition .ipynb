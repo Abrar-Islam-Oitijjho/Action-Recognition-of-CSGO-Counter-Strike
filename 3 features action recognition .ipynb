{
 "cells": [
  {
   "cell_type": "code",
   "execution_count": 1,
   "metadata": {},
   "outputs": [],
   "source": [
    "import os\n",
    "import re\n",
    "import math\n",
    "import cv2\n",
    "import pickle\n",
    "import pandas as pd\n",
    "import numpy as np\n",
    "import matplotlib.pyplot as plt\n",
    "import tensorflow as tf\n",
    "\n",
    "from tqdm import tqdm\n",
    "from glob import glob\n",
    "from tools_copy.settings import *\n",
    "from keras.models import Sequential\n",
    "from keras.preprocessing import image\n",
    "from keras.preprocessing.image import ImageDataGenerator\n",
    "from keras.layers import Dense, Dropout\n",
    "from tensorflow.keras.utils import to_categorical\n",
    "from tools_copy.train_val_test_spliter import split\n",
    "import collections"
   ]
  },
  {
   "cell_type": "code",
   "execution_count": 31,
   "metadata": {},
   "outputs": [
    {
     "name": "stdout",
     "output_type": "stream",
     "text": [
      "Splitting the ginen dataset into Train Test=0.2 Validation=0.2\n",
      "Done\n"
     ]
    }
   ],
   "source": [
    "split()"
   ]
  },
  {
   "cell_type": "code",
   "execution_count": 32,
   "metadata": {},
   "outputs": [],
   "source": [
    "train = pd. read_csv(os.path.join(dataset_path, \"train.csv\"))\n",
    "test = pd. read_csv(os.path.join(dataset_path, \"test.csv\"))\n",
    "val = pd. read_csv(os.path.join(dataset_path, \"val.csv\"))"
   ]
  },
  {
   "cell_type": "code",
   "execution_count": 33,
   "metadata": {},
   "outputs": [
    {
     "data": {
      "text/html": [
       "<div>\n",
       "<style scoped>\n",
       "    .dataframe tbody tr th:only-of-type {\n",
       "        vertical-align: middle;\n",
       "    }\n",
       "\n",
       "    .dataframe tbody tr th {\n",
       "        vertical-align: top;\n",
       "    }\n",
       "\n",
       "    .dataframe thead th {\n",
       "        text-align: right;\n",
       "    }\n",
       "</style>\n",
       "<table border=\"1\" class=\"dataframe\">\n",
       "  <thead>\n",
       "    <tr style=\"text-align: right;\">\n",
       "      <th></th>\n",
       "      <th>Video_url</th>\n",
       "      <th>action</th>\n",
       "    </tr>\n",
       "  </thead>\n",
       "  <tbody>\n",
       "    <tr>\n",
       "      <th>0</th>\n",
       "      <td>E:\\Project 103\\Trimmed Data\\kill/Kill_13.mp4</td>\n",
       "      <td>kill</td>\n",
       "    </tr>\n",
       "    <tr>\n",
       "      <th>1</th>\n",
       "      <td>E:\\Project 103\\Trimmed Data\\smoke/smoke_25 .mp4</td>\n",
       "      <td>smoke</td>\n",
       "    </tr>\n",
       "    <tr>\n",
       "      <th>2</th>\n",
       "      <td>E:\\Project 103\\Trimmed Data\\kill/Kill_34.mp4</td>\n",
       "      <td>kill</td>\n",
       "    </tr>\n",
       "    <tr>\n",
       "      <th>3</th>\n",
       "      <td>E:\\Project 103\\Trimmed Data\\smoke/smoke_33 .mp4</td>\n",
       "      <td>smoke</td>\n",
       "    </tr>\n",
       "    <tr>\n",
       "      <th>4</th>\n",
       "      <td>E:\\Project 103\\Trimmed Data\\smoke/smoke_106 .mp4</td>\n",
       "      <td>smoke</td>\n",
       "    </tr>\n",
       "  </tbody>\n",
       "</table>\n",
       "</div>"
      ],
      "text/plain": [
       "                                          Video_url action\n",
       "0      E:\\Project 103\\Trimmed Data\\kill/Kill_13.mp4   kill\n",
       "1   E:\\Project 103\\Trimmed Data\\smoke/smoke_25 .mp4  smoke\n",
       "2      E:\\Project 103\\Trimmed Data\\kill/Kill_34.mp4   kill\n",
       "3   E:\\Project 103\\Trimmed Data\\smoke/smoke_33 .mp4  smoke\n",
       "4  E:\\Project 103\\Trimmed Data\\smoke/smoke_106 .mp4  smoke"
      ]
     },
     "execution_count": 33,
     "metadata": {},
     "output_type": "execute_result"
    }
   ],
   "source": [
    "train.head()"
   ]
  },
  {
   "cell_type": "code",
   "execution_count": 34,
   "metadata": {},
   "outputs": [
    {
     "data": {
      "text/html": [
       "<div>\n",
       "<style scoped>\n",
       "    .dataframe tbody tr th:only-of-type {\n",
       "        vertical-align: middle;\n",
       "    }\n",
       "\n",
       "    .dataframe tbody tr th {\n",
       "        vertical-align: top;\n",
       "    }\n",
       "\n",
       "    .dataframe thead th {\n",
       "        text-align: right;\n",
       "    }\n",
       "</style>\n",
       "<table border=\"1\" class=\"dataframe\">\n",
       "  <thead>\n",
       "    <tr style=\"text-align: right;\">\n",
       "      <th></th>\n",
       "      <th>Video_url</th>\n",
       "      <th>action</th>\n",
       "    </tr>\n",
       "  </thead>\n",
       "  <tbody>\n",
       "    <tr>\n",
       "      <th>0</th>\n",
       "      <td>E:\\Project 103\\Trimmed Data\\smoke/smoke_57 .mp4</td>\n",
       "      <td>smoke</td>\n",
       "    </tr>\n",
       "    <tr>\n",
       "      <th>1</th>\n",
       "      <td>E:\\Project 103\\Trimmed Data\\death/death_63.mp4</td>\n",
       "      <td>death</td>\n",
       "    </tr>\n",
       "    <tr>\n",
       "      <th>2</th>\n",
       "      <td>E:\\Project 103\\Trimmed Data\\kill/Kill_2.mp4</td>\n",
       "      <td>kill</td>\n",
       "    </tr>\n",
       "    <tr>\n",
       "      <th>3</th>\n",
       "      <td>E:\\Project 103\\Trimmed Data\\kill/Kill_65.mp4</td>\n",
       "      <td>kill</td>\n",
       "    </tr>\n",
       "    <tr>\n",
       "      <th>4</th>\n",
       "      <td>E:\\Project 103\\Trimmed Data\\smoke/smoke_19 .mp4</td>\n",
       "      <td>smoke</td>\n",
       "    </tr>\n",
       "  </tbody>\n",
       "</table>\n",
       "</div>"
      ],
      "text/plain": [
       "                                         Video_url action\n",
       "0  E:\\Project 103\\Trimmed Data\\smoke/smoke_57 .mp4  smoke\n",
       "1   E:\\Project 103\\Trimmed Data\\death/death_63.mp4  death\n",
       "2      E:\\Project 103\\Trimmed Data\\kill/Kill_2.mp4   kill\n",
       "3     E:\\Project 103\\Trimmed Data\\kill/Kill_65.mp4   kill\n",
       "4  E:\\Project 103\\Trimmed Data\\smoke/smoke_19 .mp4  smoke"
      ]
     },
     "execution_count": 34,
     "metadata": {},
     "output_type": "execute_result"
    }
   ],
   "source": [
    "test.head()"
   ]
  },
  {
   "cell_type": "code",
   "execution_count": 35,
   "metadata": {},
   "outputs": [
    {
     "data": {
      "text/html": [
       "<div>\n",
       "<style scoped>\n",
       "    .dataframe tbody tr th:only-of-type {\n",
       "        vertical-align: middle;\n",
       "    }\n",
       "\n",
       "    .dataframe tbody tr th {\n",
       "        vertical-align: top;\n",
       "    }\n",
       "\n",
       "    .dataframe thead th {\n",
       "        text-align: right;\n",
       "    }\n",
       "</style>\n",
       "<table border=\"1\" class=\"dataframe\">\n",
       "  <thead>\n",
       "    <tr style=\"text-align: right;\">\n",
       "      <th></th>\n",
       "      <th>Video_url</th>\n",
       "      <th>action</th>\n",
       "    </tr>\n",
       "  </thead>\n",
       "  <tbody>\n",
       "    <tr>\n",
       "      <th>0</th>\n",
       "      <td>E:\\Project 103\\Trimmed Data\\smoke/smoke_90 .mp4</td>\n",
       "      <td>smoke</td>\n",
       "    </tr>\n",
       "    <tr>\n",
       "      <th>1</th>\n",
       "      <td>E:\\Project 103\\Trimmed Data\\kill/Kill_57.mp4</td>\n",
       "      <td>kill</td>\n",
       "    </tr>\n",
       "    <tr>\n",
       "      <th>2</th>\n",
       "      <td>E:\\Project 103\\Trimmed Data\\smoke/smoke_93 .mp4</td>\n",
       "      <td>smoke</td>\n",
       "    </tr>\n",
       "    <tr>\n",
       "      <th>3</th>\n",
       "      <td>E:\\Project 103\\Trimmed Data\\smoke/smoke_65 .mp4</td>\n",
       "      <td>smoke</td>\n",
       "    </tr>\n",
       "    <tr>\n",
       "      <th>4</th>\n",
       "      <td>E:\\Project 103\\Trimmed Data\\kill/Kill_64.mp4</td>\n",
       "      <td>kill</td>\n",
       "    </tr>\n",
       "  </tbody>\n",
       "</table>\n",
       "</div>"
      ],
      "text/plain": [
       "                                         Video_url action\n",
       "0  E:\\Project 103\\Trimmed Data\\smoke/smoke_90 .mp4  smoke\n",
       "1     E:\\Project 103\\Trimmed Data\\kill/Kill_57.mp4   kill\n",
       "2  E:\\Project 103\\Trimmed Data\\smoke/smoke_93 .mp4  smoke\n",
       "3  E:\\Project 103\\Trimmed Data\\smoke/smoke_65 .mp4  smoke\n",
       "4     E:\\Project 103\\Trimmed Data\\kill/Kill_64.mp4   kill"
      ]
     },
     "execution_count": 35,
     "metadata": {},
     "output_type": "execute_result"
    }
   ],
   "source": [
    "val.head()"
   ]
  },
  {
   "cell_type": "code",
   "execution_count": 36,
   "metadata": {},
   "outputs": [
    {
     "name": "stdout",
     "output_type": "stream",
     "text": [
      "(191, 2)\n",
      "(61, 2)\n",
      "(61, 2)\n"
     ]
    }
   ],
   "source": [
    "print(train.shape)\n",
    "print(test.shape)\n",
    "print(val.shape)"
   ]
  },
  {
   "cell_type": "code",
   "execution_count": 37,
   "metadata": {},
   "outputs": [],
   "source": [
    "def convert_to_frame(data, folder_name):\n",
    "    '''\n",
    "    Generated filenames format dataset_path/folder_name/video_name_frame{number}_action.jpg\n",
    "    '''\n",
    "    directory = os.path.join(dataset_path, folder_name)\n",
    "    if not os.path.exists(directory):\n",
    "        os.makedirs(directory)\n",
    "    for i in tqdm(range(data.shape[0])):\n",
    "        video_file = data['Video_url'][i]\n",
    "        action = data['action'][i]\n",
    "        video_name_list = video_file.split('/')[-1].split('.')\n",
    "        video_name_list = video_name_list[:-1]\n",
    "        video_name = \"\"\n",
    "        for n in video_name_list:\n",
    "            video_name += n\n",
    "        # capturing the video from the given path\n",
    "        capture = cv2.VideoCapture(video_file) \n",
    "        #frame rate\n",
    "        frame_rate = capture.get(5)\n",
    "        count = 0\n",
    "        while(capture.isOpened()):\n",
    "            #current frame number\n",
    "            frame_id = capture.get(1) \n",
    "            read_correctly, frame = capture.read()\n",
    "            if not read_correctly:\n",
    "                break\n",
    "            if (frame_id % math.floor(frame_rate) == 0):\n",
    "                # storing the frames in a new folder named train_1\n",
    "                filename = directory + \"/\" + video_name + \"_frame{}_\".format(count) + action +\".jpg\"\n",
    "                count += 1\n",
    "                cv2.imwrite(filename, frame)\n",
    "        capture.release()\n",
    "    print(\"Successfully Converted\")"
   ]
  },
  {
   "cell_type": "code",
   "execution_count": 38,
   "metadata": {},
   "outputs": [
    {
     "name": "stderr",
     "output_type": "stream",
     "text": [
      "100%|████████████████████████████████████████████████████████████████████████████████| 191/191 [02:32<00:00,  1.25it/s]"
     ]
    },
    {
     "name": "stdout",
     "output_type": "stream",
     "text": [
      "Successfully Converted\n"
     ]
    },
    {
     "name": "stderr",
     "output_type": "stream",
     "text": [
      "\n"
     ]
    }
   ],
   "source": [
    "convert_to_frame(train, train_frames_path_name)"
   ]
  },
  {
   "cell_type": "code",
   "execution_count": 39,
   "metadata": {},
   "outputs": [
    {
     "name": "stderr",
     "output_type": "stream",
     "text": [
      "100%|██████████████████████████████████████████████████████████████████████████████████| 61/61 [00:43<00:00,  1.40it/s]"
     ]
    },
    {
     "name": "stdout",
     "output_type": "stream",
     "text": [
      "Successfully Converted\n"
     ]
    },
    {
     "name": "stderr",
     "output_type": "stream",
     "text": [
      "\n"
     ]
    }
   ],
   "source": [
    "convert_to_frame(val, val_frames_path_name)"
   ]
  },
  {
   "cell_type": "code",
   "execution_count": 40,
   "metadata": {},
   "outputs": [],
   "source": [
    "def create_paths_csv(directory, file_name):\n",
    "    images = os.listdir(directory)\n",
    "    images_path_list = []\n",
    "    images_action_list = [] \n",
    "    for image in images:\n",
    "        images_path_list.append(directory + image)\n",
    "        images_action_list.append(image.split('.')[0].split('_')[-1])\n",
    "    df = pd.DataFrame()\n",
    "    df['image'] = images_path_list\n",
    "    df['action'] = images_action_list\n",
    "    print(os.path.join(dataset_path, file_name+'.csv'))\n",
    "    df.to_csv(os.path.join(dataset_path, file_name+'.csv'), index=False)"
   ]
  },
  {
   "cell_type": "code",
   "execution_count": 41,
   "metadata": {},
   "outputs": [
    {
     "name": "stdout",
     "output_type": "stream",
     "text": [
      "E:\\Project 103\\Trimmed Data\\train_frames.csv\n"
     ]
    }
   ],
   "source": [
    "create_paths_csv(train_frames_path, train_frames_path_name)"
   ]
  },
  {
   "cell_type": "code",
   "execution_count": 42,
   "metadata": {},
   "outputs": [
    {
     "name": "stdout",
     "output_type": "stream",
     "text": [
      "E:\\Project 103\\Trimmed Data\\val_frames.csv\n"
     ]
    }
   ],
   "source": [
    "create_paths_csv(val_frames_path, val_frames_path_name)"
   ]
  },
  {
   "cell_type": "code",
   "execution_count": 43,
   "metadata": {},
   "outputs": [
    {
     "data": {
      "text/html": [
       "<div>\n",
       "<style scoped>\n",
       "    .dataframe tbody tr th:only-of-type {\n",
       "        vertical-align: middle;\n",
       "    }\n",
       "\n",
       "    .dataframe tbody tr th {\n",
       "        vertical-align: top;\n",
       "    }\n",
       "\n",
       "    .dataframe thead th {\n",
       "        text-align: right;\n",
       "    }\n",
       "</style>\n",
       "<table border=\"1\" class=\"dataframe\">\n",
       "  <thead>\n",
       "    <tr style=\"text-align: right;\">\n",
       "      <th></th>\n",
       "      <th>image</th>\n",
       "      <th>action</th>\n",
       "    </tr>\n",
       "  </thead>\n",
       "  <tbody>\n",
       "    <tr>\n",
       "      <th>0</th>\n",
       "      <td>E:\\Project 103\\Trimmed Data\\train_frames\\death...</td>\n",
       "      <td>death</td>\n",
       "    </tr>\n",
       "    <tr>\n",
       "      <th>1</th>\n",
       "      <td>E:\\Project 103\\Trimmed Data\\train_frames\\death...</td>\n",
       "      <td>death</td>\n",
       "    </tr>\n",
       "    <tr>\n",
       "      <th>2</th>\n",
       "      <td>E:\\Project 103\\Trimmed Data\\train_frames\\death...</td>\n",
       "      <td>death</td>\n",
       "    </tr>\n",
       "    <tr>\n",
       "      <th>3</th>\n",
       "      <td>E:\\Project 103\\Trimmed Data\\train_frames\\death...</td>\n",
       "      <td>death</td>\n",
       "    </tr>\n",
       "    <tr>\n",
       "      <th>4</th>\n",
       "      <td>E:\\Project 103\\Trimmed Data\\train_frames\\death...</td>\n",
       "      <td>death</td>\n",
       "    </tr>\n",
       "    <tr>\n",
       "      <th>...</th>\n",
       "      <td>...</td>\n",
       "      <td>...</td>\n",
       "    </tr>\n",
       "    <tr>\n",
       "      <th>502</th>\n",
       "      <td>E:\\Project 103\\Trimmed Data\\train_frames\\smoke...</td>\n",
       "      <td>smoke</td>\n",
       "    </tr>\n",
       "    <tr>\n",
       "      <th>503</th>\n",
       "      <td>E:\\Project 103\\Trimmed Data\\train_frames\\smoke...</td>\n",
       "      <td>smoke</td>\n",
       "    </tr>\n",
       "    <tr>\n",
       "      <th>504</th>\n",
       "      <td>E:\\Project 103\\Trimmed Data\\train_frames\\smoke...</td>\n",
       "      <td>smoke</td>\n",
       "    </tr>\n",
       "    <tr>\n",
       "      <th>505</th>\n",
       "      <td>E:\\Project 103\\Trimmed Data\\train_frames\\smoke...</td>\n",
       "      <td>smoke</td>\n",
       "    </tr>\n",
       "    <tr>\n",
       "      <th>506</th>\n",
       "      <td>E:\\Project 103\\Trimmed Data\\train_frames\\smoke...</td>\n",
       "      <td>smoke</td>\n",
       "    </tr>\n",
       "  </tbody>\n",
       "</table>\n",
       "<p>507 rows × 2 columns</p>\n",
       "</div>"
      ],
      "text/plain": [
       "                                                 image action\n",
       "0    E:\\Project 103\\Trimmed Data\\train_frames\\death...  death\n",
       "1    E:\\Project 103\\Trimmed Data\\train_frames\\death...  death\n",
       "2    E:\\Project 103\\Trimmed Data\\train_frames\\death...  death\n",
       "3    E:\\Project 103\\Trimmed Data\\train_frames\\death...  death\n",
       "4    E:\\Project 103\\Trimmed Data\\train_frames\\death...  death\n",
       "..                                                 ...    ...\n",
       "502  E:\\Project 103\\Trimmed Data\\train_frames\\smoke...  smoke\n",
       "503  E:\\Project 103\\Trimmed Data\\train_frames\\smoke...  smoke\n",
       "504  E:\\Project 103\\Trimmed Data\\train_frames\\smoke...  smoke\n",
       "505  E:\\Project 103\\Trimmed Data\\train_frames\\smoke...  smoke\n",
       "506  E:\\Project 103\\Trimmed Data\\train_frames\\smoke...  smoke\n",
       "\n",
       "[507 rows x 2 columns]"
      ]
     },
     "execution_count": 43,
     "metadata": {},
     "output_type": "execute_result"
    }
   ],
   "source": [
    "train_image = pd.read_csv(os.path.join(dataset_path, 'train_frames.csv'))\n",
    "train_image"
   ]
  },
  {
   "cell_type": "code",
   "execution_count": 44,
   "metadata": {},
   "outputs": [
    {
     "name": "stdout",
     "output_type": "stream",
     "text": [
      "(507, 2)\n"
     ]
    }
   ],
   "source": [
    "print(train_image.shape)"
   ]
  },
  {
   "cell_type": "code",
   "execution_count": 45,
   "metadata": {},
   "outputs": [
    {
     "data": {
      "text/html": [
       "<div>\n",
       "<style scoped>\n",
       "    .dataframe tbody tr th:only-of-type {\n",
       "        vertical-align: middle;\n",
       "    }\n",
       "\n",
       "    .dataframe tbody tr th {\n",
       "        vertical-align: top;\n",
       "    }\n",
       "\n",
       "    .dataframe thead th {\n",
       "        text-align: right;\n",
       "    }\n",
       "</style>\n",
       "<table border=\"1\" class=\"dataframe\">\n",
       "  <thead>\n",
       "    <tr style=\"text-align: right;\">\n",
       "      <th></th>\n",
       "      <th>image</th>\n",
       "      <th>action</th>\n",
       "    </tr>\n",
       "  </thead>\n",
       "  <tbody>\n",
       "    <tr>\n",
       "      <th>0</th>\n",
       "      <td>E:\\Project 103\\Trimmed Data\\val_frames\\death_1...</td>\n",
       "      <td>death</td>\n",
       "    </tr>\n",
       "    <tr>\n",
       "      <th>1</th>\n",
       "      <td>E:\\Project 103\\Trimmed Data\\val_frames\\death_1...</td>\n",
       "      <td>death</td>\n",
       "    </tr>\n",
       "    <tr>\n",
       "      <th>2</th>\n",
       "      <td>E:\\Project 103\\Trimmed Data\\val_frames\\death_1...</td>\n",
       "      <td>death</td>\n",
       "    </tr>\n",
       "    <tr>\n",
       "      <th>3</th>\n",
       "      <td>E:\\Project 103\\Trimmed Data\\val_frames\\death_1...</td>\n",
       "      <td>death</td>\n",
       "    </tr>\n",
       "    <tr>\n",
       "      <th>4</th>\n",
       "      <td>E:\\Project 103\\Trimmed Data\\val_frames\\death_1...</td>\n",
       "      <td>death</td>\n",
       "    </tr>\n",
       "    <tr>\n",
       "      <th>...</th>\n",
       "      <td>...</td>\n",
       "      <td>...</td>\n",
       "    </tr>\n",
       "    <tr>\n",
       "      <th>159</th>\n",
       "      <td>E:\\Project 103\\Trimmed Data\\val_frames\\smoke_9...</td>\n",
       "      <td>smoke</td>\n",
       "    </tr>\n",
       "    <tr>\n",
       "      <th>160</th>\n",
       "      <td>E:\\Project 103\\Trimmed Data\\val_frames\\smoke_9...</td>\n",
       "      <td>smoke</td>\n",
       "    </tr>\n",
       "    <tr>\n",
       "      <th>161</th>\n",
       "      <td>E:\\Project 103\\Trimmed Data\\val_frames\\smoke_9...</td>\n",
       "      <td>smoke</td>\n",
       "    </tr>\n",
       "    <tr>\n",
       "      <th>162</th>\n",
       "      <td>E:\\Project 103\\Trimmed Data\\val_frames\\smoke_9...</td>\n",
       "      <td>smoke</td>\n",
       "    </tr>\n",
       "    <tr>\n",
       "      <th>163</th>\n",
       "      <td>E:\\Project 103\\Trimmed Data\\val_frames\\smoke_9...</td>\n",
       "      <td>smoke</td>\n",
       "    </tr>\n",
       "  </tbody>\n",
       "</table>\n",
       "<p>164 rows × 2 columns</p>\n",
       "</div>"
      ],
      "text/plain": [
       "                                                 image action\n",
       "0    E:\\Project 103\\Trimmed Data\\val_frames\\death_1...  death\n",
       "1    E:\\Project 103\\Trimmed Data\\val_frames\\death_1...  death\n",
       "2    E:\\Project 103\\Trimmed Data\\val_frames\\death_1...  death\n",
       "3    E:\\Project 103\\Trimmed Data\\val_frames\\death_1...  death\n",
       "4    E:\\Project 103\\Trimmed Data\\val_frames\\death_1...  death\n",
       "..                                                 ...    ...\n",
       "159  E:\\Project 103\\Trimmed Data\\val_frames\\smoke_9...  smoke\n",
       "160  E:\\Project 103\\Trimmed Data\\val_frames\\smoke_9...  smoke\n",
       "161  E:\\Project 103\\Trimmed Data\\val_frames\\smoke_9...  smoke\n",
       "162  E:\\Project 103\\Trimmed Data\\val_frames\\smoke_9...  smoke\n",
       "163  E:\\Project 103\\Trimmed Data\\val_frames\\smoke_9...  smoke\n",
       "\n",
       "[164 rows x 2 columns]"
      ]
     },
     "execution_count": 45,
     "metadata": {},
     "output_type": "execute_result"
    }
   ],
   "source": [
    "val_image = pd.read_csv(os.path.join(dataset_path, 'val_frames.csv'))\n",
    "val_image"
   ]
  },
  {
   "cell_type": "code",
   "execution_count": 46,
   "metadata": {},
   "outputs": [
    {
     "name": "stdout",
     "output_type": "stream",
     "text": [
      "(164, 2)\n"
     ]
    }
   ],
   "source": [
    "print(val_image.shape)"
   ]
  },
  {
   "cell_type": "code",
   "execution_count": 47,
   "metadata": {},
   "outputs": [
    {
     "data": {
      "text/plain": [
       "['death', 'kill', 'smoke']"
      ]
     },
     "execution_count": 47,
     "metadata": {},
     "output_type": "execute_result"
    }
   ],
   "source": [
    "action_values = list(train_image['action'].unique())\n",
    "action_values"
   ]
  },
  {
   "cell_type": "code",
   "execution_count": 48,
   "metadata": {},
   "outputs": [],
   "source": [
    "def create_class_columns(df):\n",
    "    for value in action_values:\n",
    "        df[value] = np.where(df['action'].str.contains(value), 1, 0)\n",
    "    df.drop('action', axis='columns', inplace=True)"
   ]
  },
  {
   "cell_type": "code",
   "execution_count": 49,
   "metadata": {},
   "outputs": [
    {
     "data": {
      "text/html": [
       "<div>\n",
       "<style scoped>\n",
       "    .dataframe tbody tr th:only-of-type {\n",
       "        vertical-align: middle;\n",
       "    }\n",
       "\n",
       "    .dataframe tbody tr th {\n",
       "        vertical-align: top;\n",
       "    }\n",
       "\n",
       "    .dataframe thead th {\n",
       "        text-align: right;\n",
       "    }\n",
       "</style>\n",
       "<table border=\"1\" class=\"dataframe\">\n",
       "  <thead>\n",
       "    <tr style=\"text-align: right;\">\n",
       "      <th></th>\n",
       "      <th>image</th>\n",
       "      <th>death</th>\n",
       "      <th>kill</th>\n",
       "      <th>smoke</th>\n",
       "    </tr>\n",
       "  </thead>\n",
       "  <tbody>\n",
       "    <tr>\n",
       "      <th>0</th>\n",
       "      <td>E:\\Project 103\\Trimmed Data\\train_frames\\death...</td>\n",
       "      <td>1</td>\n",
       "      <td>0</td>\n",
       "      <td>0</td>\n",
       "    </tr>\n",
       "    <tr>\n",
       "      <th>1</th>\n",
       "      <td>E:\\Project 103\\Trimmed Data\\train_frames\\death...</td>\n",
       "      <td>1</td>\n",
       "      <td>0</td>\n",
       "      <td>0</td>\n",
       "    </tr>\n",
       "    <tr>\n",
       "      <th>2</th>\n",
       "      <td>E:\\Project 103\\Trimmed Data\\train_frames\\death...</td>\n",
       "      <td>1</td>\n",
       "      <td>0</td>\n",
       "      <td>0</td>\n",
       "    </tr>\n",
       "    <tr>\n",
       "      <th>3</th>\n",
       "      <td>E:\\Project 103\\Trimmed Data\\train_frames\\death...</td>\n",
       "      <td>1</td>\n",
       "      <td>0</td>\n",
       "      <td>0</td>\n",
       "    </tr>\n",
       "    <tr>\n",
       "      <th>4</th>\n",
       "      <td>E:\\Project 103\\Trimmed Data\\train_frames\\death...</td>\n",
       "      <td>1</td>\n",
       "      <td>0</td>\n",
       "      <td>0</td>\n",
       "    </tr>\n",
       "  </tbody>\n",
       "</table>\n",
       "</div>"
      ],
      "text/plain": [
       "                                               image  death  kill  smoke\n",
       "0  E:\\Project 103\\Trimmed Data\\train_frames\\death...      1     0      0\n",
       "1  E:\\Project 103\\Trimmed Data\\train_frames\\death...      1     0      0\n",
       "2  E:\\Project 103\\Trimmed Data\\train_frames\\death...      1     0      0\n",
       "3  E:\\Project 103\\Trimmed Data\\train_frames\\death...      1     0      0\n",
       "4  E:\\Project 103\\Trimmed Data\\train_frames\\death...      1     0      0"
      ]
     },
     "execution_count": 49,
     "metadata": {},
     "output_type": "execute_result"
    }
   ],
   "source": [
    "create_class_columns(train_image)\n",
    "train_image.head()"
   ]
  },
  {
   "cell_type": "code",
   "execution_count": 50,
   "metadata": {},
   "outputs": [
    {
     "data": {
      "text/html": [
       "<div>\n",
       "<style scoped>\n",
       "    .dataframe tbody tr th:only-of-type {\n",
       "        vertical-align: middle;\n",
       "    }\n",
       "\n",
       "    .dataframe tbody tr th {\n",
       "        vertical-align: top;\n",
       "    }\n",
       "\n",
       "    .dataframe thead th {\n",
       "        text-align: right;\n",
       "    }\n",
       "</style>\n",
       "<table border=\"1\" class=\"dataframe\">\n",
       "  <thead>\n",
       "    <tr style=\"text-align: right;\">\n",
       "      <th></th>\n",
       "      <th>image</th>\n",
       "      <th>death</th>\n",
       "      <th>kill</th>\n",
       "      <th>smoke</th>\n",
       "    </tr>\n",
       "  </thead>\n",
       "  <tbody>\n",
       "    <tr>\n",
       "      <th>0</th>\n",
       "      <td>E:\\Project 103\\Trimmed Data\\val_frames\\death_1...</td>\n",
       "      <td>1</td>\n",
       "      <td>0</td>\n",
       "      <td>0</td>\n",
       "    </tr>\n",
       "    <tr>\n",
       "      <th>1</th>\n",
       "      <td>E:\\Project 103\\Trimmed Data\\val_frames\\death_1...</td>\n",
       "      <td>1</td>\n",
       "      <td>0</td>\n",
       "      <td>0</td>\n",
       "    </tr>\n",
       "    <tr>\n",
       "      <th>2</th>\n",
       "      <td>E:\\Project 103\\Trimmed Data\\val_frames\\death_1...</td>\n",
       "      <td>1</td>\n",
       "      <td>0</td>\n",
       "      <td>0</td>\n",
       "    </tr>\n",
       "    <tr>\n",
       "      <th>3</th>\n",
       "      <td>E:\\Project 103\\Trimmed Data\\val_frames\\death_1...</td>\n",
       "      <td>1</td>\n",
       "      <td>0</td>\n",
       "      <td>0</td>\n",
       "    </tr>\n",
       "    <tr>\n",
       "      <th>4</th>\n",
       "      <td>E:\\Project 103\\Trimmed Data\\val_frames\\death_1...</td>\n",
       "      <td>1</td>\n",
       "      <td>0</td>\n",
       "      <td>0</td>\n",
       "    </tr>\n",
       "  </tbody>\n",
       "</table>\n",
       "</div>"
      ],
      "text/plain": [
       "                                               image  death  kill  smoke\n",
       "0  E:\\Project 103\\Trimmed Data\\val_frames\\death_1...      1     0      0\n",
       "1  E:\\Project 103\\Trimmed Data\\val_frames\\death_1...      1     0      0\n",
       "2  E:\\Project 103\\Trimmed Data\\val_frames\\death_1...      1     0      0\n",
       "3  E:\\Project 103\\Trimmed Data\\val_frames\\death_1...      1     0      0\n",
       "4  E:\\Project 103\\Trimmed Data\\val_frames\\death_1...      1     0      0"
      ]
     },
     "execution_count": 50,
     "metadata": {},
     "output_type": "execute_result"
    }
   ],
   "source": [
    "create_class_columns(val_image)\n",
    "val_image.head()"
   ]
  },
  {
   "cell_type": "code",
   "execution_count": 51,
   "metadata": {},
   "outputs": [],
   "source": [
    "def convert_to_array_and_split(image_data):\n",
    "    image_value = []\n",
    "    for i in tqdm(range(image_data.shape[0])):\n",
    "        img = image.load_img(image_data['image'][i], target_size=(224,224,3))\n",
    "        img = image.img_to_array(img)\n",
    "        # normalizing the pixel value\n",
    "        img = img / 255\n",
    "        image_value.append(img)\n",
    "\n",
    "    X = np.array(image_value)\n",
    "    y = image_data\n",
    "    y.drop('image', axis='columns', inplace=True)\n",
    "    return X, y"
   ]
  },
  {
   "cell_type": "code",
   "execution_count": 52,
   "metadata": {},
   "outputs": [
    {
     "name": "stderr",
     "output_type": "stream",
     "text": [
      "100%|████████████████████████████████████████████████████████████████████████████████| 507/507 [00:13<00:00, 36.80it/s]\n"
     ]
    },
    {
     "name": "stdout",
     "output_type": "stream",
     "text": [
      "(507, 224, 224, 3)\n"
     ]
    }
   ],
   "source": [
    "X_train, y_train = convert_to_array_and_split(train_image)\n",
    "print(X_train.shape)"
   ]
  },
  {
   "cell_type": "code",
   "execution_count": 53,
   "metadata": {},
   "outputs": [
    {
     "name": "stderr",
     "output_type": "stream",
     "text": [
      "100%|████████████████████████████████████████████████████████████████████████████████| 164/164 [00:03<00:00, 43.86it/s]\n"
     ]
    },
    {
     "name": "stdout",
     "output_type": "stream",
     "text": [
      "(164, 224, 224, 3)\n"
     ]
    }
   ],
   "source": [
    "X_val, y_val = convert_to_array_and_split(val_image)\n",
    "print(X_val.shape)"
   ]
  },
  {
   "cell_type": "code",
   "execution_count": 54,
   "metadata": {},
   "outputs": [],
   "source": [
    "#'warning'\n",
    "X_train_set_copy = X_train\n",
    "X_val_set_copy = X_val"
   ]
  },
  {
   "cell_type": "code",
   "execution_count": 55,
   "metadata": {},
   "outputs": [],
   "source": [
    "X_train = X_train_set_copy\n",
    "X_val = X_val_set_copy"
   ]
  },
  {
   "cell_type": "code",
   "execution_count": 56,
   "metadata": {},
   "outputs": [
    {
     "data": {
      "text/plain": [
       "(507, 224, 224, 3)"
      ]
     },
     "execution_count": 56,
     "metadata": {},
     "output_type": "execute_result"
    }
   ],
   "source": [
    "X_train.shape"
   ]
  },
  {
   "cell_type": "code",
   "execution_count": 57,
   "metadata": {},
   "outputs": [
    {
     "data": {
      "text/html": [
       "<div>\n",
       "<style scoped>\n",
       "    .dataframe tbody tr th:only-of-type {\n",
       "        vertical-align: middle;\n",
       "    }\n",
       "\n",
       "    .dataframe tbody tr th {\n",
       "        vertical-align: top;\n",
       "    }\n",
       "\n",
       "    .dataframe thead th {\n",
       "        text-align: right;\n",
       "    }\n",
       "</style>\n",
       "<table border=\"1\" class=\"dataframe\">\n",
       "  <thead>\n",
       "    <tr style=\"text-align: right;\">\n",
       "      <th></th>\n",
       "      <th>death</th>\n",
       "      <th>kill</th>\n",
       "      <th>smoke</th>\n",
       "    </tr>\n",
       "  </thead>\n",
       "  <tbody>\n",
       "    <tr>\n",
       "      <th>0</th>\n",
       "      <td>1</td>\n",
       "      <td>0</td>\n",
       "      <td>0</td>\n",
       "    </tr>\n",
       "    <tr>\n",
       "      <th>1</th>\n",
       "      <td>1</td>\n",
       "      <td>0</td>\n",
       "      <td>0</td>\n",
       "    </tr>\n",
       "    <tr>\n",
       "      <th>2</th>\n",
       "      <td>1</td>\n",
       "      <td>0</td>\n",
       "      <td>0</td>\n",
       "    </tr>\n",
       "    <tr>\n",
       "      <th>3</th>\n",
       "      <td>1</td>\n",
       "      <td>0</td>\n",
       "      <td>0</td>\n",
       "    </tr>\n",
       "    <tr>\n",
       "      <th>4</th>\n",
       "      <td>1</td>\n",
       "      <td>0</td>\n",
       "      <td>0</td>\n",
       "    </tr>\n",
       "  </tbody>\n",
       "</table>\n",
       "</div>"
      ],
      "text/plain": [
       "   death  kill  smoke\n",
       "0      1     0      0\n",
       "1      1     0      0\n",
       "2      1     0      0\n",
       "3      1     0      0\n",
       "4      1     0      0"
      ]
     },
     "execution_count": 57,
     "metadata": {},
     "output_type": "execute_result"
    }
   ],
   "source": [
    "y_train.head()"
   ]
  },
  {
   "cell_type": "code",
   "execution_count": 58,
   "metadata": {},
   "outputs": [],
   "source": [
    "from tensorflow.keras.applications.vgg16 import VGG16\n",
    "'''This model was trained on a dataset that has 1,000 classes. \n",
    "include_top = False will remove the last layer of this model so that we can tune it as per our need.\n",
    "'''\n",
    "base_model = VGG16(weights='imagenet', include_top=False)"
   ]
  },
  {
   "cell_type": "code",
   "execution_count": 59,
   "metadata": {},
   "outputs": [
    {
     "data": {
      "text/plain": [
       "(507, 7, 7, 512)"
      ]
     },
     "execution_count": 59,
     "metadata": {},
     "output_type": "execute_result"
    }
   ],
   "source": [
    "X_train = base_model.predict(X_train)\n",
    "X_train.shape"
   ]
  },
  {
   "cell_type": "code",
   "execution_count": 60,
   "metadata": {},
   "outputs": [
    {
     "data": {
      "text/plain": [
       "(164, 7, 7, 512)"
      ]
     },
     "execution_count": 60,
     "metadata": {},
     "output_type": "execute_result"
    }
   ],
   "source": [
    "X_val = base_model.predict(X_val)\n",
    "X_val.shape"
   ]
  },
  {
   "cell_type": "code",
   "execution_count": 61,
   "metadata": {},
   "outputs": [],
   "source": [
    "#'warning'\n",
    "X_train_copy = X_train\n",
    "X_val_copy = X_val"
   ]
  },
  {
   "cell_type": "code",
   "execution_count": 91,
   "metadata": {},
   "outputs": [],
   "source": [
    "X_train = X_train_copy\n",
    "X_val = X_val_copy"
   ]
  },
  {
   "cell_type": "code",
   "execution_count": 92,
   "metadata": {},
   "outputs": [],
   "source": [
    "X_train = X_train.reshape(X_train.shape[0], 7*7*512)\n",
    "X_val = X_val.reshape(X_val.shape[0], 7*7*512)"
   ]
  },
  {
   "cell_type": "code",
   "execution_count": 93,
   "metadata": {},
   "outputs": [
    {
     "name": "stdout",
     "output_type": "stream",
     "text": [
      "(507, 25088)\n",
      "(164, 25088)\n"
     ]
    }
   ],
   "source": [
    "max_pixel = X_train.max()\n",
    "X_train = X_train / max_pixel\n",
    "X_val = X_val / max_pixel\n",
    "print(X_train.shape)\n",
    "print(X_val.shape)"
   ]
  },
  {
   "cell_type": "code",
   "execution_count": 94,
   "metadata": {},
   "outputs": [
    {
     "name": "stdout",
     "output_type": "stream",
     "text": [
      "Model: \"sequential_3\"\n",
      "_________________________________________________________________\n",
      "Layer (type)                 Output Shape              Param #   \n",
      "=================================================================\n",
      "dense_14 (Dense)             (None, 512)               12845568  \n",
      "_________________________________________________________________\n",
      "dropout_11 (Dropout)         (None, 512)               0         \n",
      "_________________________________________________________________\n",
      "dense_15 (Dense)             (None, 256)               131328    \n",
      "_________________________________________________________________\n",
      "dropout_12 (Dropout)         (None, 256)               0         \n",
      "_________________________________________________________________\n",
      "dense_16 (Dense)             (None, 128)               32896     \n",
      "_________________________________________________________________\n",
      "dropout_13 (Dropout)         (None, 128)               0         \n",
      "_________________________________________________________________\n",
      "dense_17 (Dense)             (None, 3)                 387       \n",
      "=================================================================\n",
      "Total params: 13,010,179\n",
      "Trainable params: 13,010,179\n",
      "Non-trainable params: 0\n",
      "_________________________________________________________________\n"
     ]
    }
   ],
   "source": [
    "model = Sequential()\n",
    "model.add(Dense(512, activation='relu', input_shape=(25088,)))\n",
    "model.add(Dropout(0.5))\n",
    "#model.add(Dense(512, activation='relu'))\n",
    "#model.add(Dropout(0.5))\n",
    "model.add(Dense(256, activation='relu'))\n",
    "model.add(Dropout(0.5))\n",
    "model.add(Dense(128, activation='relu'))\n",
    "model.add(Dropout(0.5))\n",
    "model.add(Dense(3, activation='softmax'))\n",
    "model.compile(loss='categorical_crossentropy',optimizer='Adam',metrics=['accuracy'])\n",
    "model.summary()"
   ]
  },
  {
   "cell_type": "code",
   "execution_count": 95,
   "metadata": {},
   "outputs": [],
   "source": [
    "from keras.callbacks import ModelCheckpoint\n",
    "mcp_weight = ModelCheckpoint('weight_vgg16_final3_1.hdf5', save_best_only=True, monitor='val_loss', mode='min')"
   ]
  },
  {
   "cell_type": "code",
   "execution_count": 96,
   "metadata": {},
   "outputs": [
    {
     "name": "stdout",
     "output_type": "stream",
     "text": [
      "Epoch 1/20\n",
      "4/4 [==============================] - 1s 203ms/step - loss: 1.0899 - accuracy: 0.3730 - val_loss: 0.9350 - val_accuracy: 0.4939\n",
      "Epoch 2/20\n",
      "4/4 [==============================] - 1s 145ms/step - loss: 0.9926 - accuracy: 0.5263 - val_loss: 0.7820 - val_accuracy: 0.6829\n",
      "Epoch 3/20\n",
      "4/4 [==============================] - 1s 144ms/step - loss: 0.8251 - accuracy: 0.6233 - val_loss: 0.6646 - val_accuracy: 0.7195\n",
      "Epoch 4/20\n",
      "4/4 [==============================] - 1s 143ms/step - loss: 0.6580 - accuracy: 0.7046 - val_loss: 0.5694 - val_accuracy: 0.7195\n",
      "Epoch 5/20\n",
      "4/4 [==============================] - 1s 144ms/step - loss: 0.5526 - accuracy: 0.7352 - val_loss: 0.5276 - val_accuracy: 0.7195\n",
      "Epoch 6/20\n",
      "4/4 [==============================] - 1s 143ms/step - loss: 0.5026 - accuracy: 0.7825 - val_loss: 0.5203 - val_accuracy: 0.7378\n",
      "Epoch 7/20\n",
      "4/4 [==============================] - 1s 143ms/step - loss: 0.4092 - accuracy: 0.8403 - val_loss: 0.4970 - val_accuracy: 0.7500\n",
      "Epoch 8/20\n",
      "4/4 [==============================] - 1s 148ms/step - loss: 0.3538 - accuracy: 0.8471 - val_loss: 0.4971 - val_accuracy: 0.7378\n",
      "Epoch 9/20\n",
      "4/4 [==============================] - 1s 141ms/step - loss: 0.3128 - accuracy: 0.8910 - val_loss: 0.4757 - val_accuracy: 0.7805\n",
      "Epoch 10/20\n",
      "4/4 [==============================] - 1s 144ms/step - loss: 0.3238 - accuracy: 0.8800 - val_loss: 0.4872 - val_accuracy: 0.7744\n",
      "Epoch 11/20\n",
      "4/4 [==============================] - 1s 147ms/step - loss: 0.2543 - accuracy: 0.9061 - val_loss: 0.4745 - val_accuracy: 0.7927\n",
      "Epoch 12/20\n",
      "4/4 [==============================] - 1s 144ms/step - loss: 0.1754 - accuracy: 0.9461 - val_loss: 0.4789 - val_accuracy: 0.7744\n",
      "Epoch 13/20\n",
      "4/4 [==============================] - 1s 145ms/step - loss: 0.1597 - accuracy: 0.9508 - val_loss: 0.5094 - val_accuracy: 0.7927\n",
      "Epoch 14/20\n",
      "4/4 [==============================] - 1s 145ms/step - loss: 0.1631 - accuracy: 0.9274 - val_loss: 0.5083 - val_accuracy: 0.7988\n",
      "Epoch 15/20\n",
      "4/4 [==============================] - 1s 145ms/step - loss: 0.1462 - accuracy: 0.9456 - val_loss: 0.4979 - val_accuracy: 0.7988\n",
      "Epoch 16/20\n",
      "4/4 [==============================] - 1s 143ms/step - loss: 0.0991 - accuracy: 0.9759 - val_loss: 0.4899 - val_accuracy: 0.8110\n",
      "Epoch 17/20\n",
      "4/4 [==============================] - 1s 143ms/step - loss: 0.0907 - accuracy: 0.9741 - val_loss: 0.4898 - val_accuracy: 0.8232\n",
      "Epoch 18/20\n",
      "4/4 [==============================] - 1s 147ms/step - loss: 0.0530 - accuracy: 0.9935 - val_loss: 0.5091 - val_accuracy: 0.8110\n",
      "Epoch 19/20\n",
      "4/4 [==============================] - 1s 147ms/step - loss: 0.0613 - accuracy: 0.9914 - val_loss: 0.5408 - val_accuracy: 0.7988\n",
      "Epoch 20/20\n",
      "4/4 [==============================] - 1s 142ms/step - loss: 0.0341 - accuracy: 0.9924 - val_loss: 0.5901 - val_accuracy: 0.8232\n"
     ]
    }
   ],
   "source": [
    "history=model.fit(X_train, y_train, epochs=20, validation_data=(X_val, y_val), callbacks=[mcp_weight], batch_size=128)"
   ]
  },
  {
   "cell_type": "code",
   "execution_count": 97,
   "metadata": {},
   "outputs": [
    {
     "name": "stderr",
     "output_type": "stream",
     "text": [
      "100%|██████████████████████████████████████████████████████████████████████████████████| 61/61 [01:29<00:00,  1.47s/it]\n"
     ]
    }
   ],
   "source": [
    "from scipy import stats as s\n",
    "predict = []\n",
    "actual = []\n",
    "if not os.path.exists(test_frames_path):\n",
    "    os.makedirs(test_frames_path)\n",
    "\n",
    "for i in tqdm(range(test.shape[0])):\n",
    "    video_file = test['Video_url'][i]\n",
    "    action = test['action'][i]\n",
    "    video_name_list = video_file.split('/')[-1].split('.')\n",
    "    video_name_list = video_name_list[:-1]\n",
    "    video_name = \"\"\n",
    "    for n in video_name_list:\n",
    "        video_name += n\n",
    "    # capturing the video from the given path\n",
    "    capture = cv2.VideoCapture(video_file) \n",
    "    #frame rate\n",
    "    frame_rate = capture.get(5)\n",
    "    count = 0\n",
    "    files = glob(test_frames_path + '/*')\n",
    "    #removing all files from folder\n",
    "    for f in files:\n",
    "        os.remove(f)\n",
    "    while(capture.isOpened()):\n",
    "        #current frame number\n",
    "        frame_id = capture.get(1) \n",
    "        read_correctly, frame = capture.read()\n",
    "        if not read_correctly:\n",
    "            break\n",
    "        if (frame_id % math.floor(frame_rate) == 0):\n",
    "            # storing the frames in a new folder named train_1\n",
    "            filename = test_frames_path + \"/\" + video_name + \"_frame{}_\".format(count) + action +\".jpg\"\n",
    "            count += 1\n",
    "            cv2.imwrite(filename, frame)\n",
    "    capture.release()\n",
    "    \n",
    "    # reading all the frames from temp folder\n",
    "    images = glob(test_frames_path + '/*.jpg')\n",
    "    prediction_images = []\n",
    "    for i in range(len(images)):\n",
    "        img = image.load_img(images[i], target_size=(224,224,3))\n",
    "        img = image.img_to_array(img)\n",
    "        img = img / 255\n",
    "        prediction_images.append(img)\n",
    "        \n",
    "    # converting all the frames for a test video into numpy array\n",
    "    prediction_images = np.array(prediction_images)\n",
    "    #prediction_images = prediction_images / max_pixel\n",
    "    # extracting features using pre-trained model\n",
    "    prediction_images = base_model.predict(prediction_images)\n",
    "    # converting features in one dimensional array\n",
    "    prediction_images = prediction_images.reshape(prediction_images.shape[0], 7*7*512)\n",
    "    # predicting tags for each array\n",
    "    prediction = np.argmax(model.predict(prediction_images), axis=-1)\n",
    "    # appending the mode of predictions in predict list to assign the tag to the video\n",
    "    predict.append(y_train.columns.values[s.mode(prediction)[0][0]])\n",
    "    # appending the actual tag of the video\n",
    "    actual.append(action)"
   ]
  },
  {
   "cell_type": "code",
   "execution_count": 98,
   "metadata": {},
   "outputs": [
    {
     "data": {
      "text/plain": [
       "85.24590163934425"
      ]
     },
     "execution_count": 98,
     "metadata": {},
     "output_type": "execute_result"
    }
   ],
   "source": [
    "from sklearn.metrics import accuracy_score\n",
    "accuracy_score(predict, actual)*100"
   ]
  },
  {
   "cell_type": "code",
   "execution_count": 99,
   "metadata": {},
   "outputs": [
    {
     "data": {
      "image/png": "[encoded data removed]",
      "text/plain": [
       "<Figure size 432x288 with 1 Axes>"
      ]
     },
     "metadata": {
      "needs_background": "light"
     },
     "output_type": "display_data"
    }
   ],
   "source": [
    "plt.plot(history.history['accuracy'])\n",
    "plt.plot(history.history['val_accuracy'])\n",
    "plt.title('model accuracy')\n",
    "plt.ylabel('accuracy')\n",
    "plt.xlabel('epoch')\n",
    "plt.legend(['train', 'test'], loc='upper left')\n",
    "plt.show()"
   ]
  },
  {
   "cell_type": "code",
   "execution_count": 100,
   "metadata": {},
   "outputs": [
    {
     "data": {
      "image/png": "[encoded data removed]",
      "text/plain": [
       "<Figure size 432x288 with 1 Axes>"
      ]
     },
     "metadata": {
      "needs_background": "light"
     },
     "output_type": "display_data"
    }
   ],
   "source": [
    "plt.plot(history.history['loss'])\n",
    "plt.plot(history.history['val_loss'])\n",
    "plt.title('model loss')\n",
    "plt.ylabel('loss')\n",
    "plt.xlabel('epoch')\n",
    "plt.legend(['train', 'test'], loc='upper left')\n",
    "plt.show()"
   ]
  },
  {
   "cell_type": "code",
   "execution_count": 104,
   "metadata": {},
   "outputs": [],
   "source": [
    "from tensorflow.keras.applications.xception import Xception\n",
    "'''This model was trained on a dataset that has 1,000 classes. \n",
    "include_top = False will remove the last layer of this model so that we can tune it as per our need.\n",
    "'''\n",
    "base_model = Xception(weights='imagenet', include_top=False)"
   ]
  },
  {
   "cell_type": "code",
   "execution_count": 105,
   "metadata": {},
   "outputs": [
    {
     "data": {
      "text/plain": [
       "(735, 7, 7, 2048)"
      ]
     },
     "execution_count": 105,
     "metadata": {},
     "output_type": "execute_result"
    }
   ],
   "source": [
    "X_train = base_model.predict(X_train)\n",
    "X_train.shape"
   ]
  },
  {
   "cell_type": "code",
   "execution_count": 106,
   "metadata": {},
   "outputs": [
    {
     "data": {
      "text/plain": [
       "(235, 7, 7, 2048)"
      ]
     },
     "execution_count": 106,
     "metadata": {},
     "output_type": "execute_result"
    }
   ],
   "source": [
    "X_val = base_model.predict(X_val)\n",
    "X_val.shape"
   ]
  },
  {
   "cell_type": "code",
   "execution_count": 107,
   "metadata": {},
   "outputs": [],
   "source": [
    "#'warning'\n",
    "X_train_copy = X_train\n",
    "X_val_copy = X_val"
   ]
  },
  {
   "cell_type": "code",
   "execution_count": 72,
   "metadata": {},
   "outputs": [],
   "source": [
    "X_train = X_train_copy\n",
    "X_val = X_val_copy"
   ]
  },
  {
   "cell_type": "code",
   "execution_count": null,
   "metadata": {},
   "outputs": [],
   "source": []
  },
  {
   "cell_type": "code",
   "execution_count": 108,
   "metadata": {},
   "outputs": [
    {
     "name": "stdout",
     "output_type": "stream",
     "text": [
      "(735, 100352)\n",
      "(235, 100352)\n",
      "Model: \"sequential_4\"\n",
      "_________________________________________________________________\n",
      "Layer (type)                 Output Shape              Param #   \n",
      "=================================================================\n",
      "dense_20 (Dense)             (None, 1024)              102761472 \n",
      "_________________________________________________________________\n",
      "dropout_16 (Dropout)         (None, 1024)              0         \n",
      "_________________________________________________________________\n",
      "dense_21 (Dense)             (None, 512)               524800    \n",
      "_________________________________________________________________\n",
      "dropout_17 (Dropout)         (None, 512)               0         \n",
      "_________________________________________________________________\n",
      "dense_22 (Dense)             (None, 256)               131328    \n",
      "_________________________________________________________________\n",
      "dropout_18 (Dropout)         (None, 256)               0         \n",
      "_________________________________________________________________\n",
      "dense_23 (Dense)             (None, 128)               32896     \n",
      "_________________________________________________________________\n",
      "dropout_19 (Dropout)         (None, 128)               0         \n",
      "_________________________________________________________________\n",
      "dense_24 (Dense)             (None, 4)                 516       \n",
      "=================================================================\n",
      "Total params: 103,451,012\n",
      "Trainable params: 103,451,012\n",
      "Non-trainable params: 0\n",
      "_________________________________________________________________\n",
      "Epoch 1/30\n",
      "5/5 [==============================] - 7s 1s/step - loss: 2.0530 - accuracy: 0.2798 - val_loss: 1.2501 - val_accuracy: 0.5191\n",
      "Epoch 2/30\n",
      "5/5 [==============================] - 5s 1s/step - loss: 2.0501 - accuracy: 0.3494 - val_loss: 1.2501 - val_accuracy: 0.4638\n",
      "Epoch 3/30\n",
      "5/5 [==============================] - 5s 1s/step - loss: 1.7090 - accuracy: 0.3953 - val_loss: 1.1394 - val_accuracy: 0.5064\n",
      "Epoch 4/30\n",
      "5/5 [==============================] - 5s 1s/step - loss: 1.4830 - accuracy: 0.4244 - val_loss: 1.1295 - val_accuracy: 0.5447\n",
      "Epoch 5/30\n",
      "5/5 [==============================] - 6s 1s/step - loss: 1.2641 - accuracy: 0.4718 - val_loss: 1.0914 - val_accuracy: 0.5702\n",
      "Epoch 6/30\n",
      "5/5 [==============================] - 5s 1s/step - loss: 1.1819 - accuracy: 0.5221 - val_loss: 1.0167 - val_accuracy: 0.5702\n",
      "Epoch 7/30\n",
      "5/5 [==============================] - 6s 1s/step - loss: 1.0772 - accuracy: 0.5169 - val_loss: 0.9637 - val_accuracy: 0.5830\n",
      "Epoch 8/30\n",
      "5/5 [==============================] - 5s 1s/step - loss: 0.9868 - accuracy: 0.5748 - val_loss: 0.9556 - val_accuracy: 0.5872\n",
      "Epoch 9/30\n",
      "5/5 [==============================] - 5s 1s/step - loss: 0.8744 - accuracy: 0.6321 - val_loss: 0.9350 - val_accuracy: 0.5660\n",
      "Epoch 10/30\n",
      "5/5 [==============================] - 5s 1s/step - loss: 0.7964 - accuracy: 0.6186 - val_loss: 0.8916 - val_accuracy: 0.5957\n",
      "Epoch 11/30\n",
      "5/5 [==============================] - 5s 1s/step - loss: 0.8163 - accuracy: 0.6419 - val_loss: 0.8695 - val_accuracy: 0.6213\n",
      "Epoch 12/30\n",
      "5/5 [==============================] - 5s 1s/step - loss: 0.7904 - accuracy: 0.6528 - val_loss: 0.8707 - val_accuracy: 0.6043\n",
      "Epoch 13/30\n",
      "5/5 [==============================] - 5s 1s/step - loss: 0.6517 - accuracy: 0.7126 - val_loss: 0.8761 - val_accuracy: 0.6383\n",
      "Epoch 14/30\n",
      "5/5 [==============================] - 5s 1s/step - loss: 0.6995 - accuracy: 0.7064 - val_loss: 0.8971 - val_accuracy: 0.6255\n",
      "Epoch 15/30\n",
      "5/5 [==============================] - 5s 1s/step - loss: 0.6496 - accuracy: 0.7274 - val_loss: 0.8928 - val_accuracy: 0.6340\n",
      "Epoch 16/30\n",
      "5/5 [==============================] - 5s 1s/step - loss: 0.5814 - accuracy: 0.7367 - val_loss: 0.9140 - val_accuracy: 0.6340\n",
      "Epoch 17/30\n",
      "5/5 [==============================] - 6s 1s/step - loss: 0.5376 - accuracy: 0.7501 - val_loss: 0.9053 - val_accuracy: 0.6298\n",
      "Epoch 18/30\n",
      "5/5 [==============================] - 6s 1s/step - loss: 0.5400 - accuracy: 0.7636 - val_loss: 0.9404 - val_accuracy: 0.6340\n",
      "Epoch 19/30\n",
      "5/5 [==============================] - 6s 1s/step - loss: 0.5006 - accuracy: 0.7840 - val_loss: 0.9454 - val_accuracy: 0.6085\n",
      "Epoch 20/30\n",
      "5/5 [==============================] - 6s 1s/step - loss: 0.5507 - accuracy: 0.7750 - val_loss: 0.9465 - val_accuracy: 0.6426\n",
      "Epoch 21/30\n",
      "5/5 [==============================] - 6s 1s/step - loss: 0.4687 - accuracy: 0.7997 - val_loss: 0.9884 - val_accuracy: 0.6213\n",
      "Epoch 22/30\n",
      "5/5 [==============================] - 6s 1s/step - loss: 0.4668 - accuracy: 0.8061 - val_loss: 1.0565 - val_accuracy: 0.6255\n",
      "Epoch 23/30\n",
      "5/5 [==============================] - 6s 1s/step - loss: 0.3881 - accuracy: 0.8420 - val_loss: 1.1058 - val_accuracy: 0.6340\n",
      "Epoch 24/30\n",
      "5/5 [==============================] - 6s 1s/step - loss: 0.4018 - accuracy: 0.8276 - val_loss: 1.1531 - val_accuracy: 0.6170\n",
      "Epoch 25/30\n",
      "5/5 [==============================] - 6s 1s/step - loss: 0.3544 - accuracy: 0.8565 - val_loss: 1.2360 - val_accuracy: 0.6085\n",
      "Epoch 26/30\n",
      "5/5 [==============================] - 6s 1s/step - loss: 0.3264 - accuracy: 0.8519 - val_loss: 1.2829 - val_accuracy: 0.6170\n",
      "Epoch 27/30\n",
      "5/5 [==============================] - 6s 1s/step - loss: 0.3092 - accuracy: 0.8790 - val_loss: 1.4085 - val_accuracy: 0.6383\n",
      "Epoch 28/30\n",
      "5/5 [==============================] - 6s 1s/step - loss: 0.3055 - accuracy: 0.8781 - val_loss: 1.3644 - val_accuracy: 0.6511\n",
      "Epoch 29/30\n",
      "5/5 [==============================] - 6s 1s/step - loss: 0.2774 - accuracy: 0.8952 - val_loss: 1.2921 - val_accuracy: 0.6298\n",
      "Epoch 30/30\n",
      "5/5 [==============================] - 6s 1s/step - loss: 0.2501 - accuracy: 0.8973 - val_loss: 1.4159 - val_accuracy: 0.6255\n"
     ]
    }
   ],
   "source": [
    "X_train = X_train.reshape(X_train.shape[0], 7*7*2048)\n",
    "X_val = X_val.reshape(X_val.shape[0], 7*7*2048)\n",
    "\n",
    "max_pixel = X_train.max()\n",
    "X_train = X_train / max_pixel\n",
    "X_val = X_val / max_pixel\n",
    "print(X_train.shape)\n",
    "print(X_val.shape)\n",
    "\n",
    "model = Sequential()\n",
    "model.add(Dense(1024, activation='relu', input_shape=(100352,)))\n",
    "model.add(Dropout(0.5))\n",
    "model.add(Dense(512, activation='relu'))\n",
    "model.add(Dropout(0.5))\n",
    "model.add(Dense(256, activation='relu'))\n",
    "model.add(Dropout(0.5))\n",
    "model.add(Dense(128, activation='relu'))\n",
    "model.add(Dropout(0.5))\n",
    "model.add(Dense(4, activation='softmax'))\n",
    "model.compile(loss='categorical_crossentropy',optimizer='Adam',metrics=['accuracy'])\n",
    "model.summary()\n",
    "\n",
    "from keras.callbacks import ModelCheckpoint\n",
    "mcp_weight = ModelCheckpoint('weight_xception_final1_1.hdf5', save_best_only=True, monitor='val_loss', mode='min')\n",
    "\n",
    "history=model.fit(X_train, y_train, epochs=30, validation_data=(X_val, y_val), callbacks=[mcp_weight], batch_size=147)"
   ]
  },
  {
   "cell_type": "code",
   "execution_count": 110,
   "metadata": {},
   "outputs": [
    {
     "name": "stderr",
     "output_type": "stream",
     "text": [
      "100%|██████████████████████████████████████████████████████████████████████████████████| 81/81 [01:30<00:00,  1.12s/it]\n"
     ]
    }
   ],
   "source": [
    "from scipy import stats as s\n",
    "predict = []\n",
    "actual = []\n",
    "if not os.path.exists(test_frames_path):\n",
    "    os.makedirs(test_frames_path)\n",
    "\n",
    "for i in tqdm(range(test.shape[0])):\n",
    "    video_file = test['Video_url'][i]\n",
    "    action = test['action'][i]\n",
    "    video_name_list = video_file.split('/')[-1].split('.')\n",
    "    video_name_list = video_name_list[:-1]\n",
    "    video_name = \"\"\n",
    "    for n in video_name_list:\n",
    "        video_name += n\n",
    "    # capturing the video from the given path\n",
    "    capture = cv2.VideoCapture(video_file) \n",
    "    #frame rate\n",
    "    frame_rate = capture.get(5)\n",
    "    count = 0\n",
    "    files = glob(test_frames_path + '/*')\n",
    "    #removing all files from folder\n",
    "    for f in files:\n",
    "        os.remove(f)\n",
    "    while(capture.isOpened()):\n",
    "        #current frame number\n",
    "        frame_id = capture.get(1) \n",
    "        read_correctly, frame = capture.read()\n",
    "        if not read_correctly:\n",
    "            break\n",
    "        if (frame_id % math.floor(frame_rate) == 0):\n",
    "            # storing the frames in a new folder named train_1\n",
    "            filename = test_frames_path + \"/\" + video_name + \"_frame{}_\".format(count) + action +\".jpg\"\n",
    "            count += 1\n",
    "            cv2.imwrite(filename, frame)\n",
    "    capture.release()\n",
    "    \n",
    "    # reading all the frames from temp folder\n",
    "    images = glob(test_frames_path + '/*.jpg')\n",
    "    prediction_images = []\n",
    "    for i in range(len(images)):\n",
    "        img = image.load_img(images[i], target_size=(224,224,3))\n",
    "        img = image.img_to_array(img)\n",
    "        img = img / 255\n",
    "        prediction_images.append(img)\n",
    "        \n",
    "    # converting all the frames for a test video into numpy array\n",
    "    prediction_images = np.array(prediction_images)\n",
    "    #prediction_images = prediction_images / max_pixel\n",
    "    # extracting features using pre-trained model\n",
    "    prediction_images = base_model.predict(prediction_images)\n",
    "    # converting features in one dimensional array\n",
    "    prediction_images = prediction_images.reshape(prediction_images.shape[0], 7*7*2048)\n",
    "    # predicting tags for each array\n",
    "    prediction = np.argmax(model.predict(prediction_images), axis=-1)\n",
    "    # appending the mode of predictions in predict list to assign the tag to the video\n",
    "    predict.append(y_train.columns.values[s.mode(prediction)[0][0]])\n",
    "    # appending the actual tag of the video\n",
    "    actual.append(action)"
   ]
  },
  {
   "cell_type": "code",
   "execution_count": 111,
   "metadata": {},
   "outputs": [
    {
     "data": {
      "text/plain": [
       "72.8395061728395"
      ]
     },
     "execution_count": 111,
     "metadata": {},
     "output_type": "execute_result"
    }
   ],
   "source": [
    "from sklearn.metrics import accuracy_score\n",
    "accuracy_score(predict, actual)*100"
   ]
  },
  {
   "cell_type": "code",
   "execution_count": 152,
   "metadata": {},
   "outputs": [],
   "source": [
    "def frame_no(video_name):\n",
    "    cap= cv2.VideoCapture(video_name)\n",
    "    i=0\n",
    "    while(cap.isOpened()):\n",
    "        ret, frame = cap.read()\n",
    "        if ret == False:\n",
    "            break\n",
    "    \n",
    "        frameId = cap.get(1)\n",
    "    \n",
    "    #cap.release()\n",
    "    #cv2.destroyAllWindows()\n",
    "    return frameId\n",
    "\n",
    "filepath = 'E:\\Project 103\\prediction_count'\n",
    "j=0\n",
    "video_name = 'kill_69.mp4'\n",
    "frame_needed = 30\n",
    "cap= cv2.VideoCapture(video_name)\n",
    "#frameRate = cap.get(5)\n",
    "tot_frame = frame_no(video_name)\n",
    "while(cap.isOpened()):\n",
    "    ret, frame = cap.read()\n",
    "    if ret == False:\n",
    "        break\n",
    "    frameId = cap.get(1)\n",
    "\n",
    "    a = np.linspace(0, tot_frame, frame_needed)\n",
    "\n",
    "    for i in range(len(a)):\n",
    "        if (frameId == math.floor(a[i])):\n",
    "            final_filepath = os.path.join(filepath, 'predict_frame'+str(j)+'.jpg')\n",
    "            cv2.imwrite(final_filepath,frame)\n",
    "            j+=1\n",
    "\n",
    "cap.release()\n",
    "cv2.destroyAllWindows()"
   ]
  },
  {
   "cell_type": "code",
   "execution_count": 116,
   "metadata": {},
   "outputs": [
    {
     "name": "stdout",
     "output_type": "stream",
     "text": [
      "Moviepy - Running:\n",
      ">>> \"+ \" \".join(cmd)\n",
      "Moviepy - Command successful\n"
     ]
    }
   ],
   "source": [
    "from moviepy.video.io.ffmpeg_tools import ffmpeg_extract_subclip\n",
    "from moviepy.editor import VideoFileClip\n",
    "\n",
    "end_time = 150\n",
    "start_time = 90\n",
    "clip = VideoFileClip(\"z3.mp4\")\n",
    "dur_int = int(clip.duration)\n",
    "ffmpeg_extract_subclip(\"z3.mp4\", start_time, end_time, targetname=\"z3short2.mp4\")"
   ]
  },
  {
   "cell_type": "code",
   "execution_count": 117,
   "metadata": {},
   "outputs": [
    {
     "name": "stdout",
     "output_type": "stream",
     "text": [
      "[2 2 2 0 0 0 0 0 0 0 0 0 0 2 0 0 0 0 0 0 0 0 0 0 2 0 2 2 2 2 2 2 2 2 2 2 2\n",
      " 2 2 2 2 2 2 2 2 2 2 2 2 2 2 2 2 2 2 2 2 2 2 2 2 2 2 2 2 2 2 2 2 2 2 2 2 0\n",
      " 0 1 1 2 0 0 0 1 1 1 1 1 1 1 2 1 1 1 1 1 0 0 0 0 0 2 0 0 0 0 0 0 0 0 0 0 2\n",
      " 0 0 0 0 0 0 0 0 0 0]\n"
     ]
    }
   ],
   "source": [
    "def frame_no(video_name):\n",
    "    cap= cv2.VideoCapture(video_name)\n",
    "    i=0\n",
    "    while(cap.isOpened()):\n",
    "        ret, frame = cap.read()\n",
    "        if ret == False:\n",
    "            break\n",
    "    \n",
    "        frameId = cap.get(1)\n",
    "    \n",
    "    #cap.release()\n",
    "    #cv2.destroyAllWindows()\n",
    "    return frameId\n",
    "\n",
    "filepath = 'E:\\Project 103\\prediction_count'\n",
    "images = glob(filepath + '/*.jpg')\n",
    "\n",
    "for f in images:\n",
    "    os.remove(f)\n",
    "\n",
    "filepath = 'E:\\Project 103\\prediction_count'\n",
    "j=0\n",
    "video_name = 'z3short2.mp4'\n",
    "\n",
    "cap= cv2.VideoCapture(video_name)\n",
    "fps = cap.get(cv2.CAP_PROP_FPS)     \n",
    "frame_count = int(cap.get(cv2.CAP_PROP_FRAME_COUNT))\n",
    "duration = int(frame_count/fps)\n",
    "\n",
    "frame_needed = duration*2\n",
    "\n",
    "tot_frame = frame_no(video_name)\n",
    "while(cap.isOpened()):\n",
    "    ret, frame = cap.read()\n",
    "    if ret == False:\n",
    "        break\n",
    "    frameId = cap.get(1)\n",
    "\n",
    "    a = np.linspace(0, tot_frame, frame_needed)\n",
    "\n",
    "    for i in range(len(a)):\n",
    "        if (frameId == math.floor(a[i])):\n",
    "            final_filepath = os.path.join(filepath, 'predict_frame'+str(j)+'.jpg')\n",
    "            cv2.imwrite(final_filepath,frame)\n",
    "            j+=1\n",
    "\n",
    "cap.release()\n",
    "cv2.destroyAllWindows()\n",
    "\n",
    "images = glob(filepath + '/*.jpg')\n",
    "\n",
    "prediction_images = []\n",
    "predict = []\n",
    "predict2 = []\n",
    "for i in range(len(images)):\n",
    "    img = image.load_img(images[i], target_size=(224,224,3))\n",
    "    img = image.img_to_array(img)\n",
    "    img = img / 255\n",
    "    prediction_images.append(img)\n",
    "\n",
    "prediction_images = np.array(prediction_images)\n",
    "prediction_images = base_model.predict(prediction_images)\n",
    "prediction_images = prediction_images.reshape(prediction_images.shape[0], 7*7*512)\n",
    "predict = model.predict(prediction_images)\n",
    "a = np.argmax(predict)\n",
    "#print(predict)\n",
    "def maxfunction(x):\n",
    "        return np.argmax(x)\n",
    "\n",
    "prediction = np.apply_along_axis( maxfunction, axis=1, arr=predict )\n",
    "\n",
    "print(prediction)\n",
    "\n",
    "filepath = 'E:\\Project 103\\prediction_count'\n",
    "images = glob(filepath + '/*.jpg')\n",
    "\n",
    "for f in images:\n",
    "    os.remove(f)"
   ]
  },
  {
   "cell_type": "code",
   "execution_count": 119,
   "metadata": {},
   "outputs": [
    {
     "name": "stdout",
     "output_type": "stream",
     "text": [
      "Kill:  1\n",
      "Death:  6\n"
     ]
    }
   ],
   "source": [
    "z=0\n",
    "kill_count=0\n",
    "death_count=0\n",
    "threshold=7\n",
    "range_=10\n",
    "\n",
    "for i in prediction:\n",
    "    if z>=len(prediction):\n",
    "        break\n",
    "    \n",
    "    elif prediction[z]==1:\n",
    "            prove = prediction[z:(z+range_)]\n",
    "            #print(z,':for 1')\n",
    "            counter=collections.Counter(prove)\n",
    "            dictionary = dict(counter)\n",
    "            try:\n",
    "                if dictionary[1]>=threshold:\n",
    "                    #print('kill!')\n",
    "                    kill_count+=1\n",
    "                    \n",
    "                    z=z+threshold-1\n",
    "                   \n",
    "            except:\n",
    "                #print('oops')\n",
    "                pass\n",
    "            \n",
    "    elif prediction[z]==0:\n",
    "            prove = prediction[z:(z+range_)]\n",
    "            counter=collections.Counter(prove)\n",
    "            dictionary = dict(counter)\n",
    "            #print(z, ':for 2')\n",
    "            try:\n",
    "                if dictionary[0]>=threshold:\n",
    "                    #print('death!')\n",
    "                    \n",
    "                    death_count+=1\n",
    "                    z=z+threshold-1\n",
    "            except:\n",
    "                #print('oops')\n",
    "                pass\n",
    "            \n",
    "    else:\n",
    "        pass\n",
    "    #print(prove)\n",
    "    \n",
    "    z+=1\n",
    "    #print(z)\n",
    "print('Kill: ',kill_count)\n",
    "print('Death: ',death_count)\n",
    "\n"
   ]
  },
  {
   "cell_type": "code",
   "execution_count": 59,
   "metadata": {},
   "outputs": [],
   "source": [
    "filepath = 'E:\\Project 103\\prediction_count'\n",
    "images = glob(filepath + '/*.jpg')\n",
    "\n",
    "for f in images:\n",
    "    os.remove(f)"
   ]
  },
  {
   "cell_type": "code",
   "execution_count": 342,
   "metadata": {},
   "outputs": [
    {
     "name": "stdout",
     "output_type": "stream",
     "text": [
      "[2 2 2 2 2 2 2 2 2 2 2 2 2 2 2 2 0 0 2 2 2 2 2 2 2 0 2 2 2 2 2 2 2 2 2 2 2\n",
      " 2 2 2 2 2 2 2 2 2 2 2 2 2 2 2 2 2 2 2 2 0 2 2 2 2 2 2 0 2 2 2 2 2 2 2 0 0\n",
      " 0 0 0 2 0 0 0 2 2 2 2 2 2 2 2 2 2 2 2 2 2 2 2 2 2 2 2 2 2 2 2 2 2 2 2 2 2\n",
      " 2 0 2 2 0 2 2 2 2 2]\n"
     ]
    }
   ],
   "source": [
    "def frame_no(video_name):\n",
    "    cap= cv2.VideoCapture(video_name)\n",
    "    i=0\n",
    "    while(cap.isOpened()):\n",
    "        ret, frame = cap.read()\n",
    "        if ret == False:\n",
    "            break\n",
    "    \n",
    "        frameId = cap.get(1)\n",
    "    \n",
    "    #cap.release()\n",
    "    #cv2.destroyAllWindows()\n",
    "    return frameId\n",
    "\n",
    "filepath = 'E:\\Project 103\\prediction_count'\n",
    "j=0\n",
    "video_name = 'z1short.mp4'\n",
    "\n",
    "cap= cv2.VideoCapture(video_name)\n",
    "fps = cap.get(cv2.CAP_PROP_FPS)     \n",
    "frame_count = int(cap.get(cv2.CAP_PROP_FRAME_COUNT))\n",
    "duration = int(frame_count/fps)\n",
    "\n",
    "frame_needed = duration*2\n",
    "\n",
    "tot_frame = frame_no(video_name)\n",
    "while(cap.isOpened()):\n",
    "    ret, frame = cap.read()\n",
    "    if ret == False:\n",
    "        break\n",
    "    frameId = cap.get(1)\n",
    "\n",
    "    a = np.linspace(0, tot_frame, frame_needed)\n",
    "\n",
    "    for i in range(len(a)):\n",
    "        if (frameId == math.floor(a[i])):\n",
    "            final_filepath = os.path.join(filepath, 'predict_frame'+str(j)+'.jpg')\n",
    "            cv2.imwrite(final_filepath,frame)\n",
    "            j+=1\n",
    "\n",
    "cap.release()\n",
    "cv2.destroyAllWindows()\n",
    "\n",
    "images = glob(filepath + '/*.jpg')\n",
    "\n",
    "prediction_images = []\n",
    "predict = []\n",
    "predict2 = []\n",
    "for i in range(len(images)):\n",
    "    img = image.load_img(images[i], target_size=(224,224,3))\n",
    "    img = image.img_to_array(img)\n",
    "    img = img / 255\n",
    "    prediction_images.append(img)\n",
    "\n",
    "prediction_images = np.array(prediction_images)\n",
    "prediction_images = base_model.predict(prediction_images)\n",
    "prediction_images = prediction_images.reshape(prediction_images.shape[0], 7*7*512)\n",
    "predict = model.predict(prediction_images)\n",
    "a = np.argmax(predict)\n",
    "#print(predict)\n",
    "def maxfunction(x):\n",
    "        return np.argmax(x)\n",
    "\n",
    "prediction2 = np.apply_along_axis( maxfunction, axis=1, arr=predict )\n",
    "\n",
    "print(prediction2)"
   ]
  },
  {
   "cell_type": "code",
   "execution_count": 343,
   "metadata": {},
   "outputs": [
    {
     "name": "stdout",
     "output_type": "stream",
     "text": [
      "Kill:  0\n",
      "Death:  1\n"
     ]
    }
   ],
   "source": [
    "z=0\n",
    "kill_count=0\n",
    "death_count=0\n",
    "threshold=7\n",
    "range_=10\n",
    "\n",
    "for i in prediction2:\n",
    "    if z>=len(prediction2):\n",
    "        break\n",
    "    \n",
    "    elif prediction2[z]==1:\n",
    "            prove = prediction2[z:(z+range_)]\n",
    "            #print(z,':for 1')\n",
    "            counter=collections.Counter(prove)\n",
    "            dictionary = dict(counter)\n",
    "            try:\n",
    "                if dictionary[1]>=threshold:\n",
    "                    #print('kill!')\n",
    "                    kill_count+=1\n",
    "                    \n",
    "                    z=z+threshold-1\n",
    "                   \n",
    "            except:\n",
    "                #print('oops')\n",
    "                pass\n",
    "    elif prediction2[z]==0:\n",
    "            prove = prediction2[z:(z+range_)]\n",
    "            counter=collections.Counter(prove)\n",
    "            dictionary = dict(counter)\n",
    "            #print(z, ':for 2')\n",
    "            try:\n",
    "                if dictionary[0]>=threshold:\n",
    "                    #print('death!')\n",
    "                    \n",
    "                    death_count+=1\n",
    "                    z=z+threshold-1\n",
    "            except:\n",
    "                #print('oops')\n",
    "                pass\n",
    "    else:\n",
    "        pass\n",
    "    #print(prove)\n",
    "    \n",
    "    z+=1\n",
    "    #print(z)\n",
    "print('Kill: ',kill_count)\n",
    "print('Death: ',death_count)"
   ]
  },
  {
   "cell_type": "code",
   "execution_count": 324,
   "metadata": {},
   "outputs": [
    {
     "data": {
      "text/plain": [
       "[4, 5]"
      ]
     },
     "execution_count": 324,
     "metadata": {},
     "output_type": "execute_result"
    }
   ],
   "source": [
    "a=[1,2,3,4,5]\n",
    "a[3:5]"
   ]
  },
  {
   "cell_type": "code",
   "execution_count": 288,
   "metadata": {},
   "outputs": [
    {
     "data": {
      "text/plain": [
       "61"
      ]
     },
     "execution_count": 288,
     "metadata": {},
     "output_type": "execute_result"
    }
   ],
   "source": []
  },
  {
   "cell_type": "code",
   "execution_count": 289,
   "metadata": {},
   "outputs": [
    {
     "name": "stdout",
     "output_type": "stream",
     "text": [
      "Kill:  0\n",
      "Death:  1\n"
     ]
    }
   ],
   "source": []
  },
  {
   "cell_type": "code",
   "execution_count": null,
   "metadata": {},
   "outputs": [],
   "source": [
    "cap = cv2.VideoCapture(\"z1short.mp4\")\n",
    "fps = cap.get(cv2.CAP_PROP_FPS)     \n",
    "frame_count = int(cap.get(cv2.CAP_PROP_FRAME_COUNT))\n",
    "duration = int(frame_count/fps)\n",
    "duration"
   ]
  },
  {
   "cell_type": "code",
   "execution_count": 248,
   "metadata": {},
   "outputs": [
    {
     "data": {
      "text/plain": [
       "7"
      ]
     },
     "execution_count": 248,
     "metadata": {},
     "output_type": "execute_result"
    }
   ],
   "source": [
    "a = prediction[101:108]\n",
    "len(a)"
   ]
  },
  {
   "cell_type": "code",
   "execution_count": 136,
   "metadata": {},
   "outputs": [
    {
     "data": {
      "text/plain": [
       "array(['death', 'kill', 'NoAction'], dtype=object)"
      ]
     },
     "execution_count": 136,
     "metadata": {},
     "output_type": "execute_result"
    }
   ],
   "source": [
    "y_train.columns.values"
   ]
  },
  {
   "cell_type": "code",
   "execution_count": 117,
   "metadata": {},
   "outputs": [
    {
     "data": {
      "text/plain": [
       "(5,)"
      ]
     },
     "execution_count": 117,
     "metadata": {},
     "output_type": "execute_result"
    }
   ],
   "source": [
    "prediction.shape"
   ]
  },
  {
   "cell_type": "code",
   "execution_count": 113,
   "metadata": {},
   "outputs": [
    {
     "name": "stdout",
     "output_type": "stream",
     "text": [
      "E:\\Project 103\\prediction_count\\predict_frame0.jpg\n",
      "E:\\Project 103\\prediction_count\\predict_frame1.jpg\n",
      "E:\\Project 103\\prediction_count\\predict_frame2.jpg\n",
      "E:\\Project 103\\prediction_count\\predict_frame3.jpg\n",
      "E:\\Project 103\\prediction_count\\predict_frame4.jpg\n"
     ]
    }
   ],
   "source": [
    "for i in images:\n",
    "    print(i)"
   ]
  },
  {
   "cell_type": "code",
   "execution_count": 95,
   "metadata": {},
   "outputs": [
    {
     "data": {
      "text/plain": [
       "78.33333333333333"
      ]
     },
     "execution_count": 95,
     "metadata": {},
     "output_type": "execute_result"
    }
   ],
   "source": [
    "from sklearn.metrics import accuracy_score\n",
    "accuracy_score(predict, actual)*100"
   ]
  },
  {
   "cell_type": "code",
   "execution_count": 72,
   "metadata": {},
   "outputs": [
    {
     "data": {
      "text/plain": [
       "['kill',\n",
       " 'NoAction',\n",
       " 'NoAction',\n",
       " 'kill',\n",
       " 'NoAction',\n",
       " 'kill',\n",
       " 'NoAction',\n",
       " 'death',\n",
       " 'death',\n",
       " 'death',\n",
       " 'kill',\n",
       " 'NoAction',\n",
       " 'death',\n",
       " 'kill',\n",
       " 'death',\n",
       " 'death',\n",
       " 'kill',\n",
       " 'death',\n",
       " 'death',\n",
       " 'death',\n",
       " 'kill',\n",
       " 'kill',\n",
       " 'NoAction',\n",
       " 'death',\n",
       " 'kill',\n",
       " 'NoAction',\n",
       " 'death',\n",
       " 'NoAction',\n",
       " 'NoAction',\n",
       " 'NoAction',\n",
       " 'kill',\n",
       " 'NoAction',\n",
       " 'death',\n",
       " 'kill',\n",
       " 'death',\n",
       " 'kill',\n",
       " 'kill',\n",
       " 'death',\n",
       " 'NoAction',\n",
       " 'NoAction',\n",
       " 'kill',\n",
       " 'NoAction',\n",
       " 'NoAction',\n",
       " 'kill',\n",
       " 'death',\n",
       " 'death',\n",
       " 'NoAction',\n",
       " 'death',\n",
       " 'death',\n",
       " 'death',\n",
       " 'kill',\n",
       " 'kill',\n",
       " 'NoAction',\n",
       " 'death',\n",
       " 'NoAction',\n",
       " 'kill',\n",
       " 'kill',\n",
       " 'NoAction',\n",
       " 'death',\n",
       " 'NoAction']"
      ]
     },
     "execution_count": 72,
     "metadata": {},
     "output_type": "execute_result"
    }
   ],
   "source": [
    "predict"
   ]
  },
  {
   "cell_type": "code",
   "execution_count": null,
   "metadata": {},
   "outputs": [],
   "source": []
  },
  {
   "cell_type": "code",
   "execution_count": 81,
   "metadata": {},
   "outputs": [
    {
     "name": "stdout",
     "output_type": "stream",
     "text": [
      "Counter({'death': 21, 'NoAction': 20, 'kill': 19})\n"
     ]
    }
   ],
   "source": [
    "import collections\n",
    "counter=collections.Counter(predict)\n",
    "print(counter)"
   ]
  },
  {
   "cell_type": "code",
   "execution_count": 82,
   "metadata": {},
   "outputs": [
    {
     "name": "stdout",
     "output_type": "stream",
     "text": [
      "Counter({'death': 20, 'NoAction': 20, 'kill': 20})\n"
     ]
    }
   ],
   "source": [
    "counter=collections.Counter(actual)\n",
    "print(counter)"
   ]
  },
  {
   "cell_type": "code",
   "execution_count": 5,
   "metadata": {},
   "outputs": [
    {
     "name": "stdout",
     "output_type": "stream",
     "text": [
      "Model: \"sequential\"\n",
      "_________________________________________________________________\n",
      "Layer (type)                 Output Shape              Param #   \n",
      "=================================================================\n",
      "dense (Dense)                (None, 1024)              25691136  \n",
      "_________________________________________________________________\n",
      "dropout (Dropout)            (None, 1024)              0         \n",
      "_________________________________________________________________\n",
      "dense_1 (Dense)              (None, 512)               524800    \n",
      "_________________________________________________________________\n",
      "dropout_1 (Dropout)          (None, 512)               0         \n",
      "_________________________________________________________________\n",
      "dense_2 (Dense)              (None, 256)               131328    \n",
      "_________________________________________________________________\n",
      "dropout_2 (Dropout)          (None, 256)               0         \n",
      "_________________________________________________________________\n",
      "dense_3 (Dense)              (None, 128)               32896     \n",
      "_________________________________________________________________\n",
      "dropout_3 (Dropout)          (None, 128)               0         \n",
      "_________________________________________________________________\n",
      "dense_4 (Dense)              (None, 3)                 387       \n",
      "=================================================================\n",
      "Total params: 26,380,547\n",
      "Trainable params: 26,380,547\n",
      "Non-trainable params: 0\n",
      "_________________________________________________________________\n"
     ]
    }
   ],
   "source": [
    "model.load_weights(\"weight_vgg16_final1.hdf5\")\n",
    "model.compile(loss='categorical_crossentropy',optimizer='Adam',metrics=['accuracy'])\n",
    "model.summary()"
   ]
  },
  {
   "cell_type": "code",
   "execution_count": 36,
   "metadata": {},
   "outputs": [
    {
     "name": "stderr",
     "output_type": "stream",
     "text": [
      "100%|██████████████████████████████████████████████████████████████████████████████████| 60/60 [01:23<00:00,  1.38s/it]\n"
     ]
    }
   ],
   "source": [
    "from scipy import stats as s\n",
    "predict = []\n",
    "actual = []\n",
    "if not os.path.exists(test_frames_path):\n",
    "    os.makedirs(test_frames_path)\n",
    "\n",
    "for i in tqdm(range(test.shape[0])):\n",
    "    video_file = test['Video_url'][i]\n",
    "    action = test['action'][i]\n",
    "    video_name_list = video_file.split('/')[-1].split('.')\n",
    "    video_name_list = video_name_list[:-1]\n",
    "    video_name = \"\"\n",
    "    for n in video_name_list:\n",
    "        video_name += n\n",
    "    # capturing the video from the given path\n",
    "    capture = cv2.VideoCapture(video_file) \n",
    "    #frame rate\n",
    "    frame_rate = capture.get(5)\n",
    "    count = 0\n",
    "    files = glob(test_frames_path + '/*')\n",
    "    #removing all files from folder\n",
    "    for f in files:\n",
    "        os.remove(f)\n",
    "    while(capture.isOpened()):\n",
    "        #current frame number\n",
    "        frame_id = capture.get(1) \n",
    "        read_correctly, frame = capture.read()\n",
    "        if not read_correctly:\n",
    "            break\n",
    "        if (frame_id % math.floor(frame_rate) == 0):\n",
    "            # storing the frames in a new folder named train_1\n",
    "            filename = test_frames_path + \"/\" + video_name + \"_frame{}_\".format(count) + action +\".jpg\"\n",
    "            count += 1\n",
    "            cv2.imwrite(filename, frame)\n",
    "    capture.release()\n",
    "    \n",
    "    # reading all the frames from temp folder\n",
    "    images = glob(test_frames_path + '/*.jpg')\n",
    "    prediction_images = []\n",
    "    for i in range(len(images)):\n",
    "        img = image.load_img(images[i], target_size=(224,224,3))\n",
    "        img = image.img_to_array(img)\n",
    "        img = img / 255\n",
    "        prediction_images.append(img)\n",
    "        \n",
    "    # converting all the frames for a test video into numpy array\n",
    "    prediction_images = np.array(prediction_images)\n",
    "    #prediction_images = prediction_images / max_pixel\n",
    "    # extracting features using pre-trained model\n",
    "    prediction_images = base_model.predict(prediction_images)\n",
    "    # converting features in one dimensional array\n",
    "    prediction_images = prediction_images.reshape(prediction_images.shape[0], 7*7*512)\n",
    "    # predicting tags for each array\n",
    "    prediction = np.argmax(model.predict(prediction_images), axis=-1)\n",
    "    # appending the mode of predictions in predict list to assign the tag to the video\n",
    "    predict.append(y_train.columns.values[s.mode(prediction)[0][0]])\n",
    "    # appending the actual tag of the video\n",
    "    actual.append(action)"
   ]
  },
  {
   "cell_type": "code",
   "execution_count": 37,
   "metadata": {},
   "outputs": [
    {
     "data": {
      "text/plain": [
       "90.0"
      ]
     },
     "execution_count": 37,
     "metadata": {},
     "output_type": "execute_result"
    }
   ],
   "source": [
    "from sklearn.metrics import accuracy_score\n",
    "accuracy_score(predict, actual)*100"
   ]
  },
  {
   "cell_type": "code",
   "execution_count": 39,
   "metadata": {},
   "outputs": [],
   "source": [
    "X_best_train = X_train\n",
    "y_best_train = y_train\n",
    "\n",
    "X_best_val = X_val\n",
    "y_best_val = y_val\n",
    "\n",
    "test_best = test"
   ]
  },
  {
   "cell_type": "code",
   "execution_count": 40,
   "metadata": {},
   "outputs": [
    {
     "data": {
      "text/plain": [
       "(60, 2)"
      ]
     },
     "execution_count": 40,
     "metadata": {},
     "output_type": "execute_result"
    }
   ],
   "source": [
    "test.shape"
   ]
  },
  {
   "cell_type": "code",
   "execution_count": 41,
   "metadata": {},
   "outputs": [
    {
     "data": {
      "text/plain": [
       "(60, 2)"
      ]
     },
     "execution_count": 41,
     "metadata": {},
     "output_type": "execute_result"
    }
   ],
   "source": [
    "test_best.shape"
   ]
  },
  {
   "cell_type": "code",
   "execution_count": null,
   "metadata": {},
   "outputs": [],
   "source": []
  }
 ],
 "metadata": {
  "kernelspec": {
   "display_name": "Python 3",
   "language": "python",
   "name": "python3"
  },
  "language_info": {
   "codemirror_mode": {
    "name": "ipython",
    "version": 3
   },
   "file_extension": ".py",
   "mimetype": "text/x-python",
   "name": "python",
   "nbconvert_exporter": "python",
   "pygments_lexer": "ipython3",
   "version": "3.8.5"
  }
 },
 "nbformat": 4,
 "nbformat_minor": 4
}
