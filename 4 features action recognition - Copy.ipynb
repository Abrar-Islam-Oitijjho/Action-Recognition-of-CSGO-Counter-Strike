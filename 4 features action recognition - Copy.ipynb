{
 "cells": [
  {
   "cell_type": "code",
   "execution_count": 1,
   "metadata": {},
   "outputs": [],
   "source": [
    "import os\n",
    "import re\n",
    "import math\n",
    "import cv2\n",
    "import pickle\n",
    "import pandas as pd\n",
    "import numpy as np\n",
    "import matplotlib.pyplot as plt\n",
    "import tensorflow as tf\n",
    "\n",
    "from tqdm import tqdm\n",
    "from glob import glob\n",
    "from tools.settings import *\n",
    "from keras.models import Sequential\n",
    "from keras.preprocessing import image\n",
    "from keras.preprocessing.image import ImageDataGenerator\n",
    "from keras.layers import Dense, Dropout\n",
    "from tensorflow.keras.utils import to_categorical\n",
    "from tools.train_val_test_spliter import split\n",
    "import collections\n",
    "from collections import Counter"
   ]
  },
  {
   "cell_type": "code",
   "execution_count": 40,
   "metadata": {},
   "outputs": [
    {
     "name": "stdout",
     "output_type": "stream",
     "text": [
      "Splitting the ginen dataset into Train Test=0.2 Validation=0.2\n",
      "Done\n"
     ]
    }
   ],
   "source": [
    "split()"
   ]
  },
  {
   "cell_type": "code",
   "execution_count": 261,
   "metadata": {},
   "outputs": [],
   "source": [
    "train = pd. read_csv(os.path.join(dataset_path, \"train.csv\"))\n",
    "test = pd. read_csv(os.path.join(dataset_path, \"test.csv\"))\n",
    "val = pd. read_csv(os.path.join(dataset_path, \"val.csv\"))"
   ]
  },
  {
   "cell_type": "code",
   "execution_count": 262,
   "metadata": {},
   "outputs": [
    {
     "data": {
      "text/html": [
       "<div>\n",
       "<style scoped>\n",
       "    .dataframe tbody tr th:only-of-type {\n",
       "        vertical-align: middle;\n",
       "    }\n",
       "\n",
       "    .dataframe tbody tr th {\n",
       "        vertical-align: top;\n",
       "    }\n",
       "\n",
       "    .dataframe thead th {\n",
       "        text-align: right;\n",
       "    }\n",
       "</style>\n",
       "<table border=\"1\" class=\"dataframe\">\n",
       "  <thead>\n",
       "    <tr style=\"text-align: right;\">\n",
       "      <th></th>\n",
       "      <th>Video_url</th>\n",
       "      <th>action</th>\n",
       "    </tr>\n",
       "  </thead>\n",
       "  <tbody>\n",
       "    <tr>\n",
       "      <th>0</th>\n",
       "      <td>E:/Project 103/Trimmed Data\\death/death_38.mp4</td>\n",
       "      <td>death</td>\n",
       "    </tr>\n",
       "    <tr>\n",
       "      <th>1</th>\n",
       "      <td>E:/Project 103/Trimmed Data\\kill/Kill_27.mp4</td>\n",
       "      <td>kill</td>\n",
       "    </tr>\n",
       "    <tr>\n",
       "      <th>2</th>\n",
       "      <td>E:/Project 103/Trimmed Data\\NoAction/NoAction_...</td>\n",
       "      <td>NoAction</td>\n",
       "    </tr>\n",
       "    <tr>\n",
       "      <th>3</th>\n",
       "      <td>E:/Project 103/Trimmed Data\\smoke/smoke_37 .mp4</td>\n",
       "      <td>smoke</td>\n",
       "    </tr>\n",
       "    <tr>\n",
       "      <th>4</th>\n",
       "      <td>E:/Project 103/Trimmed Data\\kill/Kill_43.mp4</td>\n",
       "      <td>kill</td>\n",
       "    </tr>\n",
       "  </tbody>\n",
       "</table>\n",
       "</div>"
      ],
      "text/plain": [
       "                                           Video_url    action\n",
       "0     E:/Project 103/Trimmed Data\\death/death_38.mp4     death\n",
       "1       E:/Project 103/Trimmed Data\\kill/Kill_27.mp4      kill\n",
       "2  E:/Project 103/Trimmed Data\\NoAction/NoAction_...  NoAction\n",
       "3    E:/Project 103/Trimmed Data\\smoke/smoke_37 .mp4     smoke\n",
       "4       E:/Project 103/Trimmed Data\\kill/Kill_43.mp4      kill"
      ]
     },
     "execution_count": 262,
     "metadata": {},
     "output_type": "execute_result"
    }
   ],
   "source": [
    "train.head()"
   ]
  },
  {
   "cell_type": "code",
   "execution_count": 263,
   "metadata": {},
   "outputs": [
    {
     "data": {
      "text/html": [
       "<div>\n",
       "<style scoped>\n",
       "    .dataframe tbody tr th:only-of-type {\n",
       "        vertical-align: middle;\n",
       "    }\n",
       "\n",
       "    .dataframe tbody tr th {\n",
       "        vertical-align: top;\n",
       "    }\n",
       "\n",
       "    .dataframe thead th {\n",
       "        text-align: right;\n",
       "    }\n",
       "</style>\n",
       "<table border=\"1\" class=\"dataframe\">\n",
       "  <thead>\n",
       "    <tr style=\"text-align: right;\">\n",
       "      <th></th>\n",
       "      <th>Video_url</th>\n",
       "      <th>action</th>\n",
       "    </tr>\n",
       "  </thead>\n",
       "  <tbody>\n",
       "    <tr>\n",
       "      <th>0</th>\n",
       "      <td>E:/Project 103/Trimmed Data\\kill/Kill_32.mp4</td>\n",
       "      <td>kill</td>\n",
       "    </tr>\n",
       "    <tr>\n",
       "      <th>1</th>\n",
       "      <td>E:/Project 103/Trimmed Data\\smoke/smoke_106 .mp4</td>\n",
       "      <td>smoke</td>\n",
       "    </tr>\n",
       "    <tr>\n",
       "      <th>2</th>\n",
       "      <td>E:/Project 103/Trimmed Data\\NoAction/NoAction_...</td>\n",
       "      <td>NoAction</td>\n",
       "    </tr>\n",
       "    <tr>\n",
       "      <th>3</th>\n",
       "      <td>E:/Project 103/Trimmed Data\\smoke/smoke_55 .mp4</td>\n",
       "      <td>smoke</td>\n",
       "    </tr>\n",
       "    <tr>\n",
       "      <th>4</th>\n",
       "      <td>E:/Project 103/Trimmed Data\\NoAction/NoAction_...</td>\n",
       "      <td>NoAction</td>\n",
       "    </tr>\n",
       "  </tbody>\n",
       "</table>\n",
       "</div>"
      ],
      "text/plain": [
       "                                           Video_url    action\n",
       "0       E:/Project 103/Trimmed Data\\kill/Kill_32.mp4      kill\n",
       "1   E:/Project 103/Trimmed Data\\smoke/smoke_106 .mp4     smoke\n",
       "2  E:/Project 103/Trimmed Data\\NoAction/NoAction_...  NoAction\n",
       "3    E:/Project 103/Trimmed Data\\smoke/smoke_55 .mp4     smoke\n",
       "4  E:/Project 103/Trimmed Data\\NoAction/NoAction_...  NoAction"
      ]
     },
     "execution_count": 263,
     "metadata": {},
     "output_type": "execute_result"
    }
   ],
   "source": [
    "test.head()"
   ]
  },
  {
   "cell_type": "code",
   "execution_count": 264,
   "metadata": {},
   "outputs": [
    {
     "data": {
      "text/html": [
       "<div>\n",
       "<style scoped>\n",
       "    .dataframe tbody tr th:only-of-type {\n",
       "        vertical-align: middle;\n",
       "    }\n",
       "\n",
       "    .dataframe tbody tr th {\n",
       "        vertical-align: top;\n",
       "    }\n",
       "\n",
       "    .dataframe thead th {\n",
       "        text-align: right;\n",
       "    }\n",
       "</style>\n",
       "<table border=\"1\" class=\"dataframe\">\n",
       "  <thead>\n",
       "    <tr style=\"text-align: right;\">\n",
       "      <th></th>\n",
       "      <th>Video_url</th>\n",
       "      <th>action</th>\n",
       "    </tr>\n",
       "  </thead>\n",
       "  <tbody>\n",
       "    <tr>\n",
       "      <th>0</th>\n",
       "      <td>E:/Project 103/Trimmed Data\\death/death_81.mp4</td>\n",
       "      <td>death</td>\n",
       "    </tr>\n",
       "    <tr>\n",
       "      <th>1</th>\n",
       "      <td>E:/Project 103/Trimmed Data\\NoAction/NoAction_...</td>\n",
       "      <td>NoAction</td>\n",
       "    </tr>\n",
       "    <tr>\n",
       "      <th>2</th>\n",
       "      <td>E:/Project 103/Trimmed Data\\kill/Kill_37.mp4</td>\n",
       "      <td>kill</td>\n",
       "    </tr>\n",
       "    <tr>\n",
       "      <th>3</th>\n",
       "      <td>E:/Project 103/Trimmed Data\\NoAction/NoAction_...</td>\n",
       "      <td>NoAction</td>\n",
       "    </tr>\n",
       "    <tr>\n",
       "      <th>4</th>\n",
       "      <td>E:/Project 103/Trimmed Data\\smoke/smoke_13 .mp4</td>\n",
       "      <td>smoke</td>\n",
       "    </tr>\n",
       "  </tbody>\n",
       "</table>\n",
       "</div>"
      ],
      "text/plain": [
       "                                           Video_url    action\n",
       "0     E:/Project 103/Trimmed Data\\death/death_81.mp4     death\n",
       "1  E:/Project 103/Trimmed Data\\NoAction/NoAction_...  NoAction\n",
       "2       E:/Project 103/Trimmed Data\\kill/Kill_37.mp4      kill\n",
       "3  E:/Project 103/Trimmed Data\\NoAction/NoAction_...  NoAction\n",
       "4    E:/Project 103/Trimmed Data\\smoke/smoke_13 .mp4     smoke"
      ]
     },
     "execution_count": 264,
     "metadata": {},
     "output_type": "execute_result"
    }
   ],
   "source": [
    "val.head()"
   ]
  },
  {
   "cell_type": "code",
   "execution_count": 265,
   "metadata": {},
   "outputs": [
    {
     "name": "stdout",
     "output_type": "stream",
     "text": [
      "(254, 2)\n",
      "(81, 2)\n",
      "(81, 2)\n"
     ]
    }
   ],
   "source": [
    "print(train.shape)\n",
    "print(test.shape)\n",
    "print(val.shape)"
   ]
  },
  {
   "cell_type": "code",
   "execution_count": 266,
   "metadata": {},
   "outputs": [
    {
     "name": "stdout",
     "output_type": "stream",
     "text": [
      "                                            Video_url    action\n",
      "0        E:/Project 103/Trimmed Data\\kill/Kill_32.mp4      kill\n",
      "1    E:/Project 103/Trimmed Data\\smoke/smoke_106 .mp4     smoke\n",
      "2   E:/Project 103/Trimmed Data\\NoAction/NoAction_...  NoAction\n",
      "3     E:/Project 103/Trimmed Data\\smoke/smoke_55 .mp4     smoke\n",
      "4   E:/Project 103/Trimmed Data\\NoAction/NoAction_...  NoAction\n",
      "..                                                ...       ...\n",
      "76  E:/Project 103/Trimmed Data\\NoAction/NoAction_...  NoAction\n",
      "77    E:/Project 103/Trimmed Data\\smoke/smoke_54 .mp4     smoke\n",
      "78     E:/Project 103/Trimmed Data\\smoke/smoke_7 .mp4     smoke\n",
      "79       E:/Project 103/Trimmed Data\\kill/Kill_51.mp4      kill\n",
      "80     E:/Project 103/Trimmed Data\\death/death_36.mp4     death\n",
      "\n",
      "[81 rows x 2 columns]\n"
     ]
    }
   ],
   "source": [
    "print(test)"
   ]
  },
  {
   "cell_type": "code",
   "execution_count": 267,
   "metadata": {},
   "outputs": [],
   "source": [
    "def convert_to_frame(data, folder_name):\n",
    "    '''\n",
    "    Generated filenames format dataset_path/folder_name/video_name_frame{number}_action.jpg\n",
    "    '''\n",
    "    directory = os.path.join(dataset_path, folder_name)\n",
    "    if not os.path.exists(directory):\n",
    "        os.makedirs(directory)\n",
    "    for i in tqdm(range(data.shape[0])):\n",
    "        video_file = data['Video_url'][i]\n",
    "        action = data['action'][i]\n",
    "        video_name_list = video_file.split('/')[-1].split('.')\n",
    "        video_name_list = video_name_list[:-1]\n",
    "        video_name = \"\"\n",
    "        for n in video_name_list:\n",
    "            video_name += n\n",
    "        # capturing the video from the given path\n",
    "        capture = cv2.VideoCapture(video_file) \n",
    "        #frame rate\n",
    "        frame_rate = capture.get(5)\n",
    "        count = 0\n",
    "        while(capture.isOpened()):\n",
    "            #current frame number\n",
    "            frame_id = capture.get(1) \n",
    "            read_correctly, frame = capture.read()\n",
    "            if not read_correctly:\n",
    "                break\n",
    "            if (frame_id % math.floor(frame_rate) == 0):\n",
    "                # storing the frames in a new folder named train_1\n",
    "                filename = directory + \"/\" + video_name + \"_frame{}_\".format(count) + action +\".jpg\"\n",
    "                count += 1\n",
    "                cv2.imwrite(filename, frame)\n",
    "        capture.release()\n",
    "    print(\"Successfully Converted\")"
   ]
  },
  {
   "cell_type": "code",
   "execution_count": 268,
   "metadata": {},
   "outputs": [
    {
     "name": "stderr",
     "output_type": "stream",
     "text": [
      "100%|████████████████████████████████████████████████████████████████████████████████| 254/254 [04:17<00:00,  1.01s/it]"
     ]
    },
    {
     "name": "stdout",
     "output_type": "stream",
     "text": [
      "Successfully Converted\n"
     ]
    },
    {
     "name": "stderr",
     "output_type": "stream",
     "text": [
      "\n"
     ]
    }
   ],
   "source": [
    "convert_to_frame(train, train_frames_path_name)"
   ]
  },
  {
   "cell_type": "code",
   "execution_count": 269,
   "metadata": {},
   "outputs": [
    {
     "name": "stderr",
     "output_type": "stream",
     "text": [
      "100%|██████████████████████████████████████████████████████████████████████████████████| 81/81 [01:35<00:00,  1.18s/it]"
     ]
    },
    {
     "name": "stdout",
     "output_type": "stream",
     "text": [
      "Successfully Converted\n"
     ]
    },
    {
     "name": "stderr",
     "output_type": "stream",
     "text": [
      "\n"
     ]
    }
   ],
   "source": [
    "convert_to_frame(val, val_frames_path_name)"
   ]
  },
  {
   "cell_type": "code",
   "execution_count": 270,
   "metadata": {},
   "outputs": [],
   "source": [
    "def create_paths_csv(directory, file_name):\n",
    "    images = os.listdir(directory)\n",
    "    images_path_list = []\n",
    "    images_action_list = [] \n",
    "    for image in images:\n",
    "        images_path_list.append(directory + image)\n",
    "        images_action_list.append(image.split('.')[0].split('_')[-1])\n",
    "    df = pd.DataFrame()\n",
    "    df['image'] = images_path_list\n",
    "    df['action'] = images_action_list\n",
    "    print(os.path.join(dataset_path, file_name+'.csv'))\n",
    "    df.to_csv(os.path.join(dataset_path, file_name+'.csv'), index=False)"
   ]
  },
  {
   "cell_type": "code",
   "execution_count": 271,
   "metadata": {},
   "outputs": [
    {
     "name": "stdout",
     "output_type": "stream",
     "text": [
      "E:/Project 103/Trimmed Data\\train_frames.csv\n"
     ]
    }
   ],
   "source": [
    "create_paths_csv(train_frames_path, train_frames_path_name)"
   ]
  },
  {
   "cell_type": "code",
   "execution_count": 272,
   "metadata": {},
   "outputs": [
    {
     "name": "stdout",
     "output_type": "stream",
     "text": [
      "E:/Project 103/Trimmed Data\\val_frames.csv\n"
     ]
    }
   ],
   "source": [
    "create_paths_csv(val_frames_path, val_frames_path_name)"
   ]
  },
  {
   "cell_type": "code",
   "execution_count": 273,
   "metadata": {},
   "outputs": [
    {
     "data": {
      "text/html": [
       "<div>\n",
       "<style scoped>\n",
       "    .dataframe tbody tr th:only-of-type {\n",
       "        vertical-align: middle;\n",
       "    }\n",
       "\n",
       "    .dataframe tbody tr th {\n",
       "        vertical-align: top;\n",
       "    }\n",
       "\n",
       "    .dataframe thead th {\n",
       "        text-align: right;\n",
       "    }\n",
       "</style>\n",
       "<table border=\"1\" class=\"dataframe\">\n",
       "  <thead>\n",
       "    <tr style=\"text-align: right;\">\n",
       "      <th></th>\n",
       "      <th>image</th>\n",
       "      <th>action</th>\n",
       "    </tr>\n",
       "  </thead>\n",
       "  <tbody>\n",
       "    <tr>\n",
       "      <th>0</th>\n",
       "      <td>E:/Project 103/Trimmed Data\\train_frames\\death...</td>\n",
       "      <td>death</td>\n",
       "    </tr>\n",
       "    <tr>\n",
       "      <th>1</th>\n",
       "      <td>E:/Project 103/Trimmed Data\\train_frames\\death...</td>\n",
       "      <td>death</td>\n",
       "    </tr>\n",
       "    <tr>\n",
       "      <th>2</th>\n",
       "      <td>E:/Project 103/Trimmed Data\\train_frames\\death...</td>\n",
       "      <td>death</td>\n",
       "    </tr>\n",
       "    <tr>\n",
       "      <th>3</th>\n",
       "      <td>E:/Project 103/Trimmed Data\\train_frames\\death...</td>\n",
       "      <td>death</td>\n",
       "    </tr>\n",
       "    <tr>\n",
       "      <th>4</th>\n",
       "      <td>E:/Project 103/Trimmed Data\\train_frames\\death...</td>\n",
       "      <td>death</td>\n",
       "    </tr>\n",
       "    <tr>\n",
       "      <th>...</th>\n",
       "      <td>...</td>\n",
       "      <td>...</td>\n",
       "    </tr>\n",
       "    <tr>\n",
       "      <th>737</th>\n",
       "      <td>E:/Project 103/Trimmed Data\\train_frames\\smoke...</td>\n",
       "      <td>smoke</td>\n",
       "    </tr>\n",
       "    <tr>\n",
       "      <th>738</th>\n",
       "      <td>E:/Project 103/Trimmed Data\\train_frames\\smoke...</td>\n",
       "      <td>smoke</td>\n",
       "    </tr>\n",
       "    <tr>\n",
       "      <th>739</th>\n",
       "      <td>E:/Project 103/Trimmed Data\\train_frames\\smoke...</td>\n",
       "      <td>smoke</td>\n",
       "    </tr>\n",
       "    <tr>\n",
       "      <th>740</th>\n",
       "      <td>E:/Project 103/Trimmed Data\\train_frames\\smoke...</td>\n",
       "      <td>smoke</td>\n",
       "    </tr>\n",
       "    <tr>\n",
       "      <th>741</th>\n",
       "      <td>E:/Project 103/Trimmed Data\\train_frames\\smoke...</td>\n",
       "      <td>smoke</td>\n",
       "    </tr>\n",
       "  </tbody>\n",
       "</table>\n",
       "<p>742 rows × 2 columns</p>\n",
       "</div>"
      ],
      "text/plain": [
       "                                                 image action\n",
       "0    E:/Project 103/Trimmed Data\\train_frames\\death...  death\n",
       "1    E:/Project 103/Trimmed Data\\train_frames\\death...  death\n",
       "2    E:/Project 103/Trimmed Data\\train_frames\\death...  death\n",
       "3    E:/Project 103/Trimmed Data\\train_frames\\death...  death\n",
       "4    E:/Project 103/Trimmed Data\\train_frames\\death...  death\n",
       "..                                                 ...    ...\n",
       "737  E:/Project 103/Trimmed Data\\train_frames\\smoke...  smoke\n",
       "738  E:/Project 103/Trimmed Data\\train_frames\\smoke...  smoke\n",
       "739  E:/Project 103/Trimmed Data\\train_frames\\smoke...  smoke\n",
       "740  E:/Project 103/Trimmed Data\\train_frames\\smoke...  smoke\n",
       "741  E:/Project 103/Trimmed Data\\train_frames\\smoke...  smoke\n",
       "\n",
       "[742 rows x 2 columns]"
      ]
     },
     "execution_count": 273,
     "metadata": {},
     "output_type": "execute_result"
    }
   ],
   "source": [
    "train_image = pd.read_csv(os.path.join(dataset_path, 'train_frames.csv'))\n",
    "train_image"
   ]
  },
  {
   "cell_type": "code",
   "execution_count": 274,
   "metadata": {},
   "outputs": [
    {
     "name": "stdout",
     "output_type": "stream",
     "text": [
      "(742, 2)\n"
     ]
    }
   ],
   "source": [
    "print(train_image.shape)"
   ]
  },
  {
   "cell_type": "code",
   "execution_count": 275,
   "metadata": {},
   "outputs": [
    {
     "data": {
      "text/html": [
       "<div>\n",
       "<style scoped>\n",
       "    .dataframe tbody tr th:only-of-type {\n",
       "        vertical-align: middle;\n",
       "    }\n",
       "\n",
       "    .dataframe tbody tr th {\n",
       "        vertical-align: top;\n",
       "    }\n",
       "\n",
       "    .dataframe thead th {\n",
       "        text-align: right;\n",
       "    }\n",
       "</style>\n",
       "<table border=\"1\" class=\"dataframe\">\n",
       "  <thead>\n",
       "    <tr style=\"text-align: right;\">\n",
       "      <th></th>\n",
       "      <th>image</th>\n",
       "      <th>action</th>\n",
       "    </tr>\n",
       "  </thead>\n",
       "  <tbody>\n",
       "    <tr>\n",
       "      <th>0</th>\n",
       "      <td>E:/Project 103/Trimmed Data\\val_frames\\death_1...</td>\n",
       "      <td>death</td>\n",
       "    </tr>\n",
       "    <tr>\n",
       "      <th>1</th>\n",
       "      <td>E:/Project 103/Trimmed Data\\val_frames\\death_1...</td>\n",
       "      <td>death</td>\n",
       "    </tr>\n",
       "    <tr>\n",
       "      <th>2</th>\n",
       "      <td>E:/Project 103/Trimmed Data\\val_frames\\death_1...</td>\n",
       "      <td>death</td>\n",
       "    </tr>\n",
       "    <tr>\n",
       "      <th>3</th>\n",
       "      <td>E:/Project 103/Trimmed Data\\val_frames\\death_2...</td>\n",
       "      <td>death</td>\n",
       "    </tr>\n",
       "    <tr>\n",
       "      <th>4</th>\n",
       "      <td>E:/Project 103/Trimmed Data\\val_frames\\death_2...</td>\n",
       "      <td>death</td>\n",
       "    </tr>\n",
       "    <tr>\n",
       "      <th>...</th>\n",
       "      <td>...</td>\n",
       "      <td>...</td>\n",
       "    </tr>\n",
       "    <tr>\n",
       "      <th>242</th>\n",
       "      <td>E:/Project 103/Trimmed Data\\val_frames\\smoke_9...</td>\n",
       "      <td>smoke</td>\n",
       "    </tr>\n",
       "    <tr>\n",
       "      <th>243</th>\n",
       "      <td>E:/Project 103/Trimmed Data\\val_frames\\smoke_9...</td>\n",
       "      <td>smoke</td>\n",
       "    </tr>\n",
       "    <tr>\n",
       "      <th>244</th>\n",
       "      <td>E:/Project 103/Trimmed Data\\val_frames\\smoke_9...</td>\n",
       "      <td>smoke</td>\n",
       "    </tr>\n",
       "    <tr>\n",
       "      <th>245</th>\n",
       "      <td>E:/Project 103/Trimmed Data\\val_frames\\smoke_9...</td>\n",
       "      <td>smoke</td>\n",
       "    </tr>\n",
       "    <tr>\n",
       "      <th>246</th>\n",
       "      <td>E:/Project 103/Trimmed Data\\val_frames\\smoke_9...</td>\n",
       "      <td>smoke</td>\n",
       "    </tr>\n",
       "  </tbody>\n",
       "</table>\n",
       "<p>247 rows × 2 columns</p>\n",
       "</div>"
      ],
      "text/plain": [
       "                                                 image action\n",
       "0    E:/Project 103/Trimmed Data\\val_frames\\death_1...  death\n",
       "1    E:/Project 103/Trimmed Data\\val_frames\\death_1...  death\n",
       "2    E:/Project 103/Trimmed Data\\val_frames\\death_1...  death\n",
       "3    E:/Project 103/Trimmed Data\\val_frames\\death_2...  death\n",
       "4    E:/Project 103/Trimmed Data\\val_frames\\death_2...  death\n",
       "..                                                 ...    ...\n",
       "242  E:/Project 103/Trimmed Data\\val_frames\\smoke_9...  smoke\n",
       "243  E:/Project 103/Trimmed Data\\val_frames\\smoke_9...  smoke\n",
       "244  E:/Project 103/Trimmed Data\\val_frames\\smoke_9...  smoke\n",
       "245  E:/Project 103/Trimmed Data\\val_frames\\smoke_9...  smoke\n",
       "246  E:/Project 103/Trimmed Data\\val_frames\\smoke_9...  smoke\n",
       "\n",
       "[247 rows x 2 columns]"
      ]
     },
     "execution_count": 275,
     "metadata": {},
     "output_type": "execute_result"
    }
   ],
   "source": [
    "val_image = pd.read_csv(os.path.join(dataset_path, 'val_frames.csv'))\n",
    "val_image"
   ]
  },
  {
   "cell_type": "code",
   "execution_count": 276,
   "metadata": {},
   "outputs": [
    {
     "name": "stdout",
     "output_type": "stream",
     "text": [
      "(247, 2)\n"
     ]
    }
   ],
   "source": [
    "print(val_image.shape)"
   ]
  },
  {
   "cell_type": "code",
   "execution_count": 277,
   "metadata": {},
   "outputs": [
    {
     "data": {
      "text/plain": [
       "['death', 'kill', 'NoAction', 'smoke']"
      ]
     },
     "execution_count": 277,
     "metadata": {},
     "output_type": "execute_result"
    }
   ],
   "source": [
    "action_values = list(train_image['action'].unique())\n",
    "action_values"
   ]
  },
  {
   "cell_type": "code",
   "execution_count": 278,
   "metadata": {},
   "outputs": [],
   "source": [
    "def create_class_columns(df):\n",
    "    for value in action_values:\n",
    "        df[value] = np.where(df['action'].str.contains(value), 1, 0)\n",
    "    df.drop('action', axis='columns', inplace=True)"
   ]
  },
  {
   "cell_type": "code",
   "execution_count": 279,
   "metadata": {},
   "outputs": [
    {
     "data": {
      "text/html": [
       "<div>\n",
       "<style scoped>\n",
       "    .dataframe tbody tr th:only-of-type {\n",
       "        vertical-align: middle;\n",
       "    }\n",
       "\n",
       "    .dataframe tbody tr th {\n",
       "        vertical-align: top;\n",
       "    }\n",
       "\n",
       "    .dataframe thead th {\n",
       "        text-align: right;\n",
       "    }\n",
       "</style>\n",
       "<table border=\"1\" class=\"dataframe\">\n",
       "  <thead>\n",
       "    <tr style=\"text-align: right;\">\n",
       "      <th></th>\n",
       "      <th>image</th>\n",
       "      <th>death</th>\n",
       "      <th>kill</th>\n",
       "      <th>NoAction</th>\n",
       "      <th>smoke</th>\n",
       "    </tr>\n",
       "  </thead>\n",
       "  <tbody>\n",
       "    <tr>\n",
       "      <th>0</th>\n",
       "      <td>E:/Project 103/Trimmed Data\\train_frames\\death...</td>\n",
       "      <td>1</td>\n",
       "      <td>0</td>\n",
       "      <td>0</td>\n",
       "      <td>0</td>\n",
       "    </tr>\n",
       "    <tr>\n",
       "      <th>1</th>\n",
       "      <td>E:/Project 103/Trimmed Data\\train_frames\\death...</td>\n",
       "      <td>1</td>\n",
       "      <td>0</td>\n",
       "      <td>0</td>\n",
       "      <td>0</td>\n",
       "    </tr>\n",
       "    <tr>\n",
       "      <th>2</th>\n",
       "      <td>E:/Project 103/Trimmed Data\\train_frames\\death...</td>\n",
       "      <td>1</td>\n",
       "      <td>0</td>\n",
       "      <td>0</td>\n",
       "      <td>0</td>\n",
       "    </tr>\n",
       "    <tr>\n",
       "      <th>3</th>\n",
       "      <td>E:/Project 103/Trimmed Data\\train_frames\\death...</td>\n",
       "      <td>1</td>\n",
       "      <td>0</td>\n",
       "      <td>0</td>\n",
       "      <td>0</td>\n",
       "    </tr>\n",
       "    <tr>\n",
       "      <th>4</th>\n",
       "      <td>E:/Project 103/Trimmed Data\\train_frames\\death...</td>\n",
       "      <td>1</td>\n",
       "      <td>0</td>\n",
       "      <td>0</td>\n",
       "      <td>0</td>\n",
       "    </tr>\n",
       "  </tbody>\n",
       "</table>\n",
       "</div>"
      ],
      "text/plain": [
       "                                               image  death  kill  NoAction  \\\n",
       "0  E:/Project 103/Trimmed Data\\train_frames\\death...      1     0         0   \n",
       "1  E:/Project 103/Trimmed Data\\train_frames\\death...      1     0         0   \n",
       "2  E:/Project 103/Trimmed Data\\train_frames\\death...      1     0         0   \n",
       "3  E:/Project 103/Trimmed Data\\train_frames\\death...      1     0         0   \n",
       "4  E:/Project 103/Trimmed Data\\train_frames\\death...      1     0         0   \n",
       "\n",
       "   smoke  \n",
       "0      0  \n",
       "1      0  \n",
       "2      0  \n",
       "3      0  \n",
       "4      0  "
      ]
     },
     "execution_count": 279,
     "metadata": {},
     "output_type": "execute_result"
    }
   ],
   "source": [
    "create_class_columns(train_image)\n",
    "train_image.head()"
   ]
  },
  {
   "cell_type": "code",
   "execution_count": 280,
   "metadata": {},
   "outputs": [
    {
     "data": {
      "text/html": [
       "<div>\n",
       "<style scoped>\n",
       "    .dataframe tbody tr th:only-of-type {\n",
       "        vertical-align: middle;\n",
       "    }\n",
       "\n",
       "    .dataframe tbody tr th {\n",
       "        vertical-align: top;\n",
       "    }\n",
       "\n",
       "    .dataframe thead th {\n",
       "        text-align: right;\n",
       "    }\n",
       "</style>\n",
       "<table border=\"1\" class=\"dataframe\">\n",
       "  <thead>\n",
       "    <tr style=\"text-align: right;\">\n",
       "      <th></th>\n",
       "      <th>image</th>\n",
       "      <th>death</th>\n",
       "      <th>kill</th>\n",
       "      <th>NoAction</th>\n",
       "      <th>smoke</th>\n",
       "    </tr>\n",
       "  </thead>\n",
       "  <tbody>\n",
       "    <tr>\n",
       "      <th>0</th>\n",
       "      <td>E:/Project 103/Trimmed Data\\val_frames\\death_1...</td>\n",
       "      <td>1</td>\n",
       "      <td>0</td>\n",
       "      <td>0</td>\n",
       "      <td>0</td>\n",
       "    </tr>\n",
       "    <tr>\n",
       "      <th>1</th>\n",
       "      <td>E:/Project 103/Trimmed Data\\val_frames\\death_1...</td>\n",
       "      <td>1</td>\n",
       "      <td>0</td>\n",
       "      <td>0</td>\n",
       "      <td>0</td>\n",
       "    </tr>\n",
       "    <tr>\n",
       "      <th>2</th>\n",
       "      <td>E:/Project 103/Trimmed Data\\val_frames\\death_1...</td>\n",
       "      <td>1</td>\n",
       "      <td>0</td>\n",
       "      <td>0</td>\n",
       "      <td>0</td>\n",
       "    </tr>\n",
       "    <tr>\n",
       "      <th>3</th>\n",
       "      <td>E:/Project 103/Trimmed Data\\val_frames\\death_2...</td>\n",
       "      <td>1</td>\n",
       "      <td>0</td>\n",
       "      <td>0</td>\n",
       "      <td>0</td>\n",
       "    </tr>\n",
       "    <tr>\n",
       "      <th>4</th>\n",
       "      <td>E:/Project 103/Trimmed Data\\val_frames\\death_2...</td>\n",
       "      <td>1</td>\n",
       "      <td>0</td>\n",
       "      <td>0</td>\n",
       "      <td>0</td>\n",
       "    </tr>\n",
       "  </tbody>\n",
       "</table>\n",
       "</div>"
      ],
      "text/plain": [
       "                                               image  death  kill  NoAction  \\\n",
       "0  E:/Project 103/Trimmed Data\\val_frames\\death_1...      1     0         0   \n",
       "1  E:/Project 103/Trimmed Data\\val_frames\\death_1...      1     0         0   \n",
       "2  E:/Project 103/Trimmed Data\\val_frames\\death_1...      1     0         0   \n",
       "3  E:/Project 103/Trimmed Data\\val_frames\\death_2...      1     0         0   \n",
       "4  E:/Project 103/Trimmed Data\\val_frames\\death_2...      1     0         0   \n",
       "\n",
       "   smoke  \n",
       "0      0  \n",
       "1      0  \n",
       "2      0  \n",
       "3      0  \n",
       "4      0  "
      ]
     },
     "execution_count": 280,
     "metadata": {},
     "output_type": "execute_result"
    }
   ],
   "source": [
    "create_class_columns(val_image)\n",
    "val_image.head()"
   ]
  },
  {
   "cell_type": "code",
   "execution_count": 281,
   "metadata": {},
   "outputs": [],
   "source": [
    "def convert_to_array_and_split(image_data):\n",
    "    image_value = []\n",
    "    for i in tqdm(range(image_data.shape[0])):\n",
    "        img = image.load_img(image_data['image'][i], target_size=(224,224,3))\n",
    "        img = image.img_to_array(img)\n",
    "        # normalizing the pixel value\n",
    "        img = img / 255\n",
    "        image_value.append(img)\n",
    "\n",
    "    X = np.array(image_value)\n",
    "    y = image_data\n",
    "    y.drop('image', axis='columns', inplace=True)\n",
    "    return X, y"
   ]
  },
  {
   "cell_type": "markdown",
   "metadata": {},
   "source": [
    "# VGG16"
   ]
  },
  {
   "cell_type": "code",
   "execution_count": 282,
   "metadata": {},
   "outputs": [
    {
     "name": "stderr",
     "output_type": "stream",
     "text": [
      "100%|████████████████████████████████████████████████████████████████████████████████| 742/742 [00:54<00:00, 13.57it/s]\n"
     ]
    },
    {
     "name": "stdout",
     "output_type": "stream",
     "text": [
      "(742, 224, 224, 3)\n"
     ]
    }
   ],
   "source": [
    "X_train, y_train = convert_to_array_and_split(train_image)\n",
    "print(X_train.shape)"
   ]
  },
  {
   "cell_type": "code",
   "execution_count": 283,
   "metadata": {},
   "outputs": [
    {
     "name": "stderr",
     "output_type": "stream",
     "text": [
      "100%|████████████████████████████████████████████████████████████████████████████████| 247/247 [00:17<00:00, 14.17it/s]\n"
     ]
    },
    {
     "name": "stdout",
     "output_type": "stream",
     "text": [
      "(247, 224, 224, 3)\n"
     ]
    }
   ],
   "source": [
    "X_val, y_val = convert_to_array_and_split(val_image)\n",
    "print(X_val.shape)"
   ]
  },
  {
   "cell_type": "code",
   "execution_count": 284,
   "metadata": {},
   "outputs": [],
   "source": [
    "#'warning'\n",
    "X_train_set_copy = X_train\n",
    "X_val_set_copy = X_val"
   ]
  },
  {
   "cell_type": "code",
   "execution_count": 247,
   "metadata": {},
   "outputs": [],
   "source": [
    "X_train = X_train_set_copy\n",
    "X_val = X_val_set_copy"
   ]
  },
  {
   "cell_type": "code",
   "execution_count": 285,
   "metadata": {},
   "outputs": [
    {
     "data": {
      "text/plain": [
       "(742, 224, 224, 3)"
      ]
     },
     "execution_count": 285,
     "metadata": {},
     "output_type": "execute_result"
    }
   ],
   "source": [
    "X_train.shape"
   ]
  },
  {
   "cell_type": "code",
   "execution_count": 286,
   "metadata": {},
   "outputs": [
    {
     "data": {
      "text/plain": [
       "(247, 224, 224, 3)"
      ]
     },
     "execution_count": 286,
     "metadata": {},
     "output_type": "execute_result"
    }
   ],
   "source": [
    "X_val.shape"
   ]
  },
  {
   "cell_type": "code",
   "execution_count": 287,
   "metadata": {},
   "outputs": [
    {
     "data": {
      "text/html": [
       "<div>\n",
       "<style scoped>\n",
       "    .dataframe tbody tr th:only-of-type {\n",
       "        vertical-align: middle;\n",
       "    }\n",
       "\n",
       "    .dataframe tbody tr th {\n",
       "        vertical-align: top;\n",
       "    }\n",
       "\n",
       "    .dataframe thead th {\n",
       "        text-align: right;\n",
       "    }\n",
       "</style>\n",
       "<table border=\"1\" class=\"dataframe\">\n",
       "  <thead>\n",
       "    <tr style=\"text-align: right;\">\n",
       "      <th></th>\n",
       "      <th>death</th>\n",
       "      <th>kill</th>\n",
       "      <th>NoAction</th>\n",
       "      <th>smoke</th>\n",
       "    </tr>\n",
       "  </thead>\n",
       "  <tbody>\n",
       "    <tr>\n",
       "      <th>0</th>\n",
       "      <td>1</td>\n",
       "      <td>0</td>\n",
       "      <td>0</td>\n",
       "      <td>0</td>\n",
       "    </tr>\n",
       "    <tr>\n",
       "      <th>1</th>\n",
       "      <td>1</td>\n",
       "      <td>0</td>\n",
       "      <td>0</td>\n",
       "      <td>0</td>\n",
       "    </tr>\n",
       "    <tr>\n",
       "      <th>2</th>\n",
       "      <td>1</td>\n",
       "      <td>0</td>\n",
       "      <td>0</td>\n",
       "      <td>0</td>\n",
       "    </tr>\n",
       "    <tr>\n",
       "      <th>3</th>\n",
       "      <td>1</td>\n",
       "      <td>0</td>\n",
       "      <td>0</td>\n",
       "      <td>0</td>\n",
       "    </tr>\n",
       "    <tr>\n",
       "      <th>4</th>\n",
       "      <td>1</td>\n",
       "      <td>0</td>\n",
       "      <td>0</td>\n",
       "      <td>0</td>\n",
       "    </tr>\n",
       "  </tbody>\n",
       "</table>\n",
       "</div>"
      ],
      "text/plain": [
       "   death  kill  NoAction  smoke\n",
       "0      1     0         0      0\n",
       "1      1     0         0      0\n",
       "2      1     0         0      0\n",
       "3      1     0         0      0\n",
       "4      1     0         0      0"
      ]
     },
     "execution_count": 287,
     "metadata": {},
     "output_type": "execute_result"
    }
   ],
   "source": [
    "y_train.head()"
   ]
  },
  {
   "cell_type": "code",
   "execution_count": 288,
   "metadata": {},
   "outputs": [],
   "source": [
    "from tensorflow.keras.applications.vgg16 import VGG16\n",
    "'''This model was trained on a dataset that has 1,000 classes. \n",
    "include_top = False will remove the last layer of this model so that we can tune it as per our need.\n",
    "'''\n",
    "base_model_vgg16 = VGG16(weights='imagenet', include_top=False)"
   ]
  },
  {
   "cell_type": "code",
   "execution_count": 289,
   "metadata": {},
   "outputs": [
    {
     "data": {
      "text/plain": [
       "(742, 7, 7, 512)"
      ]
     },
     "execution_count": 289,
     "metadata": {},
     "output_type": "execute_result"
    }
   ],
   "source": [
    "X_train = base_model_vgg16.predict(X_train)\n",
    "X_train.shape"
   ]
  },
  {
   "cell_type": "code",
   "execution_count": 290,
   "metadata": {},
   "outputs": [
    {
     "data": {
      "text/plain": [
       "(247, 7, 7, 512)"
      ]
     },
     "execution_count": 290,
     "metadata": {},
     "output_type": "execute_result"
    }
   ],
   "source": [
    "X_val = base_model_vgg16.predict(X_val)\n",
    "X_val.shape"
   ]
  },
  {
   "cell_type": "code",
   "execution_count": 291,
   "metadata": {},
   "outputs": [],
   "source": [
    "#'warning'\n",
    "X_train_copy_vgg16 = X_train\n",
    "X_val_copy_vgg16 = X_val"
   ]
  },
  {
   "cell_type": "code",
   "execution_count": 254,
   "metadata": {},
   "outputs": [],
   "source": [
    "X_train = X_train_copy_vgg16\n",
    "X_val = X_val_copy_vgg16"
   ]
  },
  {
   "cell_type": "code",
   "execution_count": 292,
   "metadata": {},
   "outputs": [],
   "source": [
    "X_train = X_train.reshape(X_train.shape[0], 7*7*512)\n",
    "X_val = X_val.reshape(X_val.shape[0], 7*7*512)"
   ]
  },
  {
   "cell_type": "code",
   "execution_count": 293,
   "metadata": {},
   "outputs": [
    {
     "name": "stdout",
     "output_type": "stream",
     "text": [
      "(742, 25088)\n",
      "(247, 25088)\n"
     ]
    }
   ],
   "source": [
    "max_pixel = X_train.max()\n",
    "X_train = X_train / max_pixel\n",
    "X_val = X_val / max_pixel\n",
    "print(X_train.shape)\n",
    "print(X_val.shape)"
   ]
  },
  {
   "cell_type": "code",
   "execution_count": 294,
   "metadata": {},
   "outputs": [
    {
     "name": "stdout",
     "output_type": "stream",
     "text": [
      "Model: \"sequential_21\"\n",
      "_________________________________________________________________\n",
      "Layer (type)                 Output Shape              Param #   \n",
      "=================================================================\n",
      "dense_88 (Dense)             (None, 512)               12845568  \n",
      "_________________________________________________________________\n",
      "dropout_67 (Dropout)         (None, 512)               0         \n",
      "_________________________________________________________________\n",
      "dense_89 (Dense)             (None, 256)               131328    \n",
      "_________________________________________________________________\n",
      "dropout_68 (Dropout)         (None, 256)               0         \n",
      "_________________________________________________________________\n",
      "dense_90 (Dense)             (None, 128)               32896     \n",
      "_________________________________________________________________\n",
      "dropout_69 (Dropout)         (None, 128)               0         \n",
      "_________________________________________________________________\n",
      "dense_91 (Dense)             (None, 4)                 516       \n",
      "=================================================================\n",
      "Total params: 13,010,308\n",
      "Trainable params: 13,010,308\n",
      "Non-trainable params: 0\n",
      "_________________________________________________________________\n"
     ]
    }
   ],
   "source": [
    "model = Sequential()\n",
    "model.add(Dense(512, activation='relu', input_shape=(25088,)))\n",
    "model.add(Dropout(0.5))\n",
    "#model.add(Dense(512, activation='relu'))\n",
    "#model.add(Dropout(0.5))\n",
    "model.add(Dense(256, activation='relu'))\n",
    "model.add(Dropout(0.5))\n",
    "model.add(Dense(128, activation='relu'))\n",
    "model.add(Dropout(0.5))\n",
    "#model.add(Dense(64, activation='relu'))\n",
    "#model.add(Dropout(0.5))\n",
    "model.add(Dense(4, activation='softmax'))\n",
    "model.compile(loss='categorical_crossentropy',optimizer='Adam',metrics=['accuracy'])\n",
    "model.summary()"
   ]
  },
  {
   "cell_type": "code",
   "execution_count": 295,
   "metadata": {},
   "outputs": [],
   "source": [
    "from keras.callbacks import ModelCheckpoint\n",
    "mcp_weight = ModelCheckpoint('weight_vgg16_final2_3.hdf5', save_best_only=True, monitor='val_loss', mode='min')"
   ]
  },
  {
   "cell_type": "code",
   "execution_count": 296,
   "metadata": {
    "scrolled": true
   },
   "outputs": [
    {
     "name": "stdout",
     "output_type": "stream",
     "text": [
      "Epoch 1/20\n",
      "5/5 [==============================] - 2s 227ms/step - loss: 1.4000 - accuracy: 0.3026 - val_loss: 1.2276 - val_accuracy: 0.4980\n",
      "Epoch 2/20\n",
      "5/5 [==============================] - 1s 153ms/step - loss: 1.2733 - accuracy: 0.4256 - val_loss: 1.1136 - val_accuracy: 0.5385\n",
      "Epoch 3/20\n",
      "5/5 [==============================] - 1s 157ms/step - loss: 1.0799 - accuracy: 0.5422 - val_loss: 0.9632 - val_accuracy: 0.5951\n",
      "Epoch 4/20\n",
      "5/5 [==============================] - 1s 164ms/step - loss: 0.9413 - accuracy: 0.6228 - val_loss: 0.8512 - val_accuracy: 0.6437\n",
      "Epoch 5/20\n",
      "5/5 [==============================] - 1s 160ms/step - loss: 0.7539 - accuracy: 0.7035 - val_loss: 0.7994 - val_accuracy: 0.6397\n",
      "Epoch 6/20\n",
      "5/5 [==============================] - 1s 160ms/step - loss: 0.6301 - accuracy: 0.7718 - val_loss: 0.7721 - val_accuracy: 0.6599\n",
      "Epoch 7/20\n",
      "5/5 [==============================] - 1s 160ms/step - loss: 0.5923 - accuracy: 0.8040 - val_loss: 0.7236 - val_accuracy: 0.6680\n",
      "Epoch 8/20\n",
      "5/5 [==============================] - 1s 152ms/step - loss: 0.4763 - accuracy: 0.8248 - val_loss: 0.7005 - val_accuracy: 0.7085\n",
      "Epoch 9/20\n",
      "5/5 [==============================] - 1s 150ms/step - loss: 0.3993 - accuracy: 0.8615 - val_loss: 0.6923 - val_accuracy: 0.7045\n",
      "Epoch 10/20\n",
      "5/5 [==============================] - 1s 156ms/step - loss: 0.3746 - accuracy: 0.8594 - val_loss: 0.6697 - val_accuracy: 0.7368\n",
      "Epoch 11/20\n",
      "5/5 [==============================] - 1s 151ms/step - loss: 0.2800 - accuracy: 0.9103 - val_loss: 0.6810 - val_accuracy: 0.7126\n",
      "Epoch 12/20\n",
      "5/5 [==============================] - 1s 149ms/step - loss: 0.2257 - accuracy: 0.9258 - val_loss: 0.7253 - val_accuracy: 0.7409\n",
      "Epoch 13/20\n",
      "5/5 [==============================] - 1s 154ms/step - loss: 0.1846 - accuracy: 0.9464 - val_loss: 0.7038 - val_accuracy: 0.7530\n",
      "Epoch 14/20\n",
      "5/5 [==============================] - 1s 153ms/step - loss: 0.1598 - accuracy: 0.9500 - val_loss: 0.7292 - val_accuracy: 0.7328\n",
      "Epoch 15/20\n",
      "5/5 [==============================] - 1s 153ms/step - loss: 0.1302 - accuracy: 0.9641 - val_loss: 0.7982 - val_accuracy: 0.7247\n",
      "Epoch 16/20\n",
      "5/5 [==============================] - 1s 161ms/step - loss: 0.1048 - accuracy: 0.9665 - val_loss: 0.8008 - val_accuracy: 0.7449\n",
      "Epoch 17/20\n",
      "5/5 [==============================] - 1s 157ms/step - loss: 0.0845 - accuracy: 0.9683 - val_loss: 0.7846 - val_accuracy: 0.7368\n",
      "Epoch 18/20\n",
      "5/5 [==============================] - 1s 147ms/step - loss: 0.0633 - accuracy: 0.9812 - val_loss: 0.8113 - val_accuracy: 0.7328\n",
      "Epoch 19/20\n",
      "5/5 [==============================] - 1s 154ms/step - loss: 0.0462 - accuracy: 0.9914 - val_loss: 0.8793 - val_accuracy: 0.7449\n",
      "Epoch 20/20\n",
      "5/5 [==============================] - 1s 148ms/step - loss: 0.0453 - accuracy: 0.9791 - val_loss: 0.9135 - val_accuracy: 0.7368\n"
     ]
    }
   ],
   "source": [
    "history=model.fit(X_train, y_train, epochs=20, validation_data=(X_val, y_val), callbacks=[mcp_weight], batch_size=150)"
   ]
  },
  {
   "cell_type": "code",
   "execution_count": null,
   "metadata": {},
   "outputs": [],
   "source": [
    "model.load_weights(\"weight_vgg16_final1_2.hdf5\")\n",
    "model.compile(loss='categorical_crossentropy',optimizer='Adam',metrics=['accuracy'])\n",
    "model.summary()"
   ]
  },
  {
   "cell_type": "code",
   "execution_count": 297,
   "metadata": {},
   "outputs": [
    {
     "name": "stderr",
     "output_type": "stream",
     "text": [
      "100%|██████████████████████████████████████████████████████████████████████████████████| 81/81 [02:09<00:00,  1.60s/it]\n"
     ]
    }
   ],
   "source": [
    "from scipy import stats as s\n",
    "predict_vgg16 = []\n",
    "actual = []\n",
    "dict_vgg16 = {}\n",
    "\n",
    "if not os.path.exists(test_frames_path):\n",
    "    os.makedirs(test_frames_path)\n",
    "\n",
    "for i in tqdm(range(test.shape[0])):\n",
    "    video_file = test['Video_url'][i]\n",
    "    action = test['action'][i]\n",
    "    video_name_list = video_file.split('/')[-1].split('.')\n",
    "    video_name_list = video_name_list[:-1]\n",
    "    video_name = \"\"\n",
    "    for n in video_name_list:\n",
    "        video_name += n\n",
    "    # capturing the video from the given path\n",
    "    capture = cv2.VideoCapture(video_file) \n",
    "    #frame rate\n",
    "    frame_rate = capture.get(5)\n",
    "    count = 0\n",
    "    files = glob(test_frames_path + '/*')\n",
    "    #removing all files from folder\n",
    "    for f in files:\n",
    "        os.remove(f)\n",
    "    while(capture.isOpened()):\n",
    "        #current frame number\n",
    "        frame_id = capture.get(1) \n",
    "        read_correctly, frame = capture.read()\n",
    "        if not read_correctly:\n",
    "            break\n",
    "        if (frame_id % math.floor(frame_rate) == 0):\n",
    "            # storing the frames in a new folder named train_1\n",
    "            filename = test_frames_path + \"/\" + video_name + \"_frame{}_\".format(count) + action +\".jpg\"\n",
    "            count += 1\n",
    "            cv2.imwrite(filename, frame)\n",
    "    capture.release()\n",
    "    \n",
    "    # reading all the frames from temp folder\n",
    "    images = glob(test_frames_path + '/*.jpg')\n",
    "    prediction_images = []\n",
    "    for i in range(len(images)):\n",
    "        img = image.load_img(images[i], target_size=(224,224,3))\n",
    "        img = image.img_to_array(img)\n",
    "        img = img / 255\n",
    "        prediction_images.append(img)\n",
    "        \n",
    "    # converting all the frames for a test video into numpy array\n",
    "    prediction_images = np.array(prediction_images)\n",
    "    prediction_images_copy = prediction_images\n",
    "    #prediction_images = prediction_images / max_pixel\n",
    "    # extracting features using pre-trained model\n",
    "    prediction_images = base_model_vgg16.predict(prediction_images)\n",
    "    # converting features in one dimensional array\n",
    "    prediction_images = prediction_images.reshape(prediction_images.shape[0], 7*7*512)\n",
    "    # predicting tags for each array\n",
    "    prediction = np.argmax(model.predict(prediction_images), axis=-1)\n",
    "    \n",
    "    prediction_test = y_train.columns.values[s.mode(prediction)[0][0]]\n",
    "    if prediction_test != action:\n",
    "        dict_vgg16[video_name] = prediction_test\n",
    "        #print(prediction_test)\n",
    "        #print(action)\n",
    "        #print(video_name)\n",
    "    \n",
    "    # appending the mode of predictions in predict list to assign the tag to the video\n",
    "    predict_vgg16.append(y_train.columns.values[s.mode(prediction)[0][0]])\n",
    "    # appending the actual tag of the video\n",
    "    actual.append(action)\n",
    "    "
   ]
  },
  {
   "cell_type": "code",
   "execution_count": 298,
   "metadata": {},
   "outputs": [
    {
     "name": "stdout",
     "output_type": "stream",
     "text": [
      "{'death_33': 'NoAction', 'NoAction_9': 'smoke', 'smoke_10 ': 'death', 'death_16': 'kill', 'Kill_89': 'death', 'Kill_51': 'death'}\n"
     ]
    }
   ],
   "source": [
    "print(dict_vgg16)"
   ]
  },
  {
   "cell_type": "code",
   "execution_count": 299,
   "metadata": {},
   "outputs": [
    {
     "data": {
      "text/plain": [
       "92.5925925925926"
      ]
     },
     "execution_count": 299,
     "metadata": {},
     "output_type": "execute_result"
    }
   ],
   "source": [
    "from sklearn.metrics import accuracy_score\n",
    "accuracy_score(predict_vgg16, actual)*100"
   ]
  },
  {
   "cell_type": "code",
   "execution_count": 353,
   "metadata": {},
   "outputs": [
    {
     "name": "stdout",
     "output_type": "stream",
     "text": [
      "Accuracy:  92.5925925925926\n",
      "Precision:  [0.95       0.85714286 0.94736842 0.95238095]\n",
      "F1_score:  [0.95       0.87804878 0.92307692 0.95238095]\n",
      "Recall:  [0.95       0.9        0.9        0.95238095]\n"
     ]
    }
   ],
   "source": [
    "from sklearn.metrics import accuracy_score, precision_score, f1_score, recall_score\n",
    "\n",
    "accuracy = accuracy_score(predict_vgg16, actual)*100\n",
    "precision = precision_score(actual, predict_vgg16, average=None)\n",
    "f1_score = f1_score(actual, predict_vgg16, average=None)\n",
    "recall = recall_score(actual, predict_vgg16, average=None)\n",
    "\n",
    "print('Accuracy: ', accuracy)\n",
    "print('Precision: ', precision)\n",
    "print('F1_score: ', f1_score)\n",
    "print('Recall: ', recall)"
   ]
  },
  {
   "cell_type": "code",
   "execution_count": 300,
   "metadata": {},
   "outputs": [
    {
     "data": {
      "image/png": "[encoded data removed]",
      "text/plain": [
       "<Figure size 432x288 with 1 Axes>"
      ]
     },
     "metadata": {
      "needs_background": "light"
     },
     "output_type": "display_data"
    }
   ],
   "source": [
    "plt.plot(history.history['accuracy'])\n",
    "plt.plot(history.history['val_accuracy'])\n",
    "plt.title('model accuracy')\n",
    "plt.ylabel('accuracy')\n",
    "plt.xlabel('epoch')\n",
    "plt.legend(['train', 'test'], loc='upper left')\n",
    "plt.show()"
   ]
  },
  {
   "cell_type": "code",
   "execution_count": 301,
   "metadata": {},
   "outputs": [
    {
     "data": {
      "image/png": "[encoded data removed]",
      "text/plain": [
       "<Figure size 432x288 with 1 Axes>"
      ]
     },
     "metadata": {
      "needs_background": "light"
     },
     "output_type": "display_data"
    }
   ],
   "source": [
    "plt.plot(history.history['loss'])\n",
    "plt.plot(history.history['val_loss'])\n",
    "plt.title('model loss')\n",
    "plt.ylabel('loss')\n",
    "plt.xlabel('epoch')\n",
    "plt.legend(['train', 'test'], loc='upper left')\n",
    "plt.show()"
   ]
  },
  {
   "cell_type": "markdown",
   "metadata": {},
   "source": [
    "# Xception"
   ]
  },
  {
   "cell_type": "code",
   "execution_count": 220,
   "metadata": {},
   "outputs": [
    {
     "name": "stdout",
     "output_type": "stream",
     "text": [
      "(742, 224, 224, 3)\n",
      "(247, 224, 224, 3)\n"
     ]
    }
   ],
   "source": [
    "X_train = X_train_set_copy\n",
    "X_val = X_val_set_copy\n",
    "\n",
    "print(X_train.shape)\n",
    "print(X_val.shape)"
   ]
  },
  {
   "cell_type": "code",
   "execution_count": 108,
   "metadata": {},
   "outputs": [],
   "source": [
    "from tensorflow.keras.applications.xception import Xception\n",
    "'''This model was trained on a dataset that has 1,000 classes. \n",
    "include_top = False will remove the last layer of this model so that we can tune it as per our need.\n",
    "'''\n",
    "base_model_xception = Xception(weights='imagenet', include_top=False)"
   ]
  },
  {
   "cell_type": "code",
   "execution_count": 109,
   "metadata": {},
   "outputs": [
    {
     "data": {
      "text/plain": [
       "(742, 7, 7, 2048)"
      ]
     },
     "execution_count": 109,
     "metadata": {},
     "output_type": "execute_result"
    }
   ],
   "source": [
    "X_train = base_model_xception.predict(X_train)\n",
    "X_train.shape"
   ]
  },
  {
   "cell_type": "code",
   "execution_count": 110,
   "metadata": {},
   "outputs": [
    {
     "data": {
      "text/plain": [
       "(247, 7, 7, 2048)"
      ]
     },
     "execution_count": 110,
     "metadata": {},
     "output_type": "execute_result"
    }
   ],
   "source": [
    "X_val = base_model_xception.predict(X_val)\n",
    "X_val.shape"
   ]
  },
  {
   "cell_type": "code",
   "execution_count": 111,
   "metadata": {},
   "outputs": [],
   "source": [
    "#'warning'\n",
    "X_train_copy_xception = X_train\n",
    "X_val_copy_xception = X_val"
   ]
  },
  {
   "cell_type": "code",
   "execution_count": 302,
   "metadata": {},
   "outputs": [],
   "source": [
    "X_train = X_train_copy_xception\n",
    "X_val = X_val_copy_xception"
   ]
  },
  {
   "cell_type": "code",
   "execution_count": null,
   "metadata": {},
   "outputs": [],
   "source": []
  },
  {
   "cell_type": "code",
   "execution_count": 303,
   "metadata": {},
   "outputs": [
    {
     "name": "stdout",
     "output_type": "stream",
     "text": [
      "(742, 100352)\n",
      "(247, 100352)\n",
      "Model: \"sequential_22\"\n",
      "_________________________________________________________________\n",
      "Layer (type)                 Output Shape              Param #   \n",
      "=================================================================\n",
      "dense_92 (Dense)             (None, 512)               51380736  \n",
      "_________________________________________________________________\n",
      "dropout_70 (Dropout)         (None, 512)               0         \n",
      "_________________________________________________________________\n",
      "dense_93 (Dense)             (None, 256)               131328    \n",
      "_________________________________________________________________\n",
      "dropout_71 (Dropout)         (None, 256)               0         \n",
      "_________________________________________________________________\n",
      "dense_94 (Dense)             (None, 128)               32896     \n",
      "_________________________________________________________________\n",
      "dropout_72 (Dropout)         (None, 128)               0         \n",
      "_________________________________________________________________\n",
      "dense_95 (Dense)             (None, 4)                 516       \n",
      "=================================================================\n",
      "Total params: 51,545,476\n",
      "Trainable params: 51,545,476\n",
      "Non-trainable params: 0\n",
      "_________________________________________________________________\n",
      "Epoch 1/20\n",
      "5/5 [==============================] - 17s 1s/step - loss: 1.7787 - accuracy: 0.3050 - val_loss: 1.1106 - val_accuracy: 0.4939\n",
      "Epoch 2/20\n",
      "5/5 [==============================] - 12s 2s/step - loss: 1.5234 - accuracy: 0.4861 - val_loss: 0.9391 - val_accuracy: 0.5870\n",
      "Epoch 3/20\n",
      "5/5 [==============================] - 3s 588ms/step - loss: 1.1936 - accuracy: 0.5493 - val_loss: 0.8590 - val_accuracy: 0.6478\n",
      "Epoch 4/20\n",
      "5/5 [==============================] - 5s 1s/step - loss: 1.0269 - accuracy: 0.6367 - val_loss: 0.8745 - val_accuracy: 0.6154\n",
      "Epoch 5/20\n",
      "5/5 [==============================] - 3s 565ms/step - loss: 0.8315 - accuracy: 0.7089 - val_loss: 0.8737 - val_accuracy: 0.6113\n",
      "Epoch 6/20\n",
      "5/5 [==============================] - 3s 559ms/step - loss: 0.6555 - accuracy: 0.7523 - val_loss: 0.8402 - val_accuracy: 0.6235\n",
      "Epoch 7/20\n",
      "5/5 [==============================] - 3s 533ms/step - loss: 0.6009 - accuracy: 0.7812 - val_loss: 0.8355 - val_accuracy: 0.6356\n",
      "Epoch 8/20\n",
      "5/5 [==============================] - 3s 578ms/step - loss: 0.5131 - accuracy: 0.8096 - val_loss: 0.8682 - val_accuracy: 0.6478\n",
      "Epoch 9/20\n",
      "5/5 [==============================] - 3s 561ms/step - loss: 0.4604 - accuracy: 0.8350 - val_loss: 0.8933 - val_accuracy: 0.6559\n",
      "Epoch 10/20\n",
      "5/5 [==============================] - 3s 547ms/step - loss: 0.3862 - accuracy: 0.8624 - val_loss: 0.8649 - val_accuracy: 0.6559\n",
      "Epoch 11/20\n",
      "5/5 [==============================] - 3s 584ms/step - loss: 0.3870 - accuracy: 0.8524 - val_loss: 0.8579 - val_accuracy: 0.6802\n",
      "Epoch 12/20\n",
      "5/5 [==============================] - 3s 554ms/step - loss: 0.3555 - accuracy: 0.8712 - val_loss: 0.8996 - val_accuracy: 0.6559\n",
      "Epoch 13/20\n",
      "5/5 [==============================] - 3s 551ms/step - loss: 0.3153 - accuracy: 0.8850 - val_loss: 0.8948 - val_accuracy: 0.6640\n",
      "Epoch 14/20\n",
      "5/5 [==============================] - 3s 608ms/step - loss: 0.2358 - accuracy: 0.9041 - val_loss: 0.9532 - val_accuracy: 0.6883\n",
      "Epoch 15/20\n",
      "5/5 [==============================] - 4s 536ms/step - loss: 0.2256 - accuracy: 0.9275 - val_loss: 0.9736 - val_accuracy: 0.6883\n",
      "Epoch 16/20\n",
      "5/5 [==============================] - 3s 600ms/step - loss: 0.1847 - accuracy: 0.9306 - val_loss: 0.9365 - val_accuracy: 0.6883\n",
      "Epoch 17/20\n",
      "5/5 [==============================] - 3s 614ms/step - loss: 0.1594 - accuracy: 0.9451 - val_loss: 0.9574 - val_accuracy: 0.6923\n",
      "Epoch 18/20\n",
      "5/5 [==============================] - 3s 587ms/step - loss: 0.1343 - accuracy: 0.9539 - val_loss: 1.0631 - val_accuracy: 0.6923\n",
      "Epoch 19/20\n",
      "5/5 [==============================] - 3s 618ms/step - loss: 0.1065 - accuracy: 0.9647 - val_loss: 1.1474 - val_accuracy: 0.6761\n",
      "Epoch 20/20\n",
      "5/5 [==============================] - 3s 593ms/step - loss: 0.0808 - accuracy: 0.9738 - val_loss: 1.1671 - val_accuracy: 0.6923\n"
     ]
    }
   ],
   "source": [
    "X_train = X_train.reshape(X_train.shape[0], 7*7*2048)\n",
    "X_val = X_val.reshape(X_val.shape[0], 7*7*2048)\n",
    "\n",
    "max_pixel = X_train.max()\n",
    "X_train = X_train / max_pixel\n",
    "X_val = X_val / max_pixel\n",
    "print(X_train.shape)\n",
    "print(X_val.shape)\n",
    "\n",
    "model = Sequential()\n",
    "model.add(Dense(512, activation='relu', input_shape=(100352,)))\n",
    "model.add(Dropout(0.5))\n",
    "#model.add(Dense(512, activation='relu'))\n",
    "#model.add(Dropout(0.5))\n",
    "model.add(Dense(256, activation='relu'))\n",
    "model.add(Dropout(0.5))\n",
    "model.add(Dense(128, activation='relu'))\n",
    "model.add(Dropout(0.5))\n",
    "model.add(Dense(4, activation='softmax'))\n",
    "model.compile(loss='categorical_crossentropy',optimizer='Adam',metrics=['accuracy'])\n",
    "model.summary()\n",
    "\n",
    "from keras.callbacks import ModelCheckpoint\n",
    "mcp_weight = ModelCheckpoint('weight_xception_final1_4.hdf5', save_best_only=True, monitor='val_loss', mode='min')\n",
    "\n",
    "history_xception=model.fit(X_train, y_train, epochs=20, validation_data=(X_val, y_val), callbacks=[mcp_weight], batch_size=150)"
   ]
  },
  {
   "cell_type": "code",
   "execution_count": 304,
   "metadata": {},
   "outputs": [
    {
     "name": "stderr",
     "output_type": "stream",
     "text": [
      "100%|██████████████████████████████████████████████████████████████████████████████████| 81/81 [02:43<00:00,  2.01s/it]\n"
     ]
    }
   ],
   "source": [
    "from scipy import stats as s\n",
    "predict_xception = []\n",
    "actual = []\n",
    "dict_xception = {}\n",
    "\n",
    "if not os.path.exists(test_frames_path):\n",
    "    os.makedirs(test_frames_path)\n",
    "\n",
    "for i in tqdm(range(test.shape[0])):\n",
    "    video_file = test['Video_url'][i]\n",
    "    action = test['action'][i]\n",
    "    video_name_list = video_file.split('/')[-1].split('.')\n",
    "    video_name_list = video_name_list[:-1]\n",
    "    video_name = \"\"\n",
    "    for n in video_name_list:\n",
    "        video_name += n\n",
    "    # capturing the video from the given path\n",
    "    capture = cv2.VideoCapture(video_file) \n",
    "    #frame rate\n",
    "    frame_rate = capture.get(5)\n",
    "    count = 0\n",
    "    files = glob(test_frames_path + '/*')\n",
    "    #removing all files from folder\n",
    "    for f in files:\n",
    "        os.remove(f)\n",
    "    while(capture.isOpened()):\n",
    "        #current frame number\n",
    "        frame_id = capture.get(1) \n",
    "        read_correctly, frame = capture.read()\n",
    "        if not read_correctly:\n",
    "            break\n",
    "        if (frame_id % math.floor(frame_rate) == 0):\n",
    "            # storing the frames in a new folder named train_1\n",
    "            filename = test_frames_path + \"/\" + video_name + \"_frame{}_\".format(count) + action +\".jpg\"\n",
    "            count += 1\n",
    "            cv2.imwrite(filename, frame)\n",
    "    capture.release()\n",
    "    \n",
    "    # reading all the frames from temp folder\n",
    "    images = glob(test_frames_path + '/*.jpg')\n",
    "    prediction_images = []\n",
    "    for i in range(len(images)):\n",
    "        img = image.load_img(images[i], target_size=(224,224,3))\n",
    "        img = image.img_to_array(img)\n",
    "        img = img / 255\n",
    "        prediction_images.append(img)\n",
    "        \n",
    "    # converting all the frames for a test video into numpy array\n",
    "    prediction_images = np.array(prediction_images)\n",
    "    #prediction_images = prediction_images / max_pixel\n",
    "    # extracting features using pre-trained model\n",
    "    prediction_images = base_model_xception.predict(prediction_images)\n",
    "    # converting features in one dimensional array\n",
    "    prediction_images = prediction_images.reshape(prediction_images.shape[0], 7*7*2048)\n",
    "    # predicting tags for each array\n",
    "    prediction = np.argmax(model.predict(prediction_images), axis=-1)\n",
    "    \n",
    "    prediction_test = y_train.columns.values[s.mode(prediction)[0][0]]\n",
    "    if prediction_test != action:\n",
    "        dict_xception[video_name] = prediction_test\n",
    "        \n",
    "    # appending the mode of predictions in predict list to assign the tag to the video\n",
    "    predict_xception.append(y_train.columns.values[s.mode(prediction)[0][0]])\n",
    "    # appending the actual tag of the video\n",
    "    actual.append(action)"
   ]
  },
  {
   "cell_type": "code",
   "execution_count": 305,
   "metadata": {},
   "outputs": [
    {
     "data": {
      "text/plain": [
       "88.88888888888889"
      ]
     },
     "execution_count": 305,
     "metadata": {},
     "output_type": "execute_result"
    }
   ],
   "source": [
    "from sklearn.metrics import accuracy_score\n",
    "accuracy_score(predict_xception, actual)*100"
   ]
  },
  {
   "cell_type": "code",
   "execution_count": 354,
   "metadata": {},
   "outputs": [
    {
     "name": "stdout",
     "output_type": "stream",
     "text": [
      "Accuracy:  88.88888888888889\n",
      "Precision:  [1.         0.84210526 0.85714286 0.86956522]\n",
      "F1_score:  [0.94736842 0.82051282 0.87804878 0.90909091]\n",
      "Recall:  [0.9        0.8        0.9        0.95238095]\n"
     ]
    }
   ],
   "source": [
    "from sklearn.metrics import accuracy_score, precision_score, f1_score, recall_score\n",
    "\n",
    "accuracy = accuracy_score(predict_xception, actual)*100\n",
    "precision = precision_score(actual, predict_xception, average=None)\n",
    "f1_score = f1_score(actual, predict_xception, average=None)\n",
    "recall = recall_score(actual, predict_xception, average=None)\n",
    "\n",
    "print('Accuracy: ', accuracy)\n",
    "print('Precision: ', precision)\n",
    "print('F1_score: ', f1_score)\n",
    "print('Recall: ', recall)"
   ]
  },
  {
   "cell_type": "code",
   "execution_count": 306,
   "metadata": {},
   "outputs": [
    {
     "name": "stdout",
     "output_type": "stream",
     "text": [
      "{'death_17': 'kill', 'death_54': 'kill', 'Kill_4': 'death', 'NoAction_9': 'smoke', 'death_55': 'smoke', 'NoAction_77': 'death', 'death_16': 'kill', 'Kill_89': 'smoke', 'smoke_7 ': 'death'}\n",
      "{'death_33': 'NoAction', 'NoAction_9': 'smoke', 'smoke_10 ': 'death', 'death_16': 'kill', 'Kill_89': 'death', 'Kill_51': 'death'}\n"
     ]
    }
   ],
   "source": [
    "print(dict_xception)\n",
    "print(dict_vgg16)\n",
    "#print(dict_inceptionv3)\n",
    "#print(dict_inceptionresnetv2)"
   ]
  },
  {
   "cell_type": "code",
   "execution_count": null,
   "metadata": {},
   "outputs": [],
   "source": []
  },
  {
   "cell_type": "code",
   "execution_count": 307,
   "metadata": {},
   "outputs": [
    {
     "data": {
      "image/png": "[encoded data removed]",
      "text/plain": [
       "<Figure size 432x288 with 1 Axes>"
      ]
     },
     "metadata": {
      "needs_background": "light"
     },
     "output_type": "display_data"
    }
   ],
   "source": [
    "plt.plot(history_xception.history['accuracy'])\n",
    "plt.plot(history_xception.history['val_accuracy'])\n",
    "plt.title('model accuracy')\n",
    "plt.ylabel('accuracy')\n",
    "plt.xlabel('epoch')\n",
    "plt.legend(['train', 'test'], loc='upper left')\n",
    "plt.show()"
   ]
  },
  {
   "cell_type": "code",
   "execution_count": 308,
   "metadata": {},
   "outputs": [
    {
     "data": {
      "image/png": "[encoded data removed]",
      "text/plain": [
       "<Figure size 432x288 with 1 Axes>"
      ]
     },
     "metadata": {
      "needs_background": "light"
     },
     "output_type": "display_data"
    }
   ],
   "source": [
    "plt.plot(history_xception.history['loss'])\n",
    "plt.plot(history_xception.history['val_loss'])\n",
    "plt.title('model loss')\n",
    "plt.ylabel('loss')\n",
    "plt.xlabel('epoch')\n",
    "plt.legend(['train', 'test'], loc='upper left')\n",
    "plt.show()"
   ]
  },
  {
   "cell_type": "markdown",
   "metadata": {},
   "source": [
    "# InceptionV3\n"
   ]
  },
  {
   "cell_type": "code",
   "execution_count": 118,
   "metadata": {},
   "outputs": [
    {
     "name": "stdout",
     "output_type": "stream",
     "text": [
      "(742, 224, 224, 3)\n",
      "(247, 224, 224, 3)\n"
     ]
    }
   ],
   "source": [
    "X_train = X_train_set_copy\n",
    "X_val = X_val_set_copy\n",
    "\n",
    "print(X_train.shape)\n",
    "print(X_val.shape)"
   ]
  },
  {
   "cell_type": "code",
   "execution_count": 119,
   "metadata": {},
   "outputs": [],
   "source": [
    "from tensorflow.keras.applications.inception_v3 import InceptionV3\n",
    "'''This model was trained on a dataset that has 1,000 classes. \n",
    "include_top = False will remove the last layer of this model so that we can tune it as per our need.\n",
    "'''\n",
    "base_model_inception = InceptionV3(weights='imagenet', include_top=False)"
   ]
  },
  {
   "cell_type": "code",
   "execution_count": 120,
   "metadata": {},
   "outputs": [
    {
     "name": "stdout",
     "output_type": "stream",
     "text": [
      "(742, 5, 5, 2048)\n",
      "(247, 5, 5, 2048)\n"
     ]
    }
   ],
   "source": [
    "X_train = base_model_inception.predict(X_train)\n",
    "X_val = base_model_inception.predict(X_val)\n",
    "X_val.shape\n",
    "\n",
    "print(X_train.shape)\n",
    "print(X_val.shape)"
   ]
  },
  {
   "cell_type": "code",
   "execution_count": 121,
   "metadata": {},
   "outputs": [],
   "source": [
    "#'warning'\n",
    "X_train_copy_inception = X_train\n",
    "X_val_copy_inception = X_val"
   ]
  },
  {
   "cell_type": "code",
   "execution_count": 309,
   "metadata": {},
   "outputs": [],
   "source": [
    "X_train = X_train_copy_inception\n",
    "X_val = X_val_copy_inception"
   ]
  },
  {
   "cell_type": "code",
   "execution_count": 310,
   "metadata": {},
   "outputs": [
    {
     "name": "stdout",
     "output_type": "stream",
     "text": [
      "(742, 51200)\n",
      "(247, 51200)\n",
      "Model: \"sequential_23\"\n",
      "_________________________________________________________________\n",
      "Layer (type)                 Output Shape              Param #   \n",
      "=================================================================\n",
      "dense_96 (Dense)             (None, 1024)              52429824  \n",
      "_________________________________________________________________\n",
      "dropout_73 (Dropout)         (None, 1024)              0         \n",
      "_________________________________________________________________\n",
      "dense_97 (Dense)             (None, 512)               524800    \n",
      "_________________________________________________________________\n",
      "dropout_74 (Dropout)         (None, 512)               0         \n",
      "_________________________________________________________________\n",
      "dense_98 (Dense)             (None, 256)               131328    \n",
      "_________________________________________________________________\n",
      "dropout_75 (Dropout)         (None, 256)               0         \n",
      "_________________________________________________________________\n",
      "dense_99 (Dense)             (None, 128)               32896     \n",
      "_________________________________________________________________\n",
      "dropout_76 (Dropout)         (None, 128)               0         \n",
      "_________________________________________________________________\n",
      "dense_100 (Dense)            (None, 4)                 516       \n",
      "=================================================================\n",
      "Total params: 53,119,364\n",
      "Trainable params: 53,119,364\n",
      "Non-trainable params: 0\n",
      "_________________________________________________________________\n",
      "Epoch 1/20\n",
      "5/5 [==============================] - 6s 688ms/step - loss: 1.5906 - accuracy: 0.2671 - val_loss: 1.2469 - val_accuracy: 0.4575\n",
      "Epoch 2/20\n",
      "5/5 [==============================] - 3s 609ms/step - loss: 1.7264 - accuracy: 0.3081 - val_loss: 1.2544 - val_accuracy: 0.5020\n",
      "Epoch 3/20\n",
      "5/5 [==============================] - 3s 672ms/step - loss: 1.4205 - accuracy: 0.3541 - val_loss: 1.1602 - val_accuracy: 0.5142\n",
      "Epoch 4/20\n",
      "5/5 [==============================] - 3s 618ms/step - loss: 1.2714 - accuracy: 0.4437 - val_loss: 1.1227 - val_accuracy: 0.6356\n",
      "Epoch 5/20\n",
      "5/5 [==============================] - 3s 630ms/step - loss: 1.1415 - accuracy: 0.5036 - val_loss: 1.0257 - val_accuracy: 0.6437\n",
      "Epoch 6/20\n",
      "5/5 [==============================] - 3s 614ms/step - loss: 1.0228 - accuracy: 0.5709 - val_loss: 0.8861 - val_accuracy: 0.6518\n",
      "Epoch 7/20\n",
      "5/5 [==============================] - 3s 575ms/step - loss: 0.9119 - accuracy: 0.6040 - val_loss: 0.8468 - val_accuracy: 0.6599\n",
      "Epoch 8/20\n",
      "5/5 [==============================] - 3s 560ms/step - loss: 0.8012 - accuracy: 0.6760 - val_loss: 0.7893 - val_accuracy: 0.6883\n",
      "Epoch 9/20\n",
      "5/5 [==============================] - 3s 554ms/step - loss: 0.7075 - accuracy: 0.7229 - val_loss: 0.7834 - val_accuracy: 0.6923\n",
      "Epoch 10/20\n",
      "5/5 [==============================] - 3s 556ms/step - loss: 0.6767 - accuracy: 0.7506 - val_loss: 0.7613 - val_accuracy: 0.7206\n",
      "Epoch 11/20\n",
      "5/5 [==============================] - 3s 555ms/step - loss: 0.5688 - accuracy: 0.7776 - val_loss: 0.7658 - val_accuracy: 0.7045\n",
      "Epoch 12/20\n",
      "5/5 [==============================] - 3s 547ms/step - loss: 0.4633 - accuracy: 0.8182 - val_loss: 0.7324 - val_accuracy: 0.7368\n",
      "Epoch 13/20\n",
      "5/5 [==============================] - 3s 542ms/step - loss: 0.4149 - accuracy: 0.8619 - val_loss: 0.7985 - val_accuracy: 0.7004\n",
      "Epoch 14/20\n",
      "5/5 [==============================] - 3s 541ms/step - loss: 0.3638 - accuracy: 0.8787 - val_loss: 0.8387 - val_accuracy: 0.7409\n",
      "Epoch 15/20\n",
      "5/5 [==============================] - 3s 542ms/step - loss: 0.2601 - accuracy: 0.9118 - val_loss: 0.9062 - val_accuracy: 0.7206\n",
      "Epoch 16/20\n",
      "5/5 [==============================] - 3s 540ms/step - loss: 0.2541 - accuracy: 0.9049 - val_loss: 0.9292 - val_accuracy: 0.7368\n",
      "Epoch 17/20\n",
      "5/5 [==============================] - 3s 542ms/step - loss: 0.2360 - accuracy: 0.9201 - val_loss: 0.9105 - val_accuracy: 0.7166\n",
      "Epoch 18/20\n",
      "5/5 [==============================] - 3s 546ms/step - loss: 0.1785 - accuracy: 0.9236 - val_loss: 0.8940 - val_accuracy: 0.7530\n",
      "Epoch 19/20\n",
      "5/5 [==============================] - 3s 537ms/step - loss: 0.1700 - accuracy: 0.9465 - val_loss: 0.9512 - val_accuracy: 0.7368\n",
      "Epoch 20/20\n",
      "5/5 [==============================] - 3s 529ms/step - loss: 0.1362 - accuracy: 0.9556 - val_loss: 1.0310 - val_accuracy: 0.7166\n"
     ]
    }
   ],
   "source": [
    "X_train = X_train.reshape(X_train.shape[0], 5*5*2048)\n",
    "X_val = X_val.reshape(X_val.shape[0], 5*5*2048)\n",
    "\n",
    "max_pixel = X_train.max()\n",
    "X_train = X_train / max_pixel\n",
    "X_val = X_val / max_pixel\n",
    "print(X_train.shape)\n",
    "print(X_val.shape)\n",
    "\n",
    "model = Sequential()\n",
    "model.add(Dense(1024, activation='relu', input_shape=(51200,)))\n",
    "model.add(Dropout(0.5))\n",
    "model.add(Dense(512, activation='relu'))\n",
    "model.add(Dropout(0.5))\n",
    "model.add(Dense(256, activation='relu'))\n",
    "model.add(Dropout(0.5))\n",
    "model.add(Dense(128, activation='relu'))\n",
    "model.add(Dropout(0.5))\n",
    "model.add(Dense(4, activation='softmax'))\n",
    "model.compile(loss='categorical_crossentropy',optimizer='Adam',metrics=['accuracy'])\n",
    "model.summary()\n",
    "\n",
    "from keras.callbacks import ModelCheckpoint\n",
    "mcp_weight = ModelCheckpoint('weight_inception_final1_4.hdf5', save_best_only=True, monitor='val_loss', mode='min')\n",
    "\n",
    "history_inception=model.fit(X_train, y_train, epochs=20, validation_data=(X_val, y_val), callbacks=[mcp_weight], batch_size=150)"
   ]
  },
  {
   "cell_type": "code",
   "execution_count": 311,
   "metadata": {},
   "outputs": [
    {
     "name": "stderr",
     "output_type": "stream",
     "text": [
      "100%|██████████████████████████████████████████████████████████████████████████████████| 81/81 [01:26<00:00,  1.06s/it]\n"
     ]
    }
   ],
   "source": [
    "from scipy import stats as s\n",
    "predict_inception = []\n",
    "actual = []\n",
    "dict_inceptionv3 = {}\n",
    "\n",
    "if not os.path.exists(test_frames_path):\n",
    "    os.makedirs(test_frames_path)\n",
    "\n",
    "for i in tqdm(range(test.shape[0])):\n",
    "    video_file = test['Video_url'][i]\n",
    "    action = test['action'][i]\n",
    "    video_name_list = video_file.split('/')[-1].split('.')\n",
    "    video_name_list = video_name_list[:-1]\n",
    "    video_name = \"\"\n",
    "    for n in video_name_list:\n",
    "        video_name += n\n",
    "    # capturing the video from the given path\n",
    "    capture = cv2.VideoCapture(video_file) \n",
    "    #frame rate\n",
    "    frame_rate = capture.get(5)\n",
    "    count = 0\n",
    "    files = glob(test_frames_path + '/*')\n",
    "    #removing all files from folder\n",
    "    for f in files:\n",
    "        os.remove(f)\n",
    "    while(capture.isOpened()):\n",
    "        #current frame number\n",
    "        frame_id = capture.get(1) \n",
    "        read_correctly, frame = capture.read()\n",
    "        if not read_correctly:\n",
    "            break\n",
    "        if (frame_id % math.floor(frame_rate) == 0):\n",
    "            # storing the frames in a new folder named train_1\n",
    "            filename = test_frames_path + \"/\" + video_name + \"_frame{}_\".format(count) + action +\".jpg\"\n",
    "            count += 1\n",
    "            cv2.imwrite(filename, frame)\n",
    "    capture.release()\n",
    "    \n",
    "    # reading all the frames from temp folder\n",
    "    images = glob(test_frames_path + '/*.jpg')\n",
    "    prediction_images = []\n",
    "    for i in range(len(images)):\n",
    "        img = image.load_img(images[i], target_size=(224,224,3))\n",
    "        img = image.img_to_array(img)\n",
    "        img = img / 255\n",
    "        prediction_images.append(img)\n",
    "        \n",
    "    # converting all the frames for a test video into numpy array\n",
    "    prediction_images = np.array(prediction_images)\n",
    "    #prediction_images = prediction_images / max_pixel\n",
    "    # extracting features using pre-trained model\n",
    "    prediction_images = base_model_inception.predict(prediction_images)\n",
    "    # converting features in one dimensional array\n",
    "    prediction_images = prediction_images.reshape(prediction_images.shape[0], 5*5*2048)\n",
    "    # predicting tags for each array\n",
    "    prediction = np.argmax(model.predict(prediction_images), axis=-1)\n",
    "    # appending the mode of predictions in predict list to assign the tag to the video\n",
    "    \n",
    "    prediction_test = y_train.columns.values[s.mode(prediction)[0][0]]\n",
    "    if prediction_test != action:\n",
    "        dict_inceptionv3[video_name] = prediction_test\n",
    "    \n",
    "    predict_inception.append(y_train.columns.values[s.mode(prediction)[0][0]])\n",
    "    # appending the actual tag of the video\n",
    "    actual.append(action)"
   ]
  },
  {
   "cell_type": "code",
   "execution_count": 312,
   "metadata": {},
   "outputs": [
    {
     "data": {
      "text/plain": [
       "90.12345679012346"
      ]
     },
     "execution_count": 312,
     "metadata": {},
     "output_type": "execute_result"
    }
   ],
   "source": [
    "from sklearn.metrics import accuracy_score\n",
    "accuracy_score(predict_inception, actual)*100"
   ]
  },
  {
   "cell_type": "code",
   "execution_count": 355,
   "metadata": {},
   "outputs": [
    {
     "name": "stdout",
     "output_type": "stream",
     "text": [
      "Accuracy:  90.12345679012346\n",
      "Precision:  [0.9047619  0.85714286 0.9        0.94736842]\n",
      "F1_score:  [0.92682927 0.87804878 0.9        0.9       ]\n",
      "Recall:  [0.95       0.9        0.9        0.85714286]\n"
     ]
    }
   ],
   "source": [
    "from sklearn.metrics import accuracy_score, precision_score, f1_score, recall_score\n",
    "\n",
    "accuracy = accuracy_score(predict_inception, actual)*100\n",
    "precision = precision_score(actual, predict_inception, average=None)\n",
    "f1_score = f1_score(actual, predict_inception, average=None)\n",
    "recall = recall_score(actual, predict_inception, average=None)\n",
    "\n",
    "print('Accuracy: ', accuracy)\n",
    "print('Precision: ', precision)\n",
    "print('F1_score: ', f1_score)\n",
    "print('Recall: ', recall)"
   ]
  },
  {
   "cell_type": "code",
   "execution_count": 313,
   "metadata": {},
   "outputs": [
    {
     "name": "stdout",
     "output_type": "stream",
     "text": [
      "{'death_33': 'NoAction', 'NoAction_9': 'smoke', 'smoke_10 ': 'death', 'death_16': 'kill', 'Kill_89': 'death', 'Kill_51': 'death'}\n",
      "{'death_17': 'kill', 'death_54': 'kill', 'Kill_4': 'death', 'NoAction_9': 'smoke', 'death_55': 'smoke', 'NoAction_77': 'death', 'death_16': 'kill', 'Kill_89': 'smoke', 'smoke_7 ': 'death'}\n",
      "{'death_17': 'kill', 'Kill_4': 'death', 'death_45': 'NoAction', 'NoAction_9': 'smoke', 'Kill_22': 'death', 'smoke_80 ': 'kill', 'smoke_82 ': 'NoAction', 'smoke_7 ': 'death'}\n"
     ]
    }
   ],
   "source": [
    "print(dict_vgg16)\n",
    "print(dict_xception)\n",
    "print(dict_inceptionv3)"
   ]
  },
  {
   "cell_type": "code",
   "execution_count": null,
   "metadata": {},
   "outputs": [],
   "source": []
  },
  {
   "cell_type": "code",
   "execution_count": 314,
   "metadata": {},
   "outputs": [
    {
     "data": {
      "image/png": "[encoded data removed]",
      "text/plain": [
       "<Figure size 432x288 with 1 Axes>"
      ]
     },
     "metadata": {
      "needs_background": "light"
     },
     "output_type": "display_data"
    }
   ],
   "source": [
    "plt.plot(history_inception.history['accuracy'])\n",
    "plt.plot(history_inception.history['val_accuracy'])\n",
    "plt.title('model accuracy')\n",
    "plt.ylabel('accuracy')\n",
    "plt.xlabel('epoch')\n",
    "plt.legend(['train', 'test'], loc='upper left')\n",
    "plt.show()"
   ]
  },
  {
   "cell_type": "code",
   "execution_count": 315,
   "metadata": {},
   "outputs": [
    {
     "data": {
      "image/png": "[encoded data removed]",
      "text/plain": [
       "<Figure size 432x288 with 1 Axes>"
      ]
     },
     "metadata": {
      "needs_background": "light"
     },
     "output_type": "display_data"
    }
   ],
   "source": [
    "plt.plot(history_inception.history['loss'])\n",
    "plt.plot(history_inception.history['val_loss'])\n",
    "plt.title('model loss')\n",
    "plt.ylabel('loss')\n",
    "plt.xlabel('epoch')\n",
    "plt.legend(['train', 'test'], loc='upper left')\n",
    "plt.show()"
   ]
  },
  {
   "cell_type": "code",
   "execution_count": null,
   "metadata": {},
   "outputs": [],
   "source": [
    "model.load_weights(\"weight_inception_final1_3.hdf5\")\n",
    "model.compile(loss='categorical_crossentropy',optimizer='Adam',metrics=['accuracy'])\n",
    "model.summary()"
   ]
  },
  {
   "cell_type": "markdown",
   "metadata": {},
   "source": [
    "# InceptionResnetV2"
   ]
  },
  {
   "cell_type": "code",
   "execution_count": 128,
   "metadata": {},
   "outputs": [
    {
     "name": "stdout",
     "output_type": "stream",
     "text": [
      "(742, 224, 224, 3)\n",
      "(247, 224, 224, 3)\n"
     ]
    }
   ],
   "source": [
    "X_train = X_train_set_copy\n",
    "X_val = X_val_set_copy\n",
    "\n",
    "print(X_train.shape)\n",
    "print(X_val.shape)"
   ]
  },
  {
   "cell_type": "code",
   "execution_count": 129,
   "metadata": {},
   "outputs": [],
   "source": [
    "from tensorflow.keras.applications.inception_resnet_v2 import InceptionResNetV2\n",
    "'''This model was trained on a dataset that has 1,000 classes. \n",
    "include_top = False will remove the last layer of this model so that we can tune it as per our need.\n",
    "'''\n",
    "base_model_InceptionResNetV2 = InceptionResNetV2(weights='imagenet', include_top=False)"
   ]
  },
  {
   "cell_type": "code",
   "execution_count": 130,
   "metadata": {},
   "outputs": [
    {
     "name": "stdout",
     "output_type": "stream",
     "text": [
      "(742, 5, 5, 1536)\n",
      "(247, 5, 5, 1536)\n"
     ]
    }
   ],
   "source": [
    "X_train = base_model_InceptionResNetV2.predict(X_train)\n",
    "X_val = base_model_InceptionResNetV2.predict(X_val)\n",
    "X_val.shape\n",
    "\n",
    "print(X_train.shape)\n",
    "print(X_val.shape)"
   ]
  },
  {
   "cell_type": "code",
   "execution_count": 131,
   "metadata": {},
   "outputs": [],
   "source": [
    "#'warning'\n",
    "X_train_copy_inceptionresnet = X_train\n",
    "X_val_copy_inceptionresnet = X_val"
   ]
  },
  {
   "cell_type": "code",
   "execution_count": 316,
   "metadata": {},
   "outputs": [],
   "source": [
    "X_train = X_train_copy_inceptionresnet\n",
    "X_val = X_val_copy_inceptionresnet"
   ]
  },
  {
   "cell_type": "code",
   "execution_count": 317,
   "metadata": {},
   "outputs": [
    {
     "name": "stdout",
     "output_type": "stream",
     "text": [
      "(742, 38400)\n",
      "(247, 38400)\n",
      "Model: \"sequential_24\"\n",
      "_________________________________________________________________\n",
      "Layer (type)                 Output Shape              Param #   \n",
      "=================================================================\n",
      "dense_101 (Dense)            (None, 512)               19661312  \n",
      "_________________________________________________________________\n",
      "dropout_77 (Dropout)         (None, 512)               0         \n",
      "_________________________________________________________________\n",
      "dense_102 (Dense)            (None, 256)               131328    \n",
      "_________________________________________________________________\n",
      "dropout_78 (Dropout)         (None, 256)               0         \n",
      "_________________________________________________________________\n",
      "dense_103 (Dense)            (None, 128)               32896     \n",
      "_________________________________________________________________\n",
      "dropout_79 (Dropout)         (None, 128)               0         \n",
      "_________________________________________________________________\n",
      "dense_104 (Dense)            (None, 4)                 516       \n",
      "=================================================================\n",
      "Total params: 19,826,052\n",
      "Trainable params: 19,826,052\n",
      "Non-trainable params: 0\n",
      "_________________________________________________________________\n",
      "Epoch 1/30\n",
      "5/5 [==============================] - 3s 539ms/step - loss: 1.5094 - accuracy: 0.3358 - val_loss: 1.1212 - val_accuracy: 0.5668\n",
      "Epoch 2/30\n",
      "5/5 [==============================] - 1s 220ms/step - loss: 1.3916 - accuracy: 0.4086 - val_loss: 1.0987 - val_accuracy: 0.5709\n",
      "Epoch 3/30\n",
      "5/5 [==============================] - 1s 219ms/step - loss: 1.1333 - accuracy: 0.5089 - val_loss: 0.9670 - val_accuracy: 0.6397\n",
      "Epoch 4/30\n",
      "5/5 [==============================] - 1s 299ms/step - loss: 0.9915 - accuracy: 0.6018 - val_loss: 0.8967 - val_accuracy: 0.6761\n",
      "Epoch 5/30\n",
      "5/5 [==============================] - 1s 219ms/step - loss: 0.8096 - accuracy: 0.6712 - val_loss: 0.8108 - val_accuracy: 0.7045\n",
      "Epoch 6/30\n",
      "5/5 [==============================] - 1s 218ms/step - loss: 0.6947 - accuracy: 0.7401 - val_loss: 0.7808 - val_accuracy: 0.6640\n",
      "Epoch 7/30\n",
      "5/5 [==============================] - 1s 216ms/step - loss: 0.5720 - accuracy: 0.7915 - val_loss: 0.7238 - val_accuracy: 0.7126\n",
      "Epoch 8/30\n",
      "5/5 [==============================] - 1s 221ms/step - loss: 0.4757 - accuracy: 0.8375 - val_loss: 0.7207 - val_accuracy: 0.7085\n",
      "Epoch 9/30\n",
      "5/5 [==============================] - 1s 218ms/step - loss: 0.4518 - accuracy: 0.8443 - val_loss: 0.7204 - val_accuracy: 0.7206\n",
      "Epoch 10/30\n",
      "5/5 [==============================] - 1s 229ms/step - loss: 0.3455 - accuracy: 0.8767 - val_loss: 0.7224 - val_accuracy: 0.7287\n",
      "Epoch 11/30\n",
      "5/5 [==============================] - 1s 260ms/step - loss: 0.3011 - accuracy: 0.9073 - val_loss: 0.7358 - val_accuracy: 0.7206\n",
      "Epoch 12/30\n",
      "5/5 [==============================] - 1s 220ms/step - loss: 0.2871 - accuracy: 0.8957 - val_loss: 0.7422 - val_accuracy: 0.7126\n",
      "Epoch 13/30\n",
      "5/5 [==============================] - 1s 249ms/step - loss: 0.2540 - accuracy: 0.9008 - val_loss: 0.7176 - val_accuracy: 0.7328\n",
      "Epoch 14/30\n",
      "5/5 [==============================] - 1s 220ms/step - loss: 0.2059 - accuracy: 0.9374 - val_loss: 0.7502 - val_accuracy: 0.7368\n",
      "Epoch 15/30\n",
      "5/5 [==============================] - 1s 221ms/step - loss: 0.1550 - accuracy: 0.9563 - val_loss: 0.7977 - val_accuracy: 0.7409\n",
      "Epoch 16/30\n",
      "5/5 [==============================] - 1s 219ms/step - loss: 0.1630 - accuracy: 0.9474 - val_loss: 0.7855 - val_accuracy: 0.7530\n",
      "Epoch 17/30\n",
      "5/5 [==============================] - 1s 220ms/step - loss: 0.1690 - accuracy: 0.9453 - val_loss: 0.7966 - val_accuracy: 0.7571\n",
      "Epoch 18/30\n",
      "5/5 [==============================] - 1s 219ms/step - loss: 0.0874 - accuracy: 0.9728 - val_loss: 0.9923 - val_accuracy: 0.7287\n",
      "Epoch 19/30\n",
      "5/5 [==============================] - 1s 218ms/step - loss: 0.0971 - accuracy: 0.9608 - val_loss: 0.8904 - val_accuracy: 0.7287\n",
      "Epoch 20/30\n",
      "5/5 [==============================] - 1s 222ms/step - loss: 0.0944 - accuracy: 0.9748 - val_loss: 0.9460 - val_accuracy: 0.7449\n",
      "Epoch 21/30\n",
      "5/5 [==============================] - 1s 217ms/step - loss: 0.0869 - accuracy: 0.9715 - val_loss: 0.9481 - val_accuracy: 0.7368\n",
      "Epoch 22/30\n",
      "5/5 [==============================] - 1s 218ms/step - loss: 0.0671 - accuracy: 0.9839 - val_loss: 0.8735 - val_accuracy: 0.7490\n",
      "Epoch 23/30\n",
      "5/5 [==============================] - 1s 218ms/step - loss: 0.0536 - accuracy: 0.9816 - val_loss: 1.0889 - val_accuracy: 0.7247\n",
      "Epoch 24/30\n",
      "5/5 [==============================] - 1s 217ms/step - loss: 0.0600 - accuracy: 0.9791 - val_loss: 0.9819 - val_accuracy: 0.7733\n",
      "Epoch 25/30\n",
      "5/5 [==============================] - 1s 216ms/step - loss: 0.0373 - accuracy: 0.9904 - val_loss: 1.0121 - val_accuracy: 0.7733\n",
      "Epoch 26/30\n",
      "5/5 [==============================] - 1s 216ms/step - loss: 0.0271 - accuracy: 0.9902 - val_loss: 1.1505 - val_accuracy: 0.7287\n",
      "Epoch 27/30\n",
      "5/5 [==============================] - 1s 217ms/step - loss: 0.0267 - accuracy: 0.9925 - val_loss: 1.1089 - val_accuracy: 0.7490\n",
      "Epoch 28/30\n",
      "5/5 [==============================] - 1s 219ms/step - loss: 0.0183 - accuracy: 0.9948 - val_loss: 1.1217 - val_accuracy: 0.7490\n",
      "Epoch 29/30\n",
      "5/5 [==============================] - 1s 215ms/step - loss: 0.0337 - accuracy: 0.9893 - val_loss: 1.1359 - val_accuracy: 0.7571\n",
      "Epoch 30/30\n",
      "5/5 [==============================] - 1s 208ms/step - loss: 0.0209 - accuracy: 0.9965 - val_loss: 1.1743 - val_accuracy: 0.7287\n"
     ]
    }
   ],
   "source": [
    "X_train = X_train.reshape(X_train.shape[0], 5*5*1536)\n",
    "X_val = X_val.reshape(X_val.shape[0], 5*5*1536)\n",
    "\n",
    "max_pixel = X_train.max()\n",
    "X_train = X_train / max_pixel\n",
    "X_val = X_val / max_pixel\n",
    "print(X_train.shape)\n",
    "print(X_val.shape)\n",
    "\n",
    "model = Sequential()\n",
    "model.add(Dense(512, activation='relu', input_shape=(38400,)))\n",
    "model.add(Dropout(0.5))\n",
    "#model.add(Dense(512, activation='relu'))\n",
    "#model.add(Dropout(0.5))\n",
    "model.add(Dense(256, activation='relu'))\n",
    "model.add(Dropout(0.5))\n",
    "model.add(Dense(128, activation='relu'))\n",
    "model.add(Dropout(0.5))\n",
    "model.add(Dense(4, activation='softmax'))\n",
    "model.compile(loss='categorical_crossentropy',optimizer='Adam',metrics=['accuracy'])\n",
    "model.summary()\n",
    "\n",
    "from keras.callbacks import ModelCheckpoint\n",
    "mcp_weight = ModelCheckpoint('weight_inceptionresnet_final1_4.hdf5', save_best_only=True, monitor='val_loss', mode='min')\n",
    "\n",
    "history_InceptionResNetV2=model.fit(X_train, y_train, epochs=30, validation_data=(X_val, y_val), callbacks=[mcp_weight], \n",
    "                                    batch_size=150)"
   ]
  },
  {
   "cell_type": "code",
   "execution_count": 318,
   "metadata": {},
   "outputs": [
    {
     "name": "stderr",
     "output_type": "stream",
     "text": [
      "100%|██████████████████████████████████████████████████████████████████████████████████| 81/81 [02:04<00:00,  1.53s/it]\n"
     ]
    }
   ],
   "source": [
    "from scipy import stats as s\n",
    "predict_inceptionresnet = []\n",
    "actual = []\n",
    "dict_inceptionresnetv2 = {}\n",
    "\n",
    "if not os.path.exists(test_frames_path):\n",
    "    os.makedirs(test_frames_path)\n",
    "\n",
    "for i in tqdm(range(test.shape[0])):\n",
    "    video_file = test['Video_url'][i]\n",
    "    action = test['action'][i]\n",
    "    video_name_list = video_file.split('/')[-1].split('.')\n",
    "    video_name_list = video_name_list[:-1]\n",
    "    video_name = \"\"\n",
    "    for n in video_name_list:\n",
    "        video_name += n\n",
    "    # capturing the video from the given path\n",
    "    capture = cv2.VideoCapture(video_file) \n",
    "    #frame rate\n",
    "    frame_rate = capture.get(5)\n",
    "    count = 0\n",
    "    files = glob(test_frames_path + '/*')\n",
    "    #removing all files from folder\n",
    "    for f in files:\n",
    "        os.remove(f)\n",
    "    while(capture.isOpened()):\n",
    "        #current frame number\n",
    "        frame_id = capture.get(1) \n",
    "        read_correctly, frame = capture.read()\n",
    "        if not read_correctly:\n",
    "            break\n",
    "        if (frame_id % math.floor(frame_rate) == 0):\n",
    "            # storing the frames in a new folder named train_1\n",
    "            filename = test_frames_path + \"/\" + video_name + \"_frame{}_\".format(count) + action +\".jpg\"\n",
    "            count += 1\n",
    "            cv2.imwrite(filename, frame)\n",
    "    capture.release()\n",
    "    \n",
    "    # reading all the frames from temp folder\n",
    "    images = glob(test_frames_path + '/*.jpg')\n",
    "    prediction_images = []\n",
    "    for i in range(len(images)):\n",
    "        img = image.load_img(images[i], target_size=(224,224,3))\n",
    "        img = image.img_to_array(img)\n",
    "        img = img / 255\n",
    "        prediction_images.append(img)\n",
    "        \n",
    "    # converting all the frames for a test video into numpy array\n",
    "    prediction_images = np.array(prediction_images)\n",
    "    #prediction_images = prediction_images / max_pixel\n",
    "    # extracting features using pre-trained model\n",
    "    prediction_images = base_model_InceptionResNetV2.predict(prediction_images)\n",
    "    # converting features in one dimensional array\n",
    "    prediction_images = prediction_images.reshape(prediction_images.shape[0], 5*5*1536)\n",
    "    # predicting tags for each array\n",
    "    prediction = np.argmax(model.predict(prediction_images), axis=-1)\n",
    "    # appending the mode of predictions in predict list to assign the tag to the video\n",
    "    \n",
    "    prediction_test = y_train.columns.values[s.mode(prediction)[0][0]]\n",
    "    if prediction_test != action:\n",
    "        dict_inceptionresnetv2[video_name] = prediction_test\n",
    "    \n",
    "    predict_inceptionresnet.append(y_train.columns.values[s.mode(prediction)[0][0]])\n",
    "    # appending the actual tag of the video\n",
    "    actual.append(action)"
   ]
  },
  {
   "cell_type": "code",
   "execution_count": 319,
   "metadata": {},
   "outputs": [
    {
     "name": "stdout",
     "output_type": "stream",
     "text": [
      "{'death_33': 'NoAction', 'NoAction_9': 'smoke', 'smoke_10 ': 'death', 'death_16': 'kill', 'Kill_89': 'death', 'Kill_51': 'death'}\n",
      "{'death_17': 'kill', 'death_54': 'kill', 'Kill_4': 'death', 'NoAction_9': 'smoke', 'death_55': 'smoke', 'NoAction_77': 'death', 'death_16': 'kill', 'Kill_89': 'smoke', 'smoke_7 ': 'death'}\n",
      "{'death_17': 'kill', 'Kill_4': 'death', 'death_45': 'NoAction', 'NoAction_9': 'smoke', 'Kill_22': 'death', 'smoke_80 ': 'kill', 'smoke_82 ': 'NoAction', 'smoke_7 ': 'death'}\n",
      "{'death_17': 'kill', 'death_37': 'kill', 'Kill_4': 'smoke', 'death_33': 'smoke', 'NoAction_55': 'kill', 'Kill_5': 'NoAction', 'death_42': 'smoke', 'Kill_22': 'death', 'death_102': 'kill', 'smoke_10 ': 'death', 'NoAction_77': 'death', 'smoke_25 ': 'NoAction', 'death_16': 'kill', 'death_66': 'NoAction', 'smoke_7 ': 'death'}\n"
     ]
    }
   ],
   "source": [
    "print(dict_vgg16)\n",
    "print(dict_xception)\n",
    "print(dict_inceptionv3)\n",
    "print(dict_inceptionresnetv2)"
   ]
  },
  {
   "cell_type": "code",
   "execution_count": null,
   "metadata": {},
   "outputs": [],
   "source": []
  },
  {
   "cell_type": "code",
   "execution_count": null,
   "metadata": {},
   "outputs": [],
   "source": []
  },
  {
   "cell_type": "code",
   "execution_count": 356,
   "metadata": {},
   "outputs": [
    {
     "name": "stdout",
     "output_type": "stream",
     "text": [
      "Accuracy:  81.48148148148148\n",
      "Precision:  [0.85714286 0.76470588 0.77272727 0.85714286]\n",
      "F1_score:  [0.87804878 0.7027027  0.80952381 0.85714286]\n",
      "Recall:  [0.9        0.65       0.85       0.85714286]\n"
     ]
    }
   ],
   "source": [
    "from sklearn.metrics import accuracy_score, precision_score, f1_score, recall_score\n",
    "\n",
    "accuracy = accuracy_score(predict_inceptionresnet, actual)*100\n",
    "precision = precision_score(actual, predict_inceptionresnet, average=None)\n",
    "f1_score = f1_score(actual, predict_inceptionresnet, average=None)\n",
    "recall = recall_score(actual, predict_inceptionresnet, average=None)\n",
    "\n",
    "print('Accuracy: ', accuracy)\n",
    "print('Precision: ', precision)\n",
    "print('F1_score: ', f1_score)\n",
    "print('Recall: ', recall)"
   ]
  },
  {
   "cell_type": "code",
   "execution_count": 321,
   "metadata": {},
   "outputs": [
    {
     "data": {
      "image/png": "[encoded data removed]",
      "text/plain": [
       "<Figure size 432x288 with 1 Axes>"
      ]
     },
     "metadata": {
      "needs_background": "light"
     },
     "output_type": "display_data"
    }
   ],
   "source": [
    "plt.plot(history_InceptionResNetV2.history['accuracy'])\n",
    "plt.plot(history_InceptionResNetV2.history['val_accuracy'])\n",
    "plt.title('model accuracy')\n",
    "plt.ylabel('accuracy')\n",
    "plt.xlabel('epoch')\n",
    "plt.legend(['train', 'test'], loc='upper left')\n",
    "plt.show()"
   ]
  },
  {
   "cell_type": "code",
   "execution_count": 322,
   "metadata": {},
   "outputs": [
    {
     "data": {
      "image/png": "[encoded data removed]",
      "text/plain": [
       "<Figure size 432x288 with 1 Axes>"
      ]
     },
     "metadata": {
      "needs_background": "light"
     },
     "output_type": "display_data"
    }
   ],
   "source": [
    "plt.plot(history_InceptionResNetV2.history['loss'])\n",
    "plt.plot(history_InceptionResNetV2.history['val_loss'])\n",
    "plt.title('model loss')\n",
    "plt.ylabel('loss')\n",
    "plt.xlabel('epoch')\n",
    "plt.legend(['train', 'test'], loc='upper left')\n",
    "plt.show()"
   ]
  },
  {
   "cell_type": "code",
   "execution_count": 104,
   "metadata": {},
   "outputs": [
    {
     "name": "stdout",
     "output_type": "stream",
     "text": [
      "Model: \"sequential_5\"\n",
      "_________________________________________________________________\n",
      "Layer (type)                 Output Shape              Param #   \n",
      "=================================================================\n",
      "dense_20 (Dense)             (None, 512)               19661312  \n",
      "_________________________________________________________________\n",
      "dropout_15 (Dropout)         (None, 512)               0         \n",
      "_________________________________________________________________\n",
      "dense_21 (Dense)             (None, 256)               131328    \n",
      "_________________________________________________________________\n",
      "dropout_16 (Dropout)         (None, 256)               0         \n",
      "_________________________________________________________________\n",
      "dense_22 (Dense)             (None, 128)               32896     \n",
      "_________________________________________________________________\n",
      "dropout_17 (Dropout)         (None, 128)               0         \n",
      "_________________________________________________________________\n",
      "dense_23 (Dense)             (None, 4)                 516       \n",
      "=================================================================\n",
      "Total params: 19,826,052\n",
      "Trainable params: 19,826,052\n",
      "Non-trainable params: 0\n",
      "_________________________________________________________________\n"
     ]
    }
   ],
   "source": [
    "model.load_weights(\"weight_inceptionresnet_final1_2.hdf5\")\n",
    "model.compile(loss='categorical_crossentropy',optimizer='Adam',metrics=['accuracy'])\n",
    "model.summary()"
   ]
  },
  {
   "cell_type": "code",
   "execution_count": null,
   "metadata": {},
   "outputs": [],
   "source": []
  },
  {
   "cell_type": "markdown",
   "metadata": {},
   "source": [
    "# Resnet152vV2\n"
   ]
  },
  {
   "cell_type": "code",
   "execution_count": null,
   "metadata": {},
   "outputs": [],
   "source": []
  },
  {
   "cell_type": "code",
   "execution_count": null,
   "metadata": {},
   "outputs": [],
   "source": []
  },
  {
   "cell_type": "code",
   "execution_count": null,
   "metadata": {},
   "outputs": [],
   "source": []
  },
  {
   "cell_type": "code",
   "execution_count": 138,
   "metadata": {},
   "outputs": [
    {
     "name": "stdout",
     "output_type": "stream",
     "text": [
      "(742, 224, 224, 3)\n",
      "(247, 224, 224, 3)\n"
     ]
    }
   ],
   "source": [
    "X_train = X_train_set_copy\n",
    "X_val = X_val_set_copy\n",
    "\n",
    "print(X_train.shape)\n",
    "print(X_val.shape)"
   ]
  },
  {
   "cell_type": "code",
   "execution_count": 139,
   "metadata": {},
   "outputs": [],
   "source": [
    "from tensorflow.keras.applications.resnet_v2 import ResNet152V2\n",
    "'''This model was trained on a dataset that has 1,000 classes. \n",
    "include_top = False will remove the last layer of thresnet_v2is model so that we can tune it as per our need.\n",
    "'''\n",
    "base_model_resnet_v2 = ResNet152V2(weights='imagenet', include_top=False)"
   ]
  },
  {
   "cell_type": "code",
   "execution_count": 140,
   "metadata": {},
   "outputs": [
    {
     "name": "stdout",
     "output_type": "stream",
     "text": [
      "(742, 7, 7, 2048)\n",
      "(247, 7, 7, 2048)\n"
     ]
    }
   ],
   "source": [
    "X_train = base_model_resnet_v2.predict(X_train)\n",
    "X_val = base_model_resnet_v2.predict(X_val)\n",
    "\n",
    "print(X_train.shape)\n",
    "print(X_val.shape)"
   ]
  },
  {
   "cell_type": "code",
   "execution_count": 141,
   "metadata": {},
   "outputs": [],
   "source": [
    "#'warning'\n",
    "X_train_copy_ResNet152V2 = X_train\n",
    "X_val_copy_ResNet152V2 = X_val"
   ]
  },
  {
   "cell_type": "code",
   "execution_count": 323,
   "metadata": {},
   "outputs": [],
   "source": [
    "X_train = X_train_copy_ResNet152V2\n",
    "X_val = X_val_copy_ResNet152V2"
   ]
  },
  {
   "cell_type": "code",
   "execution_count": 324,
   "metadata": {},
   "outputs": [
    {
     "name": "stdout",
     "output_type": "stream",
     "text": [
      "(742, 100352)\n",
      "(247, 100352)\n",
      "Model: \"sequential_25\"\n",
      "_________________________________________________________________\n",
      "Layer (type)                 Output Shape              Param #   \n",
      "=================================================================\n",
      "dense_105 (Dense)            (None, 512)               51380736  \n",
      "_________________________________________________________________\n",
      "dropout_80 (Dropout)         (None, 512)               0         \n",
      "_________________________________________________________________\n",
      "dense_106 (Dense)            (None, 256)               131328    \n",
      "_________________________________________________________________\n",
      "dropout_81 (Dropout)         (None, 256)               0         \n",
      "_________________________________________________________________\n",
      "dense_107 (Dense)            (None, 128)               32896     \n",
      "_________________________________________________________________\n",
      "dropout_82 (Dropout)         (None, 128)               0         \n",
      "_________________________________________________________________\n",
      "dense_108 (Dense)            (None, 4)                 516       \n",
      "=================================================================\n",
      "Total params: 51,545,476\n",
      "Trainable params: 51,545,476\n",
      "Non-trainable params: 0\n",
      "_________________________________________________________________\n",
      "Epoch 1/10\n",
      "5/5 [==============================] - 6s 753ms/step - loss: 1.3151 - accuracy: 0.3467 - val_loss: 1.0438 - val_accuracy: 0.5506\n",
      "Epoch 2/10\n",
      "5/5 [==============================] - 3s 543ms/step - loss: 0.9376 - accuracy: 0.6452 - val_loss: 0.9128 - val_accuracy: 0.6518\n",
      "Epoch 3/10\n",
      "5/5 [==============================] - 3s 538ms/step - loss: 0.7045 - accuracy: 0.7348 - val_loss: 0.8464 - val_accuracy: 0.6721\n",
      "Epoch 4/10\n",
      "5/5 [==============================] - 3s 539ms/step - loss: 0.5124 - accuracy: 0.8359 - val_loss: 0.8323 - val_accuracy: 0.6842\n",
      "Epoch 5/10\n",
      "5/5 [==============================] - 3s 543ms/step - loss: 0.3697 - accuracy: 0.8757 - val_loss: 0.8507 - val_accuracy: 0.6842\n",
      "Epoch 6/10\n",
      "5/5 [==============================] - 3s 539ms/step - loss: 0.2519 - accuracy: 0.9205 - val_loss: 0.8239 - val_accuracy: 0.7247\n",
      "Epoch 7/10\n",
      "5/5 [==============================] - 3s 620ms/step - loss: 0.1465 - accuracy: 0.9595 - val_loss: 0.8799 - val_accuracy: 0.7206\n",
      "Epoch 8/10\n",
      "5/5 [==============================] - 3s 586ms/step - loss: 0.1422 - accuracy: 0.9597 - val_loss: 0.9473 - val_accuracy: 0.7328\n",
      "Epoch 9/10\n",
      "5/5 [==============================] - 3s 552ms/step - loss: 0.0708 - accuracy: 0.9729 - val_loss: 0.9698 - val_accuracy: 0.7368\n",
      "Epoch 10/10\n",
      "5/5 [==============================] - 3s 515ms/step - loss: 0.0483 - accuracy: 0.9875 - val_loss: 1.0334 - val_accuracy: 0.7045\n"
     ]
    }
   ],
   "source": [
    "X_train = X_train.reshape(X_train.shape[0], 7*7*2048)\n",
    "X_val = X_val.reshape(X_val.shape[0], 7*7*2048)\n",
    "\n",
    "max_pixel = X_train.max()\n",
    "X_train = X_train / max_pixel\n",
    "X_val = X_val / max_pixel\n",
    "print(X_train.shape)\n",
    "print(X_val.shape)\n",
    "\n",
    "model = Sequential()\n",
    "model.add(Dense(512, activation='relu', input_shape=(100352,)))\n",
    "model.add(Dropout(0.5))\n",
    "#model.add(Dense(512, activation='relu'))\n",
    "#model.add(Dropout(0.1))\n",
    "model.add(Dense(256, activation='relu'))\n",
    "model.add(Dropout(0.5))\n",
    "model.add(Dense(128, activation='relu'))\n",
    "model.add(Dropout(0.5))\n",
    "#model.add(Dense(64, activation='relu'))\n",
    "#model.add(Dropout(0.5))\n",
    "#model.add(Dense(32, activation='relu'))\n",
    "#model.add(Dropout(0.5))\n",
    "model.add(Dense(4, activation='softmax'))\n",
    "model.compile(loss='categorical_crossentropy',optimizer='Adam',metrics=['accuracy'])\n",
    "model.summary()\n",
    "\n",
    "from keras.callbacks import ModelCheckpoint\n",
    "mcp_weight = ModelCheckpoint('weight_X_val_copy_ResNet152V2_final1_2.hdf5', save_best_only=True, monitor='val_loss', \n",
    "                             mode='min')\n",
    "\n",
    "history_resnet_v2=model.fit(X_train, y_train, epochs=10, validation_data=(X_val, y_val), callbacks=[mcp_weight], batch_size=150)"
   ]
  },
  {
   "cell_type": "code",
   "execution_count": 325,
   "metadata": {},
   "outputs": [
    {
     "name": "stderr",
     "output_type": "stream",
     "text": [
      "100%|██████████████████████████████████████████████████████████████████████████████████| 81/81 [03:21<00:00,  2.49s/it]\n"
     ]
    }
   ],
   "source": [
    "from scipy import stats as s\n",
    "predict_resnet = []\n",
    "actual = []\n",
    "dict_ResNet152V2 = {}\n",
    "\n",
    "if not os.path.exists(test_frames_path):\n",
    "    os.makedirs(test_frames_path)\n",
    "\n",
    "for i in tqdm(range(test.shape[0])):\n",
    "    video_file = test['Video_url'][i]\n",
    "    action = test['action'][i]\n",
    "    video_name_list = video_file.split('/')[-1].split('.')\n",
    "    video_name_list = video_name_list[:-1]\n",
    "    video_name = \"\"\n",
    "    for n in video_name_list:\n",
    "        video_name += n\n",
    "    # capturing the video from the given path\n",
    "    capture = cv2.VideoCapture(video_file) \n",
    "    #frame rate\n",
    "    frame_rate = capture.get(5)\n",
    "    count = 0\n",
    "    files = glob(test_frames_path + '/*')\n",
    "    #removing all files from folder\n",
    "    for f in files:\n",
    "        os.remove(f)\n",
    "    while(capture.isOpened()):\n",
    "        #current frame number\n",
    "        frame_id = capture.get(1) \n",
    "        read_correctly, frame = capture.read()\n",
    "        if not read_correctly:\n",
    "            break\n",
    "        if (frame_id % math.floor(frame_rate) == 0):\n",
    "            # storing the frames in a new folder named train_1\n",
    "            filename = test_frames_path + \"/\" + video_name + \"_frame{}_\".format(count) + action +\".jpg\"\n",
    "            count += 1\n",
    "            cv2.imwrite(filename, frame)\n",
    "    capture.release()\n",
    "    \n",
    "    # reading all the frames from temp folder\n",
    "    images = glob(test_frames_path + '/*.jpg')\n",
    "    prediction_images = []\n",
    "    for i in range(len(images)):\n",
    "        img = image.load_img(images[i], target_size=(224,224,3))\n",
    "        img = image.img_to_array(img)\n",
    "        img = img / 255\n",
    "        prediction_images.append(img)\n",
    "        \n",
    "    # converting all the frames for a test video into numpy array\n",
    "    prediction_images = np.array(prediction_images)\n",
    "    #prediction_images = prediction_images / max_pixel\n",
    "    # extracting features using pre-trained model\n",
    "    prediction_images = base_model_resnet_v2.predict(prediction_images)\n",
    "    # converting features in one dimensional array\n",
    "    prediction_images = prediction_images.reshape(prediction_images.shape[0], 7*7*2048)\n",
    "    # predicting tags for each array\n",
    "    prediction = np.argmax(model.predict(prediction_images), axis=-1)\n",
    "    \n",
    "    prediction_test = y_train.columns.values[s.mode(prediction)[0][0]]\n",
    "    if prediction_test != action:\n",
    "        dict_ResNet152V2[video_name] = prediction_test\n",
    "        \n",
    "    # appending the mode of predictions in predict list to assign the tag to the video\n",
    "    predict_resnet.append(y_train.columns.values[s.mode(prediction)[0][0]])\n",
    "    # appending the actual tag of the video\n",
    "    actual.append(action)"
   ]
  },
  {
   "cell_type": "code",
   "execution_count": 326,
   "metadata": {},
   "outputs": [
    {
     "data": {
      "text/plain": [
       "93.82716049382715"
      ]
     },
     "execution_count": 326,
     "metadata": {},
     "output_type": "execute_result"
    }
   ],
   "source": [
    "from sklearn.metrics import accuracy_score\n",
    "accuracy_score(predict_resnet, actual)*100"
   ]
  },
  {
   "cell_type": "code",
   "execution_count": null,
   "metadata": {},
   "outputs": [],
   "source": [
    "from sklearn.metrics import accuracy_score, precision_score, f1_score, recall_score\n",
    "\n",
    "accuracy = accuracy_score(predict_resnet, actual)*100\n",
    "precision = precision_score(actual, predict_resnet, average=None)\n",
    "f1_score = f1_score(actual, predict_resnet, average=None)\n",
    "recall = recall_score(actual, predict_inceptionresnet, average=None)\n",
    "\n",
    "print('Accuracy: ', accuracy)\n",
    "print('Precision: ', precision)\n",
    "print('F1_score: ', f1_score)\n",
    "print('Recall: ', recall)"
   ]
  },
  {
   "cell_type": "code",
   "execution_count": 327,
   "metadata": {},
   "outputs": [
    {
     "name": "stdout",
     "output_type": "stream",
     "text": [
      "{'death_33': 'NoAction', 'NoAction_9': 'smoke', 'smoke_10 ': 'death', 'death_16': 'kill', 'Kill_89': 'death', 'Kill_51': 'death'}\n",
      "{'death_17': 'kill', 'death_54': 'kill', 'Kill_4': 'death', 'NoAction_9': 'smoke', 'death_55': 'smoke', 'NoAction_77': 'death', 'death_16': 'kill', 'Kill_89': 'smoke', 'smoke_7 ': 'death'}\n",
      "{'death_17': 'kill', 'Kill_4': 'death', 'death_45': 'NoAction', 'NoAction_9': 'smoke', 'Kill_22': 'death', 'smoke_80 ': 'kill', 'smoke_82 ': 'NoAction', 'smoke_7 ': 'death'}\n",
      "{'death_17': 'kill', 'death_37': 'kill', 'Kill_4': 'smoke', 'death_33': 'smoke', 'NoAction_55': 'kill', 'Kill_5': 'NoAction', 'death_42': 'smoke', 'Kill_22': 'death', 'death_102': 'kill', 'smoke_10 ': 'death', 'NoAction_77': 'death', 'smoke_25 ': 'NoAction', 'death_16': 'kill', 'death_66': 'NoAction', 'smoke_7 ': 'death'}\n",
      "{'death_17': 'kill', 'Kill_4': 'death', 'Kill_5': 'death', 'NoAction_9': 'smoke', 'smoke_35 ': 'death'}\n"
     ]
    }
   ],
   "source": [
    "print(dict_vgg16)\n",
    "print(dict_xception)\n",
    "print(dict_inceptionv3)\n",
    "print(dict_inceptionresnetv2)\n",
    "print(dict_ResNet152V2)"
   ]
  },
  {
   "cell_type": "code",
   "execution_count": 328,
   "metadata": {},
   "outputs": [
    {
     "data": {
      "image/png": "[encoded data removed]",
      "text/plain": [
       "<Figure size 432x288 with 1 Axes>"
      ]
     },
     "metadata": {
      "needs_background": "light"
     },
     "output_type": "display_data"
    }
   ],
   "source": [
    "plt.plot(history_resnet_v2.history['accuracy'])\n",
    "plt.plot(history_resnet_v2.history['val_accuracy'])\n",
    "plt.title('model accuracy')\n",
    "plt.ylabel('accuracy')\n",
    "plt.xlabel('epoch')\n",
    "plt.legend(['train', 'test'], loc='upper left')\n",
    "plt.show()"
   ]
  },
  {
   "cell_type": "code",
   "execution_count": 329,
   "metadata": {},
   "outputs": [
    {
     "data": {
      "image/png": "[encoded data removed]",
      "text/plain": [
       "<Figure size 432x288 with 1 Axes>"
      ]
     },
     "metadata": {
      "needs_background": "light"
     },
     "output_type": "display_data"
    }
   ],
   "source": [
    "plt.plot(history_resnet_v2.history['loss'])\n",
    "plt.plot(history_resnet_v2.history['val_loss'])\n",
    "plt.title('model loss')\n",
    "plt.ylabel('loss')\n",
    "plt.xlabel('epoch')\n",
    "plt.legend(['train', 'test'], loc='upper left')\n",
    "plt.show()"
   ]
  },
  {
   "cell_type": "markdown",
   "metadata": {},
   "source": [
    "# Fault Data Identification"
   ]
  },
  {
   "cell_type": "code",
   "execution_count": 330,
   "metadata": {},
   "outputs": [
    {
     "name": "stdout",
     "output_type": "stream",
     "text": [
      "{'death_17': 'kill', 'death_54': 'kill', 'Kill_4': 'death', 'NoAction_9': 'smoke', 'death_55': 'smoke', 'NoAction_77': 'death', 'death_16': 'kill', 'Kill_89': 'smoke', 'smoke_7 ': 'death'}\n",
      "\n",
      "{'death_33': 'NoAction', 'NoAction_9': 'smoke', 'smoke_10 ': 'death', 'death_16': 'kill', 'Kill_89': 'death', 'Kill_51': 'death'}\n",
      "\n",
      "{'death_17': 'kill', 'Kill_4': 'death', 'death_45': 'NoAction', 'NoAction_9': 'smoke', 'Kill_22': 'death', 'smoke_80 ': 'kill', 'smoke_82 ': 'NoAction', 'smoke_7 ': 'death'}\n",
      "\n",
      "{'death_17': 'kill', 'death_37': 'kill', 'Kill_4': 'smoke', 'death_33': 'smoke', 'NoAction_55': 'kill', 'Kill_5': 'NoAction', 'death_42': 'smoke', 'Kill_22': 'death', 'death_102': 'kill', 'smoke_10 ': 'death', 'NoAction_77': 'death', 'smoke_25 ': 'NoAction', 'death_16': 'kill', 'death_66': 'NoAction', 'smoke_7 ': 'death'}\n",
      "\n",
      "{'death_17': 'kill', 'Kill_4': 'death', 'Kill_5': 'death', 'NoAction_9': 'smoke', 'smoke_35 ': 'death'}\n"
     ]
    }
   ],
   "source": [
    "print(dict_xception)\n",
    "print('')\n",
    "print(dict_vgg16)\n",
    "print('')\n",
    "print(dict_inceptionv3)\n",
    "print('')\n",
    "print(dict_inceptionresnetv2)\n",
    "print('')\n",
    "print(dict_ResNet152V2)"
   ]
  },
  {
   "cell_type": "code",
   "execution_count": 241,
   "metadata": {
    "scrolled": true
   },
   "outputs": [
    {
     "name": "stdout",
     "output_type": "stream",
     "text": [
      "Counter({'death_17': 4, 'Kill_4': 4, 'NoAction_101': 4, 'death_41': 4, 'NoAction_9': 3, 'NoAction_96': 3, 'NoAction_26': 3, 'NoAction_77': 2, 'death_42': 2, 'smoke_7 ': 2, 'death_33': 2, 'death_16': 2, 'Kill_32': 1, 'smoke_86 ': 1, 'death_55': 1, 'smoke_25 ': 1, 'Kill_89': 1, 'death_45': 1, 'Kill_22': 1, 'Kill_9': 1, 'Kill_23': 1, 'death_37': 1, 'NoAction_55': 1, 'Kill_5': 1, 'smoke_10 ': 1, 'death_66': 1, 'smoke_35 ': 1})\n"
     ]
    }
   ],
   "source": [
    "from collections import Counter\n",
    "\n",
    "#key_list_vgg16 = list(dict_vgg16.keys())\n",
    "key_list_xception = list(dict_xception.keys())\n",
    "key_list_inceptionv3 = list(dict_inceptionv3.keys())\n",
    "key_list_inceptionresnetv2 = list(dict_inceptionresnetv2.keys())\n",
    "key_list_ResNet152V2 = list(dict_ResNet152V2.keys())\n",
    "\n",
    "\n",
    "#key_list = key_list_vgg16 + key_list_xception + key_list_inceptionv3 + key_list_inceptionresnetv2 + key_list_ResNet152V2\n",
    "key_list = key_list_xception + key_list_inceptionv3 + key_list_inceptionresnetv2 + key_list_ResNet152V2\n",
    "\n",
    "print(Counter(key_list))"
   ]
  },
  {
   "cell_type": "code",
   "execution_count": 242,
   "metadata": {},
   "outputs": [
    {
     "name": "stdout",
     "output_type": "stream",
     "text": [
      "['death_17', 'Kill_4', 'death_33', 'NoAction_9', 'NoAction_26', 'death_16', 'Kill_51']\n"
     ]
    }
   ],
   "source": [
    "key_list_vgg16 = list(dict_vgg16.keys())\n",
    "print(key_list_vgg16)"
   ]
  },
  {
   "cell_type": "code",
   "execution_count": 331,
   "metadata": {},
   "outputs": [
    {
     "name": "stdout",
     "output_type": "stream",
     "text": [
      "Counter({'NoAction_9': 4, 'death_17': 4, 'Kill_4': 4, 'death_16': 3, 'smoke_7 ': 3, 'death_33': 2, 'smoke_10 ': 2, 'Kill_89': 2, 'NoAction_77': 2, 'Kill_22': 2, 'Kill_5': 2, 'Kill_51': 1, 'death_54': 1, 'death_55': 1, 'death_45': 1, 'smoke_80 ': 1, 'smoke_82 ': 1, 'death_37': 1, 'NoAction_55': 1, 'death_42': 1, 'death_102': 1, 'smoke_25 ': 1, 'death_66': 1, 'smoke_35 ': 1})\n"
     ]
    }
   ],
   "source": [
    "from collections import Counter\n",
    "\n",
    "key_list_vgg16 = list(dict_vgg16.keys())\n",
    "key_list_xception = list(dict_xception.keys())\n",
    "key_list_inceptionv3 = list(dict_inceptionv3.keys())\n",
    "key_list_inceptionresnetv2 = list(dict_inceptionresnetv2.keys())\n",
    "key_list_ResNet152V2 = list(dict_ResNet152V2.keys())\n",
    "\n",
    "\n",
    "key_list = key_list_vgg16 + key_list_xception + key_list_inceptionv3 + key_list_inceptionresnetv2 + key_list_ResNet152V2\n",
    "\n",
    "print(Counter(key_list))"
   ]
  },
  {
   "cell_type": "markdown",
   "metadata": {},
   "source": [
    "# Majority voting"
   ]
  },
  {
   "cell_type": "code",
   "execution_count": 346,
   "metadata": {},
   "outputs": [
    {
     "name": "stdout",
     "output_type": "stream",
     "text": [
      "['kill', 'smoke', 'NoAction', 'smoke', 'NoAction', 'kill', 'smoke', 'death', 'kill', 'death', 'NoAction', 'death', 'death', 'NoAction', 'NoAction', 'NoAction', 'death', 'smoke', 'kill', 'NoAction', 'death', 'NoAction', 'kill', 'smoke', 'NoAction', 'death', 'NoAction', 'kill', 'smoke', 'NoAction', 'kill', 'kill', 'kill', 'smoke', 'smoke', 'smoke', 'kill', 'kill', 'death', 'kill', 'NoAction', 'smoke', 'smoke', 'NoAction', 'death', 'kill', 'smoke', 'death', 'smoke', 'death', 'smoke', 'smoke', 'smoke', 'NoAction', 'death', 'NoAction', 'smoke', 'NoAction', 'NoAction', 'death', 'smoke', 'NoAction', 'kill', 'death', 'smoke', 'kill', 'death', 'death', 'kill', 'kill', 'kill', 'kill', 'death', 'smoke', 'death', 'kill', 'NoAction', 'smoke', 'death', 'kill', 'death']\n",
      "81\n",
      "93.82716049382715\n"
     ]
    }
   ],
   "source": [
    "majority_predict = []\n",
    "\n",
    "for i in range(len(predict_vgg16)):\n",
    "    \n",
    "    a = [predict_vgg16[i], predict_xception[i], predict_inception[i], predict_inceptionresnet[i], predict_resnet[i]]\n",
    "    \n",
    "    most_common_item = max(a, key = a.count)\n",
    "    majority_predict.append(most_common_item)\n",
    "    \n",
    "print(majority_predict)\n",
    "print(len(majority_predict))\n",
    "print(accuracy_score(majority_predict, actual)*100)"
   ]
  },
  {
   "cell_type": "markdown",
   "metadata": {},
   "source": [
    "# Model of Each Tranfer Learning"
   ]
  },
  {
   "cell_type": "code",
   "execution_count": 108,
   "metadata": {},
   "outputs": [],
   "source": [
    "#vgg16\n",
    "model_vgg16 = Sequential()\n",
    "model_vgg16.add(Dense(512, activation='relu', input_shape=(25088,)))\n",
    "model_vgg16.add(Dropout(0.5))\n",
    "#model_vgg16.add(Dense(512, activation='relu'))\n",
    "#model_vgg16.add(Dropout(0.5))\n",
    "model_vgg16.add(Dense(256, activation='relu'))\n",
    "model_vgg16.add(Dropout(0.5))\n",
    "model_vgg16.add(Dense(128, activation='relu'))\n",
    "model.add(Dropout(0.5))\n",
    "#model_vgg16.add(Dense(64, activation='relu'))\n",
    "#model_vgg16.add(Dropout(0.5))\n",
    "model_vgg16.add(Dense(4, activation='softmax'))\n",
    "model_vgg16.compile(loss='categorical_crossentropy',optimizer='Adam',metrics=['accuracy'])\n",
    "#model_vgg16.summary()\n",
    "\n",
    "#xception\n",
    "model_xception = Sequential()\n",
    "model_xception.add(Dense(512, activation='relu', input_shape=(100352,)))\n",
    "model_xception.add(Dropout(0.5))\n",
    "#model_xception.add(Dense(512, activation='relu'))\n",
    "#model_xception.add(Dropout(0.5))\n",
    "model_xception.add(Dense(256, activation='relu'))\n",
    "model_xception.add(Dropout(0.5))\n",
    "model_xception.add(Dense(128, activation='relu'))\n",
    "model_xception.add(Dropout(0.5))\n",
    "model_xception.add(Dense(4, activation='softmax'))\n",
    "model_xception.compile(loss='categorical_crossentropy',optimizer='Adam',metrics=['accuracy'])\n",
    "#model_xception.summary()\n",
    "\n",
    "#inception\n",
    "model_inception = Sequential()\n",
    "model_inception.add(Dense(1024, activation='relu', input_shape=(51200,)))\n",
    "model_inception.add(Dropout(0.5))\n",
    "model_inception.add(Dense(512, activation='relu'))\n",
    "model_inception.add(Dropout(0.5))\n",
    "model_inception.add(Dense(256, activation='relu'))\n",
    "model_inception.add(Dropout(0.5))\n",
    "model_inception.add(Dense(128, activation='relu'))\n",
    "model_inception.add(Dropout(0.5))\n",
    "model_inception.add(Dense(4, activation='softmax'))\n",
    "model_inception.compile(loss='categorical_crossentropy',optimizer='Adam',metrics=['accuracy'])\n",
    "#model_inception.summary()\n",
    "\n",
    "#inception_resnet_v2\n",
    "model_inception_resnet_v2 = Sequential()\n",
    "model_inception_resnet_v2.add(Dense(512, activation='relu', input_shape=(38400,)))\n",
    "model_inception_resnet_v2.add(Dropout(0.5))\n",
    "#model_inception_resnet_v2.add(Dense(512, activation='relu'))\n",
    "#model_inception_resnet_v2.add(Dropout(0.5))\n",
    "model_inception_resnet_v2.add(Dense(256, activation='relu'))\n",
    "model_inception_resnet_v2.add(Dropout(0.5))\n",
    "model_inception_resnet_v2.add(Dense(128, activation='relu'))\n",
    "model_inception_resnet_v2.add(Dropout(0.5))\n",
    "model_inception_resnet_v2.add(Dense(4, activation='softmax'))\n",
    "model_inception_resnet_v2.compile(loss='categorical_crossentropy',optimizer='Adam',metrics=['accuracy'])\n",
    "#model_inception_resnet_v2.summary()\n",
    "\n",
    "#resnet_v2\n",
    "model_resnet_v2 = Sequential()\n",
    "model_resnet_v2.add(Dense(512, activation='relu', input_shape=(100352,)))\n",
    "model_resnet_v2.add(Dropout(0.5))\n",
    "#model_resnet_v2.add(Dense(512, activation='relu'))\n",
    "#model_resnet_v2.add(Dropout(0.1))\n",
    "model_resnet_v2.add(Dense(256, activation='relu'))\n",
    "model_resnet_v2.add(Dropout(0.5))\n",
    "model_resnet_v2.add(Dense(128, activation='relu'))\n",
    "model_resnet_v2.add(Dropout(0.5))\n",
    "#model_resnet_v2.add(Dense(64, activation='relu'))\n",
    "#model_resnet_v2.add(Dropout(0.5))\n",
    "#model_resnet_v2.add(Dense(32, activation='relu'))\n",
    "#model_resnet_v2.add(Dropout(0.5))\n",
    "model_resnet_v2.add(Dense(4, activation='softmax'))\n",
    "model_resnet_v2.compile(loss='categorical_crossentropy',optimizer='Adam',metrics=['accuracy'])\n",
    "#model_resnet_v2.summary()"
   ]
  },
  {
   "cell_type": "markdown",
   "metadata": {},
   "source": [
    "# Predict a specific video"
   ]
  },
  {
   "cell_type": "code",
   "execution_count": 138,
   "metadata": {},
   "outputs": [],
   "source": [
    "def final_predict(get_video):\n",
    "    \n",
    "    all_base_models = [base_model_vgg16, base_model_xception, base_model_inception, base_model_InceptionResNetV2, \n",
    "                       base_model_resnet_v2]\n",
    "    \n",
    "    all_models = [model_vgg16, model_xception, model_inception, model_inception_resnet_v2, model_resnet_v2]\n",
    "    \n",
    "    all_shapes = [25088, 100352, 51200, 38400, 100352]\n",
    "    \n",
    "    model_name = ['vgg16', 'xception', 'inception', 'inception_resnet', 'resnet']\n",
    "    \n",
    "    count = 0\n",
    "    \n",
    "    def frame_no(video_name):\n",
    "        cap= cv2.VideoCapture(video_name)\n",
    "        i=0\n",
    "        while(cap.isOpened()):\n",
    "            ret, frame = cap.read()\n",
    "            if ret == False:\n",
    "                break\n",
    "\n",
    "            frameId = cap.get(1)\n",
    "\n",
    "        #cap.release()\n",
    "        #cv2.destroyAllWindows()\n",
    "        return frameId\n",
    "\n",
    "    j=1\n",
    "    video_name = get_video\n",
    "    predict_lst = []\n",
    "\n",
    "    cap= cv2.VideoCapture(video_name)\n",
    "    frame_needed = 6\n",
    "    #frameRate = cap.get(5)\n",
    "    tot_frame = frame_no(video_name)\n",
    "    while(cap.isOpened()):\n",
    "        ret, frame = cap.read()\n",
    "        if ret == False:\n",
    "            break\n",
    "        frameId = cap.get(1)\n",
    "\n",
    "        a = np.linspace(0, tot_frame, frame_needed)\n",
    "\n",
    "        for i in range(len(a)):\n",
    "            if (frameId == math.floor(a[i])):\n",
    "                cv2.imwrite('predict'+str(j)+'.jpg',frame)\n",
    "                predict_lst.append('predict'+str(j)+'.jpg')\n",
    "                j+=1\n",
    "\n",
    "    cap.release()\n",
    "    cv2.destroyAllWindows()\n",
    "\n",
    "    predict_set_lst = []\n",
    "    for i in predict_lst:\n",
    "        img = image.load_img(i, target_size=(224,224,3))\n",
    "        img = image.img_to_array(img)\n",
    "        img = img/255\n",
    "        predict_set_lst.append(img)\n",
    "        predict_set_array = np.array(predict_set_lst)\n",
    "        \n",
    "    for base_model in all_base_models:\n",
    "        predict_final = base_model.predict(predict_set_array)\n",
    "        #print(predict_final.shape[0])\n",
    "        predict_final = predict_final.reshape(predict_final.shape[0],all_shapes[count])\n",
    "        prediction = all_models[count].predict(predict_final)\n",
    "        print(model_name[count])\n",
    "        count += 1\n",
    "\n",
    "        def maxfunction(x):\n",
    "            return np.argmax(x)\n",
    "\n",
    "        lst_max = np.apply_along_axis( maxfunction, axis=1, arr=prediction )\n",
    "        print(lst_max)\n",
    "       \n",
    "\n",
    "        dict_max = Counter(lst_max)\n",
    "\n",
    "\n",
    "        keymax = max(dict_max, key=dict_max.get)\n",
    "        #print(keymax)\n",
    "        if keymax==0:\n",
    "            print('death')\n",
    "        elif keymax==1:\n",
    "            print('kill')\n",
    "        elif keymax==2:\n",
    "            print('NoAction')\n",
    "        else:\n",
    "            print('smoke')\n",
    "        print('')\n",
    "        #s = sum(a)\n",
    "        #if s>=3:\n",
    "            #print('kill')\n",
    "        #else: \n",
    "            #print('death')"
   ]
  },
  {
   "cell_type": "code",
   "execution_count": 141,
   "metadata": {},
   "outputs": [
    {
     "name": "stdout",
     "output_type": "stream",
     "text": [
      "vgg16\n",
      "[1 1 1 1 1]\n",
      "1\n",
      "kill\n",
      "\n",
      "xception\n",
      "[1 1 1 1 1]\n",
      "1\n",
      "kill\n",
      "\n",
      "inception\n",
      "[0 3 3 2 2]\n",
      "3\n",
      "smoke\n",
      "\n",
      "inception_resnet\n",
      "[1 1 1 1 1]\n",
      "1\n",
      "kill\n",
      "\n",
      "resnet\n",
      "[2 1 3 3 3]\n",
      "3\n",
      "smoke\n",
      "\n"
     ]
    }
   ],
   "source": [
    "final_predict('death_50.mp4')"
   ]
  },
  {
   "cell_type": "markdown",
   "metadata": {},
   "source": []
  },
  {
   "cell_type": "code",
   "execution_count": null,
   "metadata": {},
   "outputs": [],
   "source": []
  },
  {
   "cell_type": "code",
   "execution_count": 152,
   "metadata": {},
   "outputs": [],
   "source": [
    "def frame_no(video_name):\n",
    "    cap= cv2.VideoCapture(video_name)\n",
    "    i=0\n",
    "    while(cap.isOpened()):\n",
    "        ret, frame = cap.read()\n",
    "        if ret == False:\n",
    "            break\n",
    "    \n",
    "        frameId = cap.get(1)\n",
    "    \n",
    "    #cap.release()\n",
    "    #cv2.destroyAllWindows()\n",
    "    return frameId\n",
    "\n",
    "filepath = 'E:\\Project 103\\prediction_count'\n",
    "j=0\n",
    "video_name = 'kill_69.mp4'\n",
    "frame_needed = 30\n",
    "cap= cv2.VideoCapture(video_name)\n",
    "#frameRate = cap.get(5)\n",
    "tot_frame = frame_no(video_name)\n",
    "while(cap.isOpened()):\n",
    "    ret, frame = cap.read()\n",
    "    if ret == False:\n",
    "        break\n",
    "    frameId = cap.get(1)\n",
    "\n",
    "    a = np.linspace(0, tot_frame, frame_needed)\n",
    "\n",
    "    for i in range(len(a)):\n",
    "        if (frameId == math.floor(a[i])):\n",
    "            final_filepath = os.path.join(filepath, 'predict_frame'+str(j)+'.jpg')\n",
    "            cv2.imwrite(final_filepath,frame)\n",
    "            j+=1\n",
    "\n",
    "cap.release()\n",
    "cv2.destroyAllWindows()"
   ]
  },
  {
   "cell_type": "code",
   "execution_count": 116,
   "metadata": {},
   "outputs": [
    {
     "name": "stdout",
     "output_type": "stream",
     "text": [
      "Moviepy - Running:\n",
      ">>> \"+ \" \".join(cmd)\n",
      "Moviepy - Command successful\n"
     ]
    }
   ],
   "source": [
    "from moviepy.video.io.ffmpeg_tools import ffmpeg_extract_subclip\n",
    "from moviepy.editor import VideoFileClip\n",
    "\n",
    "end_time = 150\n",
    "start_time = 90\n",
    "clip = VideoFileClip(\"z3.mp4\")\n",
    "dur_int = int(clip.duration)\n",
    "ffmpeg_extract_subclip(\"z3.mp4\", start_time, end_time, targetname=\"z3short2.mp4\")"
   ]
  },
  {
   "cell_type": "code",
   "execution_count": 117,
   "metadata": {},
   "outputs": [
    {
     "name": "stdout",
     "output_type": "stream",
     "text": [
      "[2 2 2 0 0 0 0 0 0 0 0 0 0 2 0 0 0 0 0 0 0 0 0 0 2 0 2 2 2 2 2 2 2 2 2 2 2\n",
      " 2 2 2 2 2 2 2 2 2 2 2 2 2 2 2 2 2 2 2 2 2 2 2 2 2 2 2 2 2 2 2 2 2 2 2 2 0\n",
      " 0 1 1 2 0 0 0 1 1 1 1 1 1 1 2 1 1 1 1 1 0 0 0 0 0 2 0 0 0 0 0 0 0 0 0 0 2\n",
      " 0 0 0 0 0 0 0 0 0 0]\n"
     ]
    }
   ],
   "source": [
    "def frame_no(video_name):\n",
    "    cap= cv2.VideoCapture(video_name)\n",
    "    i=0\n",
    "    while(cap.isOpened()):\n",
    "        ret, frame = cap.read()\n",
    "        if ret == False:\n",
    "            break\n",
    "    \n",
    "        frameId = cap.get(1)\n",
    "    \n",
    "    #cap.release()\n",
    "    #cv2.destroyAllWindows()\n",
    "    return frameId\n",
    "\n",
    "filepath = 'E:\\Project 103\\prediction_count'\n",
    "images = glob(filepath + '/*.jpg')\n",
    "\n",
    "for f in images:\n",
    "    os.remove(f)\n",
    "\n",
    "filepath = 'E:\\Project 103\\prediction_count'\n",
    "j=0\n",
    "video_name = 'z3short2.mp4'\n",
    "\n",
    "cap= cv2.VideoCapture(video_name)\n",
    "fps = cap.get(cv2.CAP_PROP_FPS)     \n",
    "frame_count = int(cap.get(cv2.CAP_PROP_FRAME_COUNT))\n",
    "duration = int(frame_count/fps)\n",
    "\n",
    "frame_needed = duration*2\n",
    "\n",
    "tot_frame = frame_no(video_name)\n",
    "while(cap.isOpened()):\n",
    "    ret, frame = cap.read()\n",
    "    if ret == False:\n",
    "        break\n",
    "    frameId = cap.get(1)\n",
    "\n",
    "    a = np.linspace(0, tot_frame, frame_needed)\n",
    "\n",
    "    for i in range(len(a)):\n",
    "        if (frameId == math.floor(a[i])):\n",
    "            final_filepath = os.path.join(filepath, 'predict_frame'+str(j)+'.jpg')\n",
    "            cv2.imwrite(final_filepath,frame)\n",
    "            j+=1\n",
    "\n",
    "cap.release()\n",
    "cv2.destroyAllWindows()\n",
    "\n",
    "images = glob(filepath + '/*.jpg')\n",
    "\n",
    "prediction_images = []\n",
    "predict = []\n",
    "predict2 = []\n",
    "for i in range(len(images)):\n",
    "    img = image.load_img(images[i], target_size=(224,224,3))\n",
    "    img = image.img_to_array(img)\n",
    "    img = img / 255\n",
    "    prediction_images.append(img)\n",
    "\n",
    "prediction_images = np.array(prediction_images)\n",
    "prediction_images = base_model.predict(prediction_images)\n",
    "prediction_images = prediction_images.reshape(prediction_images.shape[0], 7*7*512)\n",
    "predict = model.predict(prediction_images)\n",
    "a = np.argmax(predict)\n",
    "#print(predict)\n",
    "def maxfunction(x):\n",
    "        return np.argmax(x)\n",
    "\n",
    "prediction = np.apply_along_axis( maxfunction, axis=1, arr=predict )\n",
    "\n",
    "print(prediction)\n",
    "\n",
    "filepath = 'E:\\Project 103\\prediction_count'\n",
    "images = glob(filepath + '/*.jpg')\n",
    "\n",
    "for f in images:\n",
    "    os.remove(f)"
   ]
  },
  {
   "cell_type": "code",
   "execution_count": 119,
   "metadata": {},
   "outputs": [
    {
     "name": "stdout",
     "output_type": "stream",
     "text": [
      "Kill:  1\n",
      "Death:  6\n"
     ]
    }
   ],
   "source": [
    "z=0\n",
    "kill_count=0\n",
    "death_count=0\n",
    "threshold=7\n",
    "range_=10\n",
    "\n",
    "for i in prediction:\n",
    "    if z>=len(prediction):\n",
    "        break\n",
    "    \n",
    "    elif prediction[z]==1:\n",
    "            prove = prediction[z:(z+range_)]\n",
    "            #print(z,':for 1')\n",
    "            counter=collections.Counter(prove)\n",
    "            dictionary = dict(counter)\n",
    "            try:\n",
    "                if dictionary[1]>=threshold:\n",
    "                    #print('kill!')\n",
    "                    kill_count+=1\n",
    "                    \n",
    "                    z=z+threshold-1\n",
    "                   \n",
    "            except:\n",
    "                #print('oops')\n",
    "                pass\n",
    "            \n",
    "    elif prediction[z]==0:\n",
    "            prove = prediction[z:(z+range_)]\n",
    "            counter=collections.Counter(prove)\n",
    "            dictionary = dict(counter)\n",
    "            #print(z, ':for 2')\n",
    "            try:\n",
    "                if dictionary[0]>=threshold:\n",
    "                    #print('death!')\n",
    "                    \n",
    "                    death_count+=1\n",
    "                    z=z+threshold-1\n",
    "            except:\n",
    "                #print('oops')\n",
    "                pass\n",
    "            \n",
    "    else:\n",
    "        pass\n",
    "    #print(prove)\n",
    "    \n",
    "    z+=1\n",
    "    #print(z)\n",
    "print('Kill: ',kill_count)\n",
    "print('Death: ',death_count)\n",
    "\n"
   ]
  },
  {
   "cell_type": "code",
   "execution_count": 59,
   "metadata": {},
   "outputs": [],
   "source": [
    "filepath = 'E:\\Project 103\\prediction_count'\n",
    "images = glob(filepath + '/*.jpg')\n",
    "\n",
    "for f in images:\n",
    "    os.remove(f)"
   ]
  },
  {
   "cell_type": "code",
   "execution_count": 342,
   "metadata": {},
   "outputs": [
    {
     "name": "stdout",
     "output_type": "stream",
     "text": [
      "[2 2 2 2 2 2 2 2 2 2 2 2 2 2 2 2 0 0 2 2 2 2 2 2 2 0 2 2 2 2 2 2 2 2 2 2 2\n",
      " 2 2 2 2 2 2 2 2 2 2 2 2 2 2 2 2 2 2 2 2 0 2 2 2 2 2 2 0 2 2 2 2 2 2 2 0 0\n",
      " 0 0 0 2 0 0 0 2 2 2 2 2 2 2 2 2 2 2 2 2 2 2 2 2 2 2 2 2 2 2 2 2 2 2 2 2 2\n",
      " 2 0 2 2 0 2 2 2 2 2]\n"
     ]
    }
   ],
   "source": [
    "def frame_no(video_name):\n",
    "    cap= cv2.VideoCapture(video_name)\n",
    "    i=0\n",
    "    while(cap.isOpened()):\n",
    "        ret, frame = cap.read()\n",
    "        if ret == False:\n",
    "            break\n",
    "    \n",
    "        frameId = cap.get(1)\n",
    "    \n",
    "    #cap.release()\n",
    "    #cv2.destroyAllWindows()\n",
    "    return frameId\n",
    "\n",
    "filepath = 'E:\\Project 103\\prediction_count'\n",
    "j=0\n",
    "video_name = 'z1short.mp4'\n",
    "\n",
    "cap= cv2.VideoCapture(video_name)\n",
    "fps = cap.get(cv2.CAP_PROP_FPS)     \n",
    "frame_count = int(cap.get(cv2.CAP_PROP_FRAME_COUNT))\n",
    "duration = int(frame_count/fps)\n",
    "\n",
    "frame_needed = duration*2\n",
    "\n",
    "tot_frame = frame_no(video_name)\n",
    "while(cap.isOpened()):\n",
    "    ret, frame = cap.read()\n",
    "    if ret == False:\n",
    "        break\n",
    "    frameId = cap.get(1)\n",
    "\n",
    "    a = np.linspace(0, tot_frame, frame_needed)\n",
    "\n",
    "    for i in range(len(a)):\n",
    "        if (frameId == math.floor(a[i])):\n",
    "            final_filepath = os.path.join(filepath, 'predict_frame'+str(j)+'.jpg')\n",
    "            cv2.imwrite(final_filepath,frame)\n",
    "            j+=1\n",
    "\n",
    "cap.release()\n",
    "cv2.destroyAllWindows()\n",
    "\n",
    "images = glob(filepath + '/*.jpg')\n",
    "\n",
    "prediction_images = []\n",
    "predict = []\n",
    "predict2 = []\n",
    "for i in range(len(images)):\n",
    "    img = image.load_img(images[i], target_size=(224,224,3))\n",
    "    img = image.img_to_array(img)\n",
    "    img = img / 255\n",
    "    prediction_images.append(img)\n",
    "\n",
    "prediction_images = np.array(prediction_images)\n",
    "prediction_images = base_model.predict(prediction_images)\n",
    "prediction_images = prediction_images.reshape(prediction_images.shape[0], 7*7*512)\n",
    "predict = model.predict(prediction_images)\n",
    "a = np.argmax(predict)\n",
    "#print(predict)\n",
    "def maxfunction(x):\n",
    "        return np.argmax(x)\n",
    "\n",
    "prediction2 = np.apply_along_axis( maxfunction, axis=1, arr=predict )\n",
    "\n",
    "print(prediction2)"
   ]
  },
  {
   "cell_type": "code",
   "execution_count": 343,
   "metadata": {},
   "outputs": [
    {
     "name": "stdout",
     "output_type": "stream",
     "text": [
      "Kill:  0\n",
      "Death:  1\n"
     ]
    }
   ],
   "source": [
    "z=0\n",
    "kill_count=0\n",
    "death_count=0\n",
    "threshold=7\n",
    "range_=10\n",
    "\n",
    "for i in prediction2:\n",
    "    if z>=len(prediction2):\n",
    "        break\n",
    "    \n",
    "    elif prediction2[z]==1:\n",
    "            prove = prediction2[z:(z+range_)]\n",
    "            #print(z,':for 1')\n",
    "            counter=collections.Counter(prove)\n",
    "            dictionary = dict(counter)\n",
    "            try:\n",
    "                if dictionary[1]>=threshold:\n",
    "                    #print('kill!')\n",
    "                    kill_count+=1\n",
    "                    \n",
    "                    z=z+threshold-1\n",
    "                   \n",
    "            except:\n",
    "                #print('oops')\n",
    "                pass\n",
    "    elif prediction2[z]==0:\n",
    "            prove = prediction2[z:(z+range_)]\n",
    "            counter=collections.Counter(prove)\n",
    "            dictionary = dict(counter)\n",
    "            #print(z, ':for 2')\n",
    "            try:\n",
    "                if dictionary[0]>=threshold:\n",
    "                    #print('death!')\n",
    "                    \n",
    "                    death_count+=1\n",
    "                    z=z+threshold-1\n",
    "            except:\n",
    "                #print('oops')\n",
    "                pass\n",
    "    else:\n",
    "        pass\n",
    "    #print(prove)\n",
    "    \n",
    "    z+=1\n",
    "    #print(z)\n",
    "print('Kill: ',kill_count)\n",
    "print('Death: ',death_count)"
   ]
  },
  {
   "cell_type": "code",
   "execution_count": 324,
   "metadata": {},
   "outputs": [
    {
     "data": {
      "text/plain": [
       "[4, 5]"
      ]
     },
     "execution_count": 324,
     "metadata": {},
     "output_type": "execute_result"
    }
   ],
   "source": [
    "a=[1,2,3,4,5]\n",
    "a[3:5]"
   ]
  },
  {
   "cell_type": "code",
   "execution_count": 288,
   "metadata": {},
   "outputs": [
    {
     "data": {
      "text/plain": [
       "61"
      ]
     },
     "execution_count": 288,
     "metadata": {},
     "output_type": "execute_result"
    }
   ],
   "source": []
  },
  {
   "cell_type": "code",
   "execution_count": 289,
   "metadata": {},
   "outputs": [
    {
     "name": "stdout",
     "output_type": "stream",
     "text": [
      "Kill:  0\n",
      "Death:  1\n"
     ]
    }
   ],
   "source": []
  },
  {
   "cell_type": "code",
   "execution_count": null,
   "metadata": {},
   "outputs": [],
   "source": [
    "cap = cv2.VideoCapture(\"z1short.mp4\")\n",
    "fps = cap.get(cv2.CAP_PROP_FPS)     \n",
    "frame_count = int(cap.get(cv2.CAP_PROP_FRAME_COUNT))\n",
    "duration = int(frame_count/fps)\n",
    "duration"
   ]
  },
  {
   "cell_type": "code",
   "execution_count": 248,
   "metadata": {},
   "outputs": [
    {
     "data": {
      "text/plain": [
       "7"
      ]
     },
     "execution_count": 248,
     "metadata": {},
     "output_type": "execute_result"
    }
   ],
   "source": [
    "a = prediction[101:108]\n",
    "len(a)"
   ]
  },
  {
   "cell_type": "code",
   "execution_count": 136,
   "metadata": {},
   "outputs": [
    {
     "data": {
      "text/plain": [
       "array(['death', 'kill', 'NoAction'], dtype=object)"
      ]
     },
     "execution_count": 136,
     "metadata": {},
     "output_type": "execute_result"
    }
   ],
   "source": [
    "y_train.columns.values"
   ]
  },
  {
   "cell_type": "code",
   "execution_count": 117,
   "metadata": {},
   "outputs": [
    {
     "data": {
      "text/plain": [
       "(5,)"
      ]
     },
     "execution_count": 117,
     "metadata": {},
     "output_type": "execute_result"
    }
   ],
   "source": [
    "prediction.shape"
   ]
  },
  {
   "cell_type": "code",
   "execution_count": 113,
   "metadata": {},
   "outputs": [
    {
     "name": "stdout",
     "output_type": "stream",
     "text": [
      "E:\\Project 103\\prediction_count\\predict_frame0.jpg\n",
      "E:\\Project 103\\prediction_count\\predict_frame1.jpg\n",
      "E:\\Project 103\\prediction_count\\predict_frame2.jpg\n",
      "E:\\Project 103\\prediction_count\\predict_frame3.jpg\n",
      "E:\\Project 103\\prediction_count\\predict_frame4.jpg\n"
     ]
    }
   ],
   "source": [
    "for i in images:\n",
    "    print(i)"
   ]
  },
  {
   "cell_type": "code",
   "execution_count": 95,
   "metadata": {},
   "outputs": [
    {
     "data": {
      "text/plain": [
       "78.33333333333333"
      ]
     },
     "execution_count": 95,
     "metadata": {},
     "output_type": "execute_result"
    }
   ],
   "source": [
    "from sklearn.metrics import accuracy_score\n",
    "accuracy_score(predict, actual)*100"
   ]
  },
  {
   "cell_type": "code",
   "execution_count": 72,
   "metadata": {},
   "outputs": [
    {
     "data": {
      "text/plain": [
       "['kill',\n",
       " 'NoAction',\n",
       " 'NoAction',\n",
       " 'kill',\n",
       " 'NoAction',\n",
       " 'kill',\n",
       " 'NoAction',\n",
       " 'death',\n",
       " 'death',\n",
       " 'death',\n",
       " 'kill',\n",
       " 'NoAction',\n",
       " 'death',\n",
       " 'kill',\n",
       " 'death',\n",
       " 'death',\n",
       " 'kill',\n",
       " 'death',\n",
       " 'death',\n",
       " 'death',\n",
       " 'kill',\n",
       " 'kill',\n",
       " 'NoAction',\n",
       " 'death',\n",
       " 'kill',\n",
       " 'NoAction',\n",
       " 'death',\n",
       " 'NoAction',\n",
       " 'NoAction',\n",
       " 'NoAction',\n",
       " 'kill',\n",
       " 'NoAction',\n",
       " 'death',\n",
       " 'kill',\n",
       " 'death',\n",
       " 'kill',\n",
       " 'kill',\n",
       " 'death',\n",
       " 'NoAction',\n",
       " 'NoAction',\n",
       " 'kill',\n",
       " 'NoAction',\n",
       " 'NoAction',\n",
       " 'kill',\n",
       " 'death',\n",
       " 'death',\n",
       " 'NoAction',\n",
       " 'death',\n",
       " 'death',\n",
       " 'death',\n",
       " 'kill',\n",
       " 'kill',\n",
       " 'NoAction',\n",
       " 'death',\n",
       " 'NoAction',\n",
       " 'kill',\n",
       " 'kill',\n",
       " 'NoAction',\n",
       " 'death',\n",
       " 'NoAction']"
      ]
     },
     "execution_count": 72,
     "metadata": {},
     "output_type": "execute_result"
    }
   ],
   "source": [
    "predict"
   ]
  },
  {
   "cell_type": "code",
   "execution_count": null,
   "metadata": {},
   "outputs": [],
   "source": []
  },
  {
   "cell_type": "code",
   "execution_count": 81,
   "metadata": {},
   "outputs": [
    {
     "name": "stdout",
     "output_type": "stream",
     "text": [
      "Counter({'death': 21, 'NoAction': 20, 'kill': 19})\n"
     ]
    }
   ],
   "source": [
    "import collections\n",
    "counter=collections.Counter(predict)\n",
    "print(counter)"
   ]
  },
  {
   "cell_type": "code",
   "execution_count": 82,
   "metadata": {},
   "outputs": [
    {
     "name": "stdout",
     "output_type": "stream",
     "text": [
      "Counter({'death': 20, 'NoAction': 20, 'kill': 20})\n"
     ]
    }
   ],
   "source": [
    "counter=collections.Counter(actual)\n",
    "print(counter)"
   ]
  },
  {
   "cell_type": "code",
   "execution_count": 5,
   "metadata": {},
   "outputs": [
    {
     "name": "stdout",
     "output_type": "stream",
     "text": [
      "Model: \"sequential\"\n",
      "_________________________________________________________________\n",
      "Layer (type)                 Output Shape              Param #   \n",
      "=================================================================\n",
      "dense (Dense)                (None, 1024)              25691136  \n",
      "_________________________________________________________________\n",
      "dropout (Dropout)            (None, 1024)              0         \n",
      "_________________________________________________________________\n",
      "dense_1 (Dense)              (None, 512)               524800    \n",
      "_________________________________________________________________\n",
      "dropout_1 (Dropout)          (None, 512)               0         \n",
      "_________________________________________________________________\n",
      "dense_2 (Dense)              (None, 256)               131328    \n",
      "_________________________________________________________________\n",
      "dropout_2 (Dropout)          (None, 256)               0         \n",
      "_________________________________________________________________\n",
      "dense_3 (Dense)              (None, 128)               32896     \n",
      "_________________________________________________________________\n",
      "dropout_3 (Dropout)          (None, 128)               0         \n",
      "_________________________________________________________________\n",
      "dense_4 (Dense)              (None, 3)                 387       \n",
      "=================================================================\n",
      "Total params: 26,380,547\n",
      "Trainable params: 26,380,547\n",
      "Non-trainable params: 0\n",
      "_________________________________________________________________\n"
     ]
    }
   ],
   "source": [
    "model.load_weights(\"weight_vgg16_final1.hdf5\")\n",
    "model.compile(loss='categorical_crossentropy',optimizer='Adam',metrics=['accuracy'])\n",
    "model.summary()"
   ]
  },
  {
   "cell_type": "code",
   "execution_count": 36,
   "metadata": {},
   "outputs": [
    {
     "name": "stderr",
     "output_type": "stream",
     "text": [
      "100%|██████████████████████████████████████████████████████████████████████████████████| 60/60 [01:23<00:00,  1.38s/it]\n"
     ]
    }
   ],
   "source": [
    "from scipy import stats as s\n",
    "predict = []\n",
    "actual = []\n",
    "if not os.path.exists(test_frames_path):\n",
    "    os.makedirs(test_frames_path)\n",
    "\n",
    "for i in tqdm(range(test.shape[0])):\n",
    "    video_file = test['Video_url'][i]\n",
    "    action = test['action'][i]\n",
    "    video_name_list = video_file.split('/')[-1].split('.')\n",
    "    video_name_list = video_name_list[:-1]\n",
    "    video_name = \"\"\n",
    "    for n in video_name_list:\n",
    "        video_name += n\n",
    "    # capturing the video from the given path\n",
    "    capture = cv2.VideoCapture(video_file) \n",
    "    #frame rate\n",
    "    frame_rate = capture.get(5)\n",
    "    count = 0\n",
    "    files = glob(test_frames_path + '/*')\n",
    "    #removing all files from folder\n",
    "    for f in files:\n",
    "        os.remove(f)\n",
    "    while(capture.isOpened()):\n",
    "        #current frame number\n",
    "        frame_id = capture.get(1) \n",
    "        read_correctly, frame = capture.read()\n",
    "        if not read_correctly:\n",
    "            break\n",
    "        if (frame_id % math.floor(frame_rate) == 0):\n",
    "            # storing the frames in a new folder named train_1\n",
    "            filename = test_frames_path + \"/\" + video_name + \"_frame{}_\".format(count) + action +\".jpg\"\n",
    "            count += 1\n",
    "            cv2.imwrite(filename, frame)\n",
    "    capture.release()\n",
    "    \n",
    "    # reading all the frames from temp folder\n",
    "    images = glob(test_frames_path + '/*.jpg')\n",
    "    prediction_images = []\n",
    "    for i in range(len(images)):\n",
    "        img = image.load_img(images[i], target_size=(224,224,3))\n",
    "        img = image.img_to_array(img)\n",
    "        img = img / 255\n",
    "        prediction_images.append(img)\n",
    "        \n",
    "    # converting all the frames for a test video into numpy array\n",
    "    prediction_images = np.array(prediction_images)\n",
    "    #prediction_images = prediction_images / max_pixel\n",
    "    # extracting features using pre-trained model\n",
    "    prediction_images = base_model.predict(prediction_images)\n",
    "    # converting features in one dimensional array\n",
    "    prediction_images = prediction_images.reshape(prediction_images.shape[0], 7*7*512)\n",
    "    # predicting tags for each array\n",
    "    prediction = np.argmax(model.predict(prediction_images), axis=-1)\n",
    "    # appending the mode of predictions in predict list to assign the tag to the video\n",
    "    predict.append(y_train.columns.values[s.mode(prediction)[0][0]])\n",
    "    # appending the actual tag of the video\n",
    "    actual.append(action)"
   ]
  },
  {
   "cell_type": "code",
   "execution_count": 37,
   "metadata": {},
   "outputs": [
    {
     "data": {
      "text/plain": [
       "90.0"
      ]
     },
     "execution_count": 37,
     "metadata": {},
     "output_type": "execute_result"
    }
   ],
   "source": [
    "from sklearn.metrics import accuracy_score\n",
    "accuracy_score(predict, actual)*100"
   ]
  },
  {
   "cell_type": "code",
   "execution_count": 39,
   "metadata": {},
   "outputs": [],
   "source": [
    "X_best_train = X_train\n",
    "y_best_train = y_train\n",
    "\n",
    "X_best_val = X_val\n",
    "y_best_val = y_val\n",
    "\n",
    "test_best = test"
   ]
  },
  {
   "cell_type": "code",
   "execution_count": 40,
   "metadata": {},
   "outputs": [
    {
     "data": {
      "text/plain": [
       "(60, 2)"
      ]
     },
     "execution_count": 40,
     "metadata": {},
     "output_type": "execute_result"
    }
   ],
   "source": [
    "test.shape"
   ]
  },
  {
   "cell_type": "code",
   "execution_count": 41,
   "metadata": {},
   "outputs": [
    {
     "data": {
      "text/plain": [
       "(60, 2)"
      ]
     },
     "execution_count": 41,
     "metadata": {},
     "output_type": "execute_result"
    }
   ],
   "source": [
    "test_best.shape"
   ]
  },
  {
   "cell_type": "code",
   "execution_count": 192,
   "metadata": {},
   "outputs": [],
   "source": []
  },
  {
   "cell_type": "code",
   "execution_count": null,
   "metadata": {},
   "outputs": [],
   "source": []
  }
 ],
 "metadata": {
  "kernelspec": {
   "display_name": "Python 3",
   "language": "python",
   "name": "python3"
  },
  "language_info": {
   "codemirror_mode": {
    "name": "ipython",
    "version": 3
   },
   "file_extension": ".py",
   "mimetype": "text/x-python",
   "name": "python",
   "nbconvert_exporter": "python",
   "pygments_lexer": "ipython3",
   "version": "3.8.5"
  }
 },
 "nbformat": 4,
 "nbformat_minor": 4
}
